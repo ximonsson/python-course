{
 "cells": [
  {
   "cell_type": "markdown",
   "metadata": {},
   "source": [
    "# Python good-to-knows and Object oriented programming\n",
    "\n",
    "This week we will be introducing *object oriented programming*, which is a paradigm within programming, and we will focus on how this applies within Python. Before we go into object oriented programming we are going to look over some special functionalities that are useful in Python.\n",
    "\n",
    "After this class you will know how to:\n",
    " * understand how to model your program in an object oriented way\n",
    " * understand inheritance of classes\n",
    " * understand polymorphism\n",
    " * understand encapsulation"
   ]
  },
  {
   "cell_type": "markdown",
   "metadata": {},
   "source": [
    "## Recap "
   ]
  },
  {
   "cell_type": "markdown",
   "metadata": {},
   "source": [
    "### Class definitions\n",
    "\n",
    "We learned how to define our own types which are called *classes* in Python. We saw how the definition reminds of a function statement, except that instead of defining code that is to run, we define properties to the type"
   ]
  },
  {
   "cell_type": "code",
   "execution_count": null,
   "metadata": {},
   "outputs": [],
   "source": [
    "class A():\n",
    "    x = 10\n",
    "    y = 13"
   ]
  },
  {
   "cell_type": "markdown",
   "metadata": {},
   "source": [
    "Creating a new instance, called *object* of this new type is the same as calling a function:"
   ]
  },
  {
   "cell_type": "code",
   "execution_count": null,
   "metadata": {},
   "outputs": [],
   "source": [
    "a = A()\n",
    "print(\"a.x =\", a.x, \", a.y =\", a.y)"
   ]
  },
  {
   "cell_type": "markdown",
   "metadata": {},
   "source": [
    "### Methods\n",
    "\n",
    "Classes are not restricted to variables as properties like `x` and `y` for the `A` class in the above example, they can also have functions. In this case we call them *methods*."
   ]
  },
  {
   "cell_type": "code",
   "execution_count": null,
   "metadata": {},
   "outputs": [],
   "source": [
    "class A():\n",
    "    x = 10\n",
    "    y = 13\n",
    "    \n",
    "    def foo(self):\n",
    "        \"\"\"\n",
    "        foo returns the sum of x and y\n",
    "        \"\"\"\n",
    "        return self.x + self.y"
   ]
  },
  {
   "cell_type": "code",
   "execution_count": null,
   "metadata": {},
   "outputs": [],
   "source": [
    "a = A()\n",
    "print(\"a.foo() = \", a.foo())"
   ]
  },
  {
   "cell_type": "markdown",
   "metadata": {},
   "source": [
    "As we remember, when defining a new method the first argument is always `self` which refers to the object itself. Through it we can retrieve the properties that are attached to the object."
   ]
  },
  {
   "cell_type": "markdown",
   "metadata": {},
   "source": [
    "### Constructors\n",
    "\n",
    "There are quite a few special methods that you can define for a class to achieve different functionality. One such special method is the `__init__` method which is also called the *constructor*. This method is called whenever a new object of the class type is created and enables us to run some extra setup code. The method can also take input parameters which enables us to create a little more dynamic objects."
   ]
  },
  {
   "cell_type": "code",
   "execution_count": null,
   "metadata": {},
   "outputs": [],
   "source": [
    "import math\n",
    "\n",
    "class Point2D():\n",
    "    def __init__(self, x, y):\n",
    "        \"\"\"\n",
    "        Constructor for the two dimensional point.\n",
    "        \n",
    "        Takes the x and y coordinates. Also calculates the distance from origin\n",
    "        and stores it as a property.\n",
    "        \"\"\"\n",
    "        self.x = x\n",
    "        self.y = y\n",
    "        self.distance = math.sqrt(self.x**2 + self.y**2) "
   ]
  },
  {
   "cell_type": "code",
   "execution_count": null,
   "metadata": {},
   "outputs": [],
   "source": [
    "p = Point2D(2, 2)\n",
    "print(\"Point @ (\", p.x, \",\", p.y, \") has distance\", p.distance)"
   ]
  },
  {
   "cell_type": "markdown",
   "metadata": {},
   "source": [
    "## Some good-to-knows\n",
    "\n",
    "Before we move on to the main topic of this week lets take some time and look at some extra Python goodies that we have not looked at yet."
   ]
  },
  {
   "cell_type": "markdown",
   "metadata": {},
   "source": [
    "### `*args` and `**kwargs`\n",
    "\n",
    "During this course you might have noticed that when we call `print` we do not always use the same amount parameters. In fact it is very flexible in the number of arguments it takes."
   ]
  },
  {
   "cell_type": "code",
   "execution_count": null,
   "metadata": {},
   "outputs": [],
   "source": [
    "print(\"hello\")\n",
    "print(\"hello\", \"world\")"
   ]
  },
  {
   "cell_type": "markdown",
   "metadata": {},
   "source": [
    "However when we learned how to define functions we defined each parameter one-by-one, and in case we called a function without respecting its number of parameters we would get an exception:"
   ]
  },
  {
   "cell_type": "code",
   "execution_count": null,
   "metadata": {},
   "outputs": [],
   "source": [
    "def foo():\n",
    "    return 10\n",
    "\n",
    "foo(13)"
   ]
  },
  {
   "cell_type": "code",
   "execution_count": null,
   "metadata": {},
   "outputs": [],
   "source": [
    "def foo(x):\n",
    "    return x + 10\n",
    "foo()"
   ]
  },
  {
   "cell_type": "markdown",
   "metadata": {},
   "source": [
    "If we want to write functions that take a variable amount of input variables we can use the `*args` and `**kwargs` input parameters.\n",
    "\n",
    "`*args` is a `tuple` with all the parameters that are called with the function:"
   ]
  },
  {
   "cell_type": "code",
   "execution_count": null,
   "metadata": {},
   "outputs": [],
   "source": [
    "def foo(*args):\n",
    "    \"\"\"\n",
    "    Loops over all input parameters and prints them to console.\n",
    "    \"\"\"\n",
    "    print(type(args))\n",
    "    for arg in args:\n",
    "        print(arg)"
   ]
  },
  {
   "cell_type": "code",
   "execution_count": null,
   "metadata": {},
   "outputs": [],
   "source": [
    "foo(1, \"hello\", 13.67, False)"
   ]
  },
  {
   "cell_type": "code",
   "execution_count": null,
   "metadata": {},
   "outputs": [],
   "source": [
    "foo()"
   ]
  },
  {
   "cell_type": "markdown",
   "metadata": {},
   "source": [
    "`foo` in this case can be called with any number of input parameters. If we want to still have some mandatory ones, we can define them first and then add `*args` in the end that will contain the rest:"
   ]
  },
  {
   "cell_type": "code",
   "execution_count": null,
   "metadata": {},
   "outputs": [],
   "source": [
    "def foo(a, b, *args):\n",
    "    print(\"mandatory parameters a and b:\", a, b)\n",
    "    print(\"the rest:\")\n",
    "    for arg in args:\n",
    "        print(arg)"
   ]
  },
  {
   "cell_type": "code",
   "execution_count": null,
   "metadata": {},
   "outputs": [],
   "source": [
    "foo(\"hello\", 10, False, 98.43)"
   ]
  },
  {
   "cell_type": "markdown",
   "metadata": {},
   "source": [
    "We saw that when we define functions we can use key value definitions of the input parameters as well to define default values, and in that case we can omit the variable when calling a function:"
   ]
  },
  {
   "cell_type": "code",
   "execution_count": null,
   "metadata": {},
   "outputs": [],
   "source": [
    "def foo(x=0, y=0):\n",
    "    \"\"\"\n",
    "    foo returns the sum of x and y which both default to zero.\n",
    "    \"\"\"\n",
    "    return x + y\n",
    "\n",
    "print(foo())"
   ]
  },
  {
   "cell_type": "markdown",
   "metadata": {},
   "source": [
    "Using `**kwargs` is the same thing as `*args` but for keyword variables in the form of a `dict`:"
   ]
  },
  {
   "cell_type": "code",
   "execution_count": null,
   "metadata": {},
   "outputs": [],
   "source": [
    "def foo(**kwargs):\n",
    "    for key in kwargs:\n",
    "        print(key, \":\", kwargs[key])\n",
    "        \n",
    "foo(x=13, y=7)"
   ]
  },
  {
   "cell_type": "markdown",
   "metadata": {},
   "source": [
    "You can of course also combine the two:"
   ]
  },
  {
   "cell_type": "code",
   "execution_count": null,
   "metadata": {},
   "outputs": [],
   "source": [
    "def foo(*args, **kwargs):\n",
    "    print(\"unnamed parameters:\")\n",
    "    for arg in args:\n",
    "        print(\"-\", arg)\n",
    "        \n",
    "    print(\"keyword arguments:\")\n",
    "    for key in kwargs:\n",
    "        print(\"-\", key, \":\", kwargs[key])\n",
    "        \n",
    "        \n",
    "foo(192, 45, 3.2, a=\"hello\", b=[True, False, True])"
   ]
  },
  {
   "cell_type": "markdown",
   "metadata": {},
   "source": [
    "### Exercise: Product of input variables\n",
    "\n",
    "Write a function called `product` that takes a variable amount of input variables and *returns* their product:"
   ]
  },
  {
   "cell_type": "code",
   "execution_count": null,
   "metadata": {},
   "outputs": [],
   "source": [
    "# your code here"
   ]
  },
  {
   "cell_type": "code",
   "execution_count": null,
   "metadata": {},
   "outputs": [],
   "source": [
    "product(5, 6, 8, 10) # should output 2400"
   ]
  },
  {
   "cell_type": "markdown",
   "metadata": {},
   "source": [
    "### Decorators\n",
    "\n",
    "Decorators are a nice feature that comes with Python which enables you to envelope a function within another function. It is a way to make sure that each time this function is called some other functionality is called as well without needing to write the extra lines of code within.\n",
    "\n",
    "Following is an example of an implementation of a decorator:"
   ]
  },
  {
   "cell_type": "code",
   "execution_count": null,
   "metadata": {},
   "outputs": [],
   "source": [
    "def dec(f):\n",
    "    # define an inner function that wraps the input variable f\n",
    "    def wrapper():\n",
    "        print(\"running:\", f.__name__) # print name of the function we are going to run\n",
    "        f()                           # run f\n",
    "    \n",
    "    # return the inner function\n",
    "    return wrapper\n",
    "\n",
    "@dec\n",
    "def foo():\n",
    "    print(\"Hello, World\")\n",
    "    \n",
    "foo()"
   ]
  },
  {
   "cell_type": "markdown",
   "metadata": {},
   "source": [
    "We started by defining the function `dec` that defines an inner function `wrapper` which is in the end returned. This inner function calls the input variable to `dec`, `f`, which needs to be a function. Before running `f` it prints a message that it is going to run the function.\n",
    "\n",
    "We also notice how we wrote `@dec` over the definition of `foo`. \n",
    "\n",
    "In practice a decorator is the same as we redefine `foo` to the output of calling `dec` with `foo` as input parameter. In this case the output of `dec` is a new function ( `wrapper`) that prints the name of the input parameter to `dec` and then calls the function.\n",
    "\n",
    "It is therefore the equivalent of doing:"
   ]
  },
  {
   "cell_type": "code",
   "execution_count": null,
   "metadata": {},
   "outputs": [],
   "source": [
    "def newfoo():\n",
    "    print(\"Hello, World\")\n",
    "    \n",
    "newfoo = dec(newfoo)\n",
    "\n",
    "newfoo()"
   ]
  },
  {
   "cell_type": "markdown",
   "metadata": {},
   "source": [
    "Let's look at the following example for a more advanced use case: we have a couple of functions that we want to run and we want to log each time they start and when they end. One approach would be to do the following:"
   ]
  },
  {
   "cell_type": "code",
   "execution_count": null,
   "metadata": {},
   "outputs": [],
   "source": [
    "from datetime import datetime\n",
    "import random\n",
    "import time\n",
    "\n",
    "def load():\n",
    "    print(datetime.now(), \": load...\")\n",
    "    data = [random.randint(0, 1) for _ in range(20)]\n",
    "    time.sleep(1) # let's pretend this takes a lot of time\n",
    "    print(datetime.now(), \": done load\")\n",
    "    return data\n",
    "\n",
    "\n",
    "def preprocess(data):\n",
    "    print(datetime.now(), \": preprocess ...\")\n",
    "    data = [x*10 for x in data]\n",
    "    time.sleep(1) # let's pretend this takes a lot of time\n",
    "    print(datetime.now(), \": done preprocess\")\n",
    "    return data\n",
    "\n",
    "\n",
    "data = load()\n",
    "data = preprocess(data)\n",
    "print(data)"
   ]
  },
  {
   "cell_type": "markdown",
   "metadata": {},
   "source": [
    "As we saw we needed to add the `print` statements to the beginning and the end of all the functions we want to some logging for. This goes as well for any future functions. With decorators we can save the trouble of remembering this all the time and not dirty the code within the functions with the print statements:"
   ]
  },
  {
   "cell_type": "code",
   "execution_count": null,
   "metadata": {},
   "outputs": [],
   "source": [
    "def logged(f):\n",
    "    def wrapper(*args):\n",
    "        print(datetime.now(), \":\", f.__name__, \"...\")\n",
    "        res = f(*args)\n",
    "        print(datetime.now(), \": done\", f.__name__, \"...\")\n",
    "        return res\n",
    "    return wrapper\n",
    "\n",
    "@logged\n",
    "def load():\n",
    "    data = [random.randint(0, 1) for _ in range(20)]\n",
    "    time.sleep(1) # let's pretend this takes a lot of time\n",
    "    return data\n",
    "\n",
    "@logged\n",
    "def preprocess(data):\n",
    "    data = [x*10 for x in data]\n",
    "    time.sleep(1) # let's pretend this takes a lot of time\n",
    "    return data\n",
    "\n",
    "data = load()\n",
    "data = preprocess(data)\n",
    "print(data)"
   ]
  },
  {
   "cell_type": "markdown",
   "metadata": {},
   "source": [
    "Lets have a quick look at what we did.\n",
    "\n",
    "We started by defining a function called `logged` which takes an input parameter `f`:\n",
    "```python\n",
    "def logged(f):\n",
    "    def wrapper(*args):\n",
    "        print(datetime.now(), \":\", f.__name__, \"...\")\n",
    "        res = f(*args)\n",
    "        print(datetime.now(), \": done\", f.__name__, \"...\")\n",
    "        return res\n",
    "    return wrapper\n",
    "```\n",
    "It defines an inner function `wrapper` which is also the return variable. `wrapper` takes a variable number of input parameters (`*args`) which are passed to `f`, and any output from calling `f` is stored in `res`:\n",
    "\n",
    "```python\n",
    "res = f(*args)\n",
    "```\n",
    "\n",
    "We can see that calling `f` is wrapped by two `print` statements that log when the function starts and ends. In the end the output of `f` in `res` is returned."
   ]
  },
  {
   "cell_type": "markdown",
   "metadata": {},
   "source": [
    "### Copy vs reference\n",
    "\n",
    "If you already know C, while learning Python (to your great relief maybe) you might have noticed that there are no *pointers*. \n",
    "\n",
    "You might remember from C that if you assigned from a variable to a new one that is not a pointer, the new variable will recieve a *copy* of the other's value. While if you use a pointer the new variable will refer to same memory space, meaning any changes to the new variable affect the previous one as well.\n",
    "\n",
    "In fact in Python it is *always* a pointer, *except* for the *primitive* types."
   ]
  },
  {
   "cell_type": "code",
   "execution_count": null,
   "metadata": {},
   "outputs": [],
   "source": [
    "# list is not a primitive type\n",
    "\n",
    "# create a new list li\n",
    "li = [1,2,3,4,5]\n",
    "\n",
    "# create a new variable lii that is assigned li\n",
    "# then modify lii at index 1\n",
    "lii = li \n",
    "lii[1] = 10\n",
    "\n",
    "print(\"li =\", li)\n",
    "print(\"lii =\", lii)"
   ]
  },
  {
   "cell_type": "code",
   "execution_count": null,
   "metadata": {},
   "outputs": [],
   "source": [
    "# int is a primitive type\n",
    "\n",
    "# create a new int\n",
    "x = 10\n",
    "\n",
    "# create a new variable y which is assigned x\n",
    "# then modify y\n",
    "y = x\n",
    "y = 13\n",
    "\n",
    "print(\"x =\", x)\n",
    "print(\"y =\", y)"
   ]
  },
  {
   "cell_type": "markdown",
   "metadata": {},
   "source": [
    "## Object oriented programming\n",
    "\n",
    "Object oriented programming is a programming paradigm, an idea of how to write your program. It is based on the concept of *objects* that contain data and methods that interact with each other and are able to modify themselves (self).\n",
    "\n",
    "Python is considered a *general purpose language*, meaning that you write according to which paradigm suits you best. From what we have seen about classes already, we see that Python offers all the criteria to write in an object oriented way. We can define classes with properties and methods, which we can create objects of.\n",
    "\n",
    "Lets introduce some other ideas behind object oriented programming."
   ]
  },
  {
   "cell_type": "markdown",
   "metadata": {},
   "source": [
    "### Inheritance\n",
    "\n",
    "*Inheritance* means is here refered to in the sense of inheriting functionality. This means we can create classes that act as parents, and then define children classes that inherit the properties and methods from their parents."
   ]
  },
  {
   "cell_type": "code",
   "execution_count": null,
   "metadata": {},
   "outputs": [],
   "source": [
    "\"\"\"\n",
    "Define a class A that has an fn method.\n",
    "Then define a class B that inherits from A.\n",
    "\"\"\"\n",
    "\n",
    "class A():\n",
    "    def fn(self):\n",
    "        print(\"This method was defined in A\")\n",
    "        \n",
    "\n",
    "class B(A): # putting A here means we inherit from it\n",
    "    def foo(self):\n",
    "        print(\"This method was defined in B\")"
   ]
  },
  {
   "cell_type": "code",
   "execution_count": null,
   "metadata": {},
   "outputs": [],
   "source": [
    "b = B()\n",
    "b.fn()\n",
    "b.foo()"
   ]
  },
  {
   "cell_type": "markdown",
   "metadata": {},
   "source": [
    "Notice how interitance is just down towards the children, and not up to parents."
   ]
  },
  {
   "cell_type": "code",
   "execution_count": null,
   "metadata": {},
   "outputs": [],
   "source": [
    "a = A()\n",
    "a.fn()\n",
    "a.foo()"
   ]
  },
  {
   "cell_type": "markdown",
   "metadata": {},
   "source": [
    "There are cases you might want to overwrite functions that are inherited. No problem, we just need to define it in the children class."
   ]
  },
  {
   "cell_type": "code",
   "execution_count": null,
   "metadata": {},
   "outputs": [],
   "source": [
    "class A():\n",
    "    def fn(self):\n",
    "        print(\"This method was defined in A\")\n",
    "        \n",
    "class B(A):\n",
    "    def fn(self):\n",
    "        print(\"This method was overwritten in B\")"
   ]
  },
  {
   "cell_type": "code",
   "execution_count": null,
   "metadata": {},
   "outputs": [],
   "source": [
    "b = B()\n",
    "b.fn()"
   ]
  },
  {
   "cell_type": "markdown",
   "metadata": {},
   "source": [
    "But we might want to invoke the functionality of the parent class even in a function we are overwriting. This can be done using the `super` function which returns a reference to the parent class."
   ]
  },
  {
   "cell_type": "code",
   "execution_count": null,
   "metadata": {},
   "outputs": [],
   "source": [
    "class A():\n",
    "    def fn(self):\n",
    "        print(\"This method was defined in A\")\n",
    "        \n",
    "class B(A):\n",
    "    def fn(self):\n",
    "        super().fn()\n",
    "        print(\"This method was extended in B\")"
   ]
  },
  {
   "cell_type": "code",
   "execution_count": null,
   "metadata": {},
   "outputs": [],
   "source": [
    "b = B()\n",
    "b.fn()"
   ]
  },
  {
   "cell_type": "markdown",
   "metadata": {},
   "source": [
    "#### Exercise: Area of different quadrelaterals\n",
    "\n",
    "Rectangles and squares are both quadrelaterals and their area is computed the same way `width x height`. Only difference between squares and rectangles is that `width = height` for squares.\n",
    "\n",
    "Implement a parent class `Quadrelateral` that implements an `area` method. Then implement the classes `Rectangle` and `Square` which inherit `Quadrelateral` and the `area` method."
   ]
  },
  {
   "cell_type": "code",
   "execution_count": null,
   "metadata": {},
   "outputs": [],
   "source": [
    "# your code here"
   ]
  },
  {
   "cell_type": "code",
   "execution_count": null,
   "metadata": {},
   "outputs": [],
   "source": [
    "sq = Square(10)\n",
    "print(\"square area =\", sq.area())\n",
    "\n",
    "re = Rectangle(20, 57)\n",
    "print(\"rectangle area =\", re.area())"
   ]
  },
  {
   "cell_type": "markdown",
   "metadata": {},
   "source": [
    "###  Polymorphism\n",
    "\n",
    "There are moments we work with a number of variable that are of a certain type, even different types, but we only need to be assured that they have some functionality in common. For example you might have different shapes drawn on the screen and you want to fill all of them with a certain color. You don't want to think about which type has what method to fill, you just want to call the same method `fill` for all variables that represent a shape on the screen. This is called *polymorphism*, which means that we are working with variables that all have a common an abstract class. This means that each variable is of a type that defines the same methods and properties as this abstract class. \n",
    "\n",
    "Lets see an example to get a better idea: we have a number of animals, and we do not care so much about exactly which animal they are all of, we just all want them to make their unique sound through a `sound` method. In Python we do this by making sure that all classes that define a specific animal implement a `sound` method. Some programming languages use the term *interface* for the astract class, others have something called *virtual methods*."
   ]
  },
  {
   "cell_type": "code",
   "execution_count": null,
   "metadata": {},
   "outputs": [],
   "source": [
    "class Cat():\n",
    "    def sound(self):\n",
    "        return \"meow\"\n",
    "    \n",
    "class Dog():\n",
    "    def sound(self):\n",
    "        return \"woof\"\n",
    "    \n",
    "class Student():\n",
    "    def sound(self):\n",
    "        return \"what?\"\n",
    "    \n",
    "class Cow():\n",
    "    def sound(self):\n",
    "        return \"moo\"\n",
    "    \n",
    "animals = [Cat(), Dog(), Student(), Cow()]\n",
    "for a in animals:\n",
    "    print(a.sound())"
   ]
  },
  {
   "cell_type": "markdown",
   "metadata": {},
   "source": [
    "As we can see in Python polymorphism is not enforced except during runtime. It is more an idea of how you create your classes and make sure that some share common methods in the purpose of later writing code where you do not need to keep track of the individual types of the objects. There are other programming languages that are much stricter in this sense."
   ]
  },
  {
   "cell_type": "markdown",
   "metadata": {},
   "source": [
    "### Encapsulation\n",
    "\n",
    "There are cases where you might not want to expose all properties and methods of a class. If someone would for change a property of an object without going through the \"correct way\" it might have unexpected effects on the rest of your program. \n",
    "\n",
    "For this purpose we have *encapsulation*. By using `__` as prefix for a method or property it becomes hidden to others than it`self`."
   ]
  },
  {
   "cell_type": "code",
   "execution_count": null,
   "metadata": {},
   "outputs": [],
   "source": [
    "class A():\n",
    "    __x = 10"
   ]
  },
  {
   "cell_type": "code",
   "execution_count": null,
   "metadata": {},
   "outputs": [],
   "source": [
    "a = A()\n",
    "print(a.__x)"
   ]
  },
  {
   "cell_type": "markdown",
   "metadata": {},
   "source": [
    "From the above example we saw that we can not access `__x` from the outside, but it exists without a doubt within methods of `A`:"
   ]
  },
  {
   "cell_type": "code",
   "execution_count": null,
   "metadata": {},
   "outputs": [],
   "source": [
    "class A():\n",
    "    __x = 10\n",
    "    \n",
    "    def fn(self):\n",
    "        print(\"self.__x =\", self.__x)"
   ]
  },
  {
   "cell_type": "code",
   "execution_count": null,
   "metadata": {},
   "outputs": [],
   "source": [
    "a = A()\n",
    "a.fn()"
   ]
  },
  {
   "cell_type": "markdown",
   "metadata": {},
   "source": [
    "It is a little funny that we can actually assign to `__x` from the outside, but this does not affect the value within the methods:"
   ]
  },
  {
   "cell_type": "code",
   "execution_count": null,
   "metadata": {},
   "outputs": [],
   "source": [
    "a.__x = 13\n",
    "print(\"a.__x =\", a.__x)\n",
    "a.fn()"
   ]
  },
  {
   "cell_type": "markdown",
   "metadata": {},
   "source": [
    "### Exercise: Binary search tree [optional]\n",
    "\n",
    "As a larger programming exercise within object oriented programming you could try to implement a [Binary search tree](https://en.wikipedia.org/wiki/Binary_search_tree). \n",
    "\n",
    "A tree is a directed graph consisting of a number of nodes with a unique value. The top one (the root) has no parents, and has edges (branches) to its children, whom in turn have their own children, continuing down to the child-less nodes (leaves). A binary search tree is a special form of these trees where each node is restricted to two children. The left branch goes to a value smaller than the node, and the right one goes to a larger one. Below is a visual representation of a binary search tree.\n",
    "\n",
    "<img src=\"https://upload.wikimedia.org/wikipedia/commons/d/da/Binary_search_tree.svg\" style=\"width:300px\">\n",
    "\n",
    "Binary search trees are a very convenient data structure when speed is a requirement and perform very well when searching for values. It is therefore good to know about them."
   ]
  },
  {
   "cell_type": "markdown",
   "metadata": {},
   "source": [
    "You are free to implement the tree as you wish but seeing how you should do this in an object oriented way I recommend creating a class `BinarySearchTree` that has two required methods:\n",
    "\n",
    "  * `insert(self, value)`: this method takes a new value, creates a new node for it, and updates the tree correctly for the new value. The following pseudocode describes how insertion works. Basically it starts at a node (the root), checks if the value of the node is smaller or larger than the value in question, then based on this checks if the node already has a child to the left or right. In case it does it recursively tries to insert at the child, else it creates a new node that is assigned as child to the current node.\n",
    "  ```\n",
    "  insert(node, value):\n",
    "      if value < node.value:\n",
    "          if node.left == NULL:\n",
    "              node.left = new Node(value)\n",
    "          else:\n",
    "              insert(node.left, value)\n",
    "      else if value > node.value:\n",
    "          if node.right == NULL:\n",
    "              node.right = new Node(value)\n",
    "          else:\n",
    "              insert(node.right, value)\n",
    "  ```\n",
    "  * `search(self, value)` finds the node with the required value in the tree. This one is simpler to implement than insertion. Here is a version that returns NULL if the node in question is not found:\n",
    "  ```\n",
    "  search(value):\n",
    "      node = root\n",
    "      while node != NULL && node.value != value:\n",
    "          if value < node.value:\n",
    "              node = node.left\n",
    "          else:\n",
    "              node = node.right\n",
    "      return node\n",
    "  ```"
   ]
  },
  {
   "cell_type": "markdown",
   "metadata": {},
   "source": [
    "**TIP** As a tip you are probably going to want to implement a class called `Node` for the nodes within the tree. Python has support for inner classes which can make things better structured:"
   ]
  },
  {
   "cell_type": "code",
   "execution_count": null,
   "metadata": {},
   "outputs": [],
   "source": [
    "class A():\n",
    "    \n",
    "    class A_inner():\n",
    "        \"\"\"\n",
    "        A_inner is an inner class to A that has a property x.\n",
    "        \"\"\"\n",
    "        x = 13\n",
    "    \n",
    "    def __init__(self):\n",
    "        self.inner = self.A_inner() # create an object of the inner class\n",
    "    \n",
    "a = A()\n",
    "print(a.inner.x)"
   ]
  },
  {
   "cell_type": "markdown",
   "metadata": {},
   "source": [
    "**TIP** Another tip is to remember that a tree is more or less just a pointer to a root Node"
   ]
  }
 ],
 "metadata": {
  "kernelspec": {
   "display_name": "Python 3",
   "language": "python",
   "name": "python3"
  },
  "language_info": {
   "codemirror_mode": {
    "name": "ipython",
    "version": 3
   },
   "file_extension": ".py",
   "mimetype": "text/x-python",
   "name": "python",
   "nbconvert_exporter": "python",
   "pygments_lexer": "ipython3",
   "version": "3.7.2"
  }
 },
 "nbformat": 4,
 "nbformat_minor": 2
}
