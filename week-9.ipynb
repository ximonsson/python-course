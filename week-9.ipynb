{
 "cells": [
  {
   "cell_type": "markdown",
   "metadata": {},
   "source": [
    "# Object oriented programming\n",
    "\n",
    "This week we will be introducing *object oriented programming*, which is a paradigm within programming, and we will focus on how this applies within Python. Before we go into object oriented programming we are going to look over some special functionalities that you can use within Python.\n",
    "\n",
    "After this class you will know how to:\n",
    " * understand inheritance of classes\n",
    " * "
   ]
  },
  {
   "cell_type": "markdown",
   "metadata": {},
   "source": [
    "## Recap "
   ]
  },
  {
   "cell_type": "markdown",
   "metadata": {},
   "source": [
    "### Class definitions\n",
    "\n",
    "We learned how to define our own types which are called *classes* in Python. We saw how the definition reminds of a function statement, except that instead of defining code that is to run, we define properties to the type"
   ]
  },
  {
   "cell_type": "code",
   "execution_count": 2,
   "metadata": {},
   "outputs": [],
   "source": [
    "class A():\n",
    "    x = 10\n",
    "    y = 13"
   ]
  },
  {
   "cell_type": "markdown",
   "metadata": {},
   "source": [
    "Creating a new instance, called *object* of this new type is the same as calling a function:"
   ]
  },
  {
   "cell_type": "code",
   "execution_count": 8,
   "metadata": {},
   "outputs": [
    {
     "name": "stdout",
     "output_type": "stream",
     "text": [
      "a.x = 10 , a.y = 13\n"
     ]
    }
   ],
   "source": [
    "a = A()\n",
    "print(\"a.x =\", a.x, \", a.y =\", a.y)"
   ]
  },
  {
   "cell_type": "markdown",
   "metadata": {},
   "source": [
    "### Methods\n",
    "\n",
    "Classes are not restricted to variables as properties like `x` and `y` for the `A` class in the above example, they can also have functions. In this case we call them *methods*."
   ]
  },
  {
   "cell_type": "code",
   "execution_count": 4,
   "metadata": {},
   "outputs": [],
   "source": [
    "class A():\n",
    "    x = 10\n",
    "    y = 13\n",
    "    \n",
    "    def foo(self):\n",
    "        \"\"\"\n",
    "        foo returns the sum of x and y\n",
    "        \"\"\"\n",
    "        return self.x + self.y"
   ]
  },
  {
   "cell_type": "code",
   "execution_count": 9,
   "metadata": {},
   "outputs": [
    {
     "name": "stdout",
     "output_type": "stream",
     "text": [
      "a.foo() =  23\n"
     ]
    }
   ],
   "source": [
    "a = A()\n",
    "print(\"a.foo() = \", a.foo())"
   ]
  },
  {
   "cell_type": "markdown",
   "metadata": {},
   "source": [
    "As we remember, when defining a new method the first argument is always `self` which refers to the object itself. Through it we can retrieve the properties that are attached to the object."
   ]
  },
  {
   "cell_type": "markdown",
   "metadata": {},
   "source": [
    "### Constructors\n",
    "\n",
    "There are quite a few special methods that you can define for a class to achieve different functionality. One such special method is the `__init__` method which is also called the *constructor*. This method is called whenever a new object of the class type is created and enables us to some extra preprocessing. The method can also take input parameters which enables us to create a little more dynamic objects."
   ]
  },
  {
   "cell_type": "code",
   "execution_count": 11,
   "metadata": {},
   "outputs": [],
   "source": [
    "import math\n",
    "\n",
    "class Point2D():\n",
    "    def __init__(self, x, y):\n",
    "        \"\"\"\n",
    "        Constructor for the two dimensional point.\n",
    "        \n",
    "        Takes the x and y coordinates. Also calculates the distance from origin\n",
    "        and stores it as a property.\n",
    "        \"\"\"\n",
    "        self.x = x\n",
    "        self.y = y\n",
    "        self.length = math.sqrt(self.x**2 + self.y**2) "
   ]
  },
  {
   "cell_type": "code",
   "execution_count": 13,
   "metadata": {},
   "outputs": [
    {
     "name": "stdout",
     "output_type": "stream",
     "text": [
      "Point @ ( 2 , 2 ) has length 2.8284271247461903\n"
     ]
    }
   ],
   "source": [
    "p = Point2D(2, 2)\n",
    "print(\"Point @ (\", p.x, \",\", p.y, \") has length\", p.length)"
   ]
  },
  {
   "cell_type": "markdown",
   "metadata": {},
   "source": [
    "## Some extra stuff\n",
    "\n",
    "Before we move on to the main topic of this week lets take some time and look at some extra Python goodies that we have not looked at yet."
   ]
  },
  {
   "cell_type": "markdown",
   "metadata": {},
   "source": [
    "### `*args` and `**kwargs`\n",
    "\n",
    "During this course you might have noticed that when we call `print` we do not always use the same amount parameters. In fact it is very flexible in the number of arguments it takes."
   ]
  },
  {
   "cell_type": "code",
   "execution_count": 1,
   "metadata": {},
   "outputs": [
    {
     "name": "stdout",
     "output_type": "stream",
     "text": [
      "hello\n",
      "hello world\n"
     ]
    }
   ],
   "source": [
    "print(\"hello\")\n",
    "print(\"hello\", \"world\")"
   ]
  },
  {
   "cell_type": "markdown",
   "metadata": {},
   "source": [
    "However when we learned how to define functions we defined each parameter one-by-one, and in case we called a function without respecting the number of parameters it was defined to take we would get an exception:"
   ]
  },
  {
   "cell_type": "code",
   "execution_count": 14,
   "metadata": {},
   "outputs": [
    {
     "ename": "TypeError",
     "evalue": "foo() takes 0 positional arguments but 1 was given",
     "output_type": "error",
     "traceback": [
      "\u001b[0;31m---------------------------------------------------------------------------\u001b[0m",
      "\u001b[0;31mTypeError\u001b[0m                                 Traceback (most recent call last)",
      "\u001b[0;32m<ipython-input-14-2c886cce3834>\u001b[0m in \u001b[0;36m<module>\u001b[0;34m\u001b[0m\n\u001b[1;32m      2\u001b[0m     \u001b[0;32mreturn\u001b[0m \u001b[0;36m10\u001b[0m\u001b[0;34m\u001b[0m\u001b[0;34m\u001b[0m\u001b[0m\n\u001b[1;32m      3\u001b[0m \u001b[0;34m\u001b[0m\u001b[0m\n\u001b[0;32m----> 4\u001b[0;31m \u001b[0mfoo\u001b[0m\u001b[0;34m(\u001b[0m\u001b[0;36m13\u001b[0m\u001b[0;34m)\u001b[0m\u001b[0;34m\u001b[0m\u001b[0;34m\u001b[0m\u001b[0m\n\u001b[0m",
      "\u001b[0;31mTypeError\u001b[0m: foo() takes 0 positional arguments but 1 was given"
     ]
    }
   ],
   "source": [
    "def foo():\n",
    "    return 10\n",
    "\n",
    "foo(13)"
   ]
  },
  {
   "cell_type": "code",
   "execution_count": 17,
   "metadata": {},
   "outputs": [
    {
     "ename": "TypeError",
     "evalue": "foo() missing 1 required positional argument: 'x'",
     "output_type": "error",
     "traceback": [
      "\u001b[0;31m---------------------------------------------------------------------------\u001b[0m",
      "\u001b[0;31mTypeError\u001b[0m                                 Traceback (most recent call last)",
      "\u001b[0;32m<ipython-input-17-9d73f4c5851c>\u001b[0m in \u001b[0;36m<module>\u001b[0;34m\u001b[0m\n\u001b[1;32m      1\u001b[0m \u001b[0;32mdef\u001b[0m \u001b[0mfoo\u001b[0m\u001b[0;34m(\u001b[0m\u001b[0mx\u001b[0m\u001b[0;34m)\u001b[0m\u001b[0;34m:\u001b[0m\u001b[0;34m\u001b[0m\u001b[0;34m\u001b[0m\u001b[0m\n\u001b[1;32m      2\u001b[0m     \u001b[0;32mreturn\u001b[0m \u001b[0mx\u001b[0m \u001b[0;34m+\u001b[0m \u001b[0;36m10\u001b[0m\u001b[0;34m\u001b[0m\u001b[0;34m\u001b[0m\u001b[0m\n\u001b[0;32m----> 3\u001b[0;31m \u001b[0mfoo\u001b[0m\u001b[0;34m(\u001b[0m\u001b[0;34m)\u001b[0m\u001b[0;34m\u001b[0m\u001b[0;34m\u001b[0m\u001b[0m\n\u001b[0m",
      "\u001b[0;31mTypeError\u001b[0m: foo() missing 1 required positional argument: 'x'"
     ]
    }
   ],
   "source": [
    "def foo(x):\n",
    "    return x + 10\n",
    "foo()"
   ]
  },
  {
   "cell_type": "markdown",
   "metadata": {},
   "source": [
    "If we want to write functions that take a variable amount of input variables we can use the `*args` and `*kwargs` input parameters.\n",
    "\n",
    "We can just define our function to take `*args` as input parameter which is a `tuple` with all the parameters that are called with the function:"
   ]
  },
  {
   "cell_type": "code",
   "execution_count": 32,
   "metadata": {},
   "outputs": [],
   "source": [
    "def foo(*args):\n",
    "    \"\"\"\n",
    "    Loops over all input parameters and prints them to console.\n",
    "    \"\"\"\n",
    "    print(type(args))\n",
    "    for arg in args:\n",
    "        print(arg)"
   ]
  },
  {
   "cell_type": "code",
   "execution_count": 33,
   "metadata": {},
   "outputs": [
    {
     "name": "stdout",
     "output_type": "stream",
     "text": [
      "<class 'tuple'>\n",
      "1\n",
      "hello\n",
      "13.67\n",
      "False\n"
     ]
    }
   ],
   "source": [
    "foo(1, \"hello\", 13.67, False)"
   ]
  },
  {
   "cell_type": "code",
   "execution_count": 28,
   "metadata": {},
   "outputs": [],
   "source": [
    "foo()"
   ]
  },
  {
   "cell_type": "markdown",
   "metadata": {},
   "source": [
    "`foo` in this case can be called with any number of input parameters. If we want to still have some mandatory ones, we can define them first and then add `*args` in the end that will contain the rest:"
   ]
  },
  {
   "cell_type": "code",
   "execution_count": 29,
   "metadata": {},
   "outputs": [],
   "source": [
    "def foo(a, b, *args):\n",
    "    print(\"mandatory parameters a and b:\", a, b)\n",
    "    print(\"the rest:\")\n",
    "    for arg in args:\n",
    "        print(arg)"
   ]
  },
  {
   "cell_type": "code",
   "execution_count": 30,
   "metadata": {},
   "outputs": [
    {
     "name": "stdout",
     "output_type": "stream",
     "text": [
      "mandatory parameters a and b: hello 10\n",
      "the rest:\n",
      "False\n",
      "98.43\n"
     ]
    }
   ],
   "source": [
    "foo(\"hello\", 10, False, 98.43)"
   ]
  },
  {
   "cell_type": "markdown",
   "metadata": {},
   "source": [
    "We saw that when we define functions we can use key value definitions of the input parameters as well to define default values, and in that case we can omit the variable when calling a function:"
   ]
  },
  {
   "cell_type": "code",
   "execution_count": 37,
   "metadata": {},
   "outputs": [
    {
     "name": "stdout",
     "output_type": "stream",
     "text": [
      "0\n"
     ]
    }
   ],
   "source": [
    "def foo(x=0, y=0):\n",
    "    \"\"\"\n",
    "    foo returns the sum of x and y which both default to zero.\n",
    "    \"\"\"\n",
    "    return x + y\n",
    "\n",
    "print(foo())"
   ]
  },
  {
   "cell_type": "markdown",
   "metadata": {},
   "source": [
    "Using `**kwargs` is the same thing as `*args` but for keyword variables in the form of a `dict`:"
   ]
  },
  {
   "cell_type": "code",
   "execution_count": 38,
   "metadata": {},
   "outputs": [
    {
     "name": "stdout",
     "output_type": "stream",
     "text": [
      "x : 13\n",
      "y : 7\n"
     ]
    }
   ],
   "source": [
    "def foo(**kwargs):\n",
    "    for key in kwargs:\n",
    "        print(key, \":\", kwargs[key])\n",
    "        \n",
    "foo(x=13, y=7)"
   ]
  },
  {
   "cell_type": "markdown",
   "metadata": {},
   "source": [
    "You can of course also combine the two:"
   ]
  },
  {
   "cell_type": "code",
   "execution_count": 41,
   "metadata": {},
   "outputs": [
    {
     "name": "stdout",
     "output_type": "stream",
     "text": [
      "unnamed parameters:\n",
      "- 192\n",
      "- 45\n",
      "- 3.2\n",
      "keyword arguments:\n",
      "- a : hello\n",
      "- b : [True, False, True]\n"
     ]
    }
   ],
   "source": [
    "def foo(*args, **kwargs):\n",
    "    print(\"unnamed parameters:\")\n",
    "    for arg in args:\n",
    "        print(\"-\", arg)\n",
    "        \n",
    "    print(\"keyword arguments:\")\n",
    "    for key in kwargs:\n",
    "        print(\"-\", key, \":\", kwargs[key])\n",
    "        \n",
    "        \n",
    "foo(192, 45, 3.2, a=\"hello\", b=[True, False, True])"
   ]
  },
  {
   "cell_type": "markdown",
   "metadata": {},
   "source": [
    "### Exercise: Product of input variables\n",
    "\n",
    "Write a function called `product` that takes a variable amount of input variables and *returns* their product:"
   ]
  },
  {
   "cell_type": "code",
   "execution_count": 42,
   "metadata": {},
   "outputs": [],
   "source": [
    "# your code here"
   ]
  },
  {
   "cell_type": "code",
   "execution_count": null,
   "metadata": {},
   "outputs": [],
   "source": [
    "product(5, 6, 8) # should output 240"
   ]
  },
  {
   "cell_type": "markdown",
   "metadata": {},
   "source": [
    "### Decorators\n",
    "\n",
    "Decorators are a nice feature that comes with Python which enables you to envelope a function within another function. It is a way to make sure that each time this function is called some other functionality is called as well without needing to write the extra lines of code within."
   ]
  },
  {
   "cell_type": "code",
   "execution_count": 57,
   "metadata": {},
   "outputs": [
    {
     "name": "stdout",
     "output_type": "stream",
     "text": [
      "running: foo\n",
      "Hello, World\n"
     ]
    }
   ],
   "source": [
    "def dec(f):\n",
    "    def wrapper():\n",
    "        print(\"running:\", f.__name__)\n",
    "        f()\n",
    "    return wrapper\n",
    "\n",
    "@dec\n",
    "def foo():\n",
    "    print(\"Hello, World\")\n",
    "    \n",
    "\n",
    "foo()"
   ]
  },
  {
   "cell_type": "markdown",
   "metadata": {},
   "source": [
    "We started by defining the function `dec` that defines an inner function, which is in the end returned. This inner function `wrapper` calls the input variable to `dec`, `f`, which needs to be a function. Before running `f` it prints a message that it is going to run the function.\n",
    "\n",
    "We also notice how we wrote `@dec` over the definition of `foo`. In practice what this means is that we redefine `foo` to the output of calling `dec` with `foo` as input parameter. In this case the output of `dec` is a new function ( `wrapper`) that prints the name of the input parameter to `dec` and then calls the function.\n",
    "\n",
    "It is therefore the equivalent of doing:"
   ]
  },
  {
   "cell_type": "code",
   "execution_count": 59,
   "metadata": {},
   "outputs": [
    {
     "name": "stdout",
     "output_type": "stream",
     "text": [
      "running: newfoo\n",
      "Hello, World\n"
     ]
    }
   ],
   "source": [
    "def newfoo():\n",
    "    print(\"Hello, World\")\n",
    "    \n",
    "newfoo = dec(newfoo)\n",
    "\n",
    "newfoo()"
   ]
  },
  {
   "cell_type": "markdown",
   "metadata": {},
   "source": [
    "Let's look at the following example for a more advanced use case: we have a couple of functions that we want to run and we want to log each time they start and when they end. One approach would be to do the following:"
   ]
  },
  {
   "cell_type": "code",
   "execution_count": 47,
   "metadata": {},
   "outputs": [
    {
     "name": "stdout",
     "output_type": "stream",
     "text": [
      "2019-02-24 19:57:47.874298 : load...\n",
      "2019-02-24 19:57:48.878723 : done load\n",
      "2019-02-24 19:57:48.879894 : preprocess ...\n",
      "2019-02-24 19:57:49.881297 : done preprocess\n",
      "[0, 10, 0, 10, 10, 10, 0, 0, 0, 10, 0, 10, 0, 0, 0, 0, 0, 10, 10, 0]\n"
     ]
    }
   ],
   "source": [
    "from datetime import datetime\n",
    "import random\n",
    "import time\n",
    "\n",
    "def load():\n",
    "    print(datetime.now(), \": load...\")\n",
    "    data = [random.randint(0, 1) for _ in range(20)]\n",
    "    time.sleep(1) # let's pretend this takes a lot of time\n",
    "    print(datetime.now(), \": done load\")\n",
    "    return data\n",
    "\n",
    "\n",
    "def preprocess(data):\n",
    "    print(datetime.now(), \": preprocess ...\")\n",
    "    data = [x*10 for x in data]\n",
    "    time.sleep(1) # let's pretend this takes a lot of time\n",
    "    print(datetime.now(), \": done preprocess\")\n",
    "    return data\n",
    "\n",
    "\n",
    "data = load()\n",
    "data = preprocess(data)\n",
    "print(data)"
   ]
  },
  {
   "cell_type": "markdown",
   "metadata": {},
   "source": [
    "As we saw we needed to add the `print` statements to the beginning and the end of all the functions we want to some logging for. This goes as well for any future functions. With decorators we can save the trouble of remembering this all the time and not dirty the code within the functions with the print statements:"
   ]
  },
  {
   "cell_type": "code",
   "execution_count": 55,
   "metadata": {},
   "outputs": [
    {
     "name": "stdout",
     "output_type": "stream",
     "text": [
      "2019-02-24 20:07:14.719166 : load ...\n",
      "2019-02-24 20:07:15.720778 : done load ...\n",
      "2019-02-24 20:07:15.721367 : preprocess ...\n",
      "2019-02-24 20:07:16.722876 : done preprocess ...\n",
      "[0, 0, 10, 10, 10, 10, 0, 0, 0, 0, 10, 10, 10, 0, 0, 0, 0, 0, 10, 10]\n"
     ]
    }
   ],
   "source": [
    "def logged(f):\n",
    "    def wrapper(*args):\n",
    "        print(datetime.now(), \":\", f.__name__, \"...\")\n",
    "        res = f(*args)\n",
    "        print(datetime.now(), \": done\", f.__name__, \"...\")\n",
    "        return res\n",
    "    return wrapper\n",
    "\n",
    "@logged\n",
    "def load():\n",
    "    data = [random.randint(0, 1) for _ in range(20)]\n",
    "    time.sleep(1) # let's pretend this takes a lot of time\n",
    "    return data\n",
    "\n",
    "@logged\n",
    "def preprocess(data):\n",
    "    data = [x*10 for x in data]\n",
    "    time.sleep(1) # let's pretend this takes a lot of time\n",
    "    return data\n",
    "\n",
    "data = load()\n",
    "data = preprocess(data)\n",
    "print(data)"
   ]
  },
  {
   "cell_type": "markdown",
   "metadata": {},
   "source": [
    "Lets have a quick look at what we did.\n",
    "\n",
    "We started by defining a function called `logged` which takes an input parameter `f`:\n",
    "```python\n",
    "def logged(f):\n",
    "    def wrapper(*args):\n",
    "        print(datetime.now(), \":\", f.__name__, \"...\")\n",
    "        res = f(*args)\n",
    "        print(datetime.now(), \": done\", f.__name__, \"...\")\n",
    "        return res\n",
    "    return wrapper\n",
    "```\n",
    "It defines an inner function `wrapper` which is also the return variable. `wrapper` takes a variable number of input parameters (`*args`) which are passed to `f`, and any output from calling `f` is stored in `res`:\n",
    "\n",
    "```python\n",
    "res = f(*args)\n",
    "```\n",
    "\n",
    "We can see that calling `f` is wrapped by two `print` statements that log when the function starts and ends. In the end the output of `f` in `res` is returned."
   ]
  },
  {
   "cell_type": "code",
   "execution_count": null,
   "metadata": {},
   "outputs": [],
   "source": []
  }
 ],
 "metadata": {
  "kernelspec": {
   "display_name": "Python 3",
   "language": "python",
   "name": "python3"
  },
  "language_info": {
   "codemirror_mode": {
    "name": "ipython",
    "version": 3
   },
   "file_extension": ".py",
   "mimetype": "text/x-python",
   "name": "python",
   "nbconvert_exporter": "python",
   "pygments_lexer": "ipython3",
   "version": "3.7.2"
  }
 },
 "nbformat": 4,
 "nbformat_minor": 2
}
