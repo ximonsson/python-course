{
 "cells": [
  {
   "cell_type": "markdown",
   "metadata": {},
   "source": [
    "# Classes and objects\n",
    "\n",
    "In this weeks class we are going to look at defining our own data structures using *classes*. Class definitions can be compared to a template of what functionality is available to an instance of it. These instances we call *objects*.\n",
    "\n",
    "In C the closest thing you have seen to a class is a `struct`. `struct`s are nothing but containers with a pre-defined structure for different variables. They are not able to interact with the rest of program as we will see here.\n",
    "\n",
    "After this class you will:\n",
    "  * Know how to define your own classes\n",
    "  * Better understanding of variables that are instances of a class"
   ]
  },
  {
   "cell_type": "markdown",
   "metadata": {},
   "source": [
    "## Recap"
   ]
  },
  {
   "cell_type": "markdown",
   "metadata": {},
   "source": [
    "## Classes\n",
    "\n",
    "Let's look over the basics for how to define a new class, later moving on to defining data and functions associated with it. Last we will take a deeper look into defining special behavior when a new object is created and deleted."
   ]
  },
  {
   "cell_type": "markdown",
   "metadata": {},
   "source": [
    "### Basics"
   ]
  },
  {
   "cell_type": "markdown",
   "metadata": {},
   "source": [
    "In Python we use the `class` keyword to define a new class. The most basic examples remind us of pretty much of all block statements in Python, and looks very similar to how define functions. But instead of how functions define behavior that is to be executed, a class defines properties."
   ]
  },
  {
   "cell_type": "code",
   "execution_count": 1,
   "metadata": {},
   "outputs": [],
   "source": [
    "# define a new class 'A'\n",
    "class A():\n",
    "    # here we define properties\n",
    "    x = 10 "
   ]
  },
  {
   "cell_type": "markdown",
   "metadata": {},
   "source": [
    "`A` is now a type that we have defined. And creating a new variable with this type is pretty much the same as calling a function:"
   ]
  },
  {
   "cell_type": "code",
   "execution_count": 2,
   "metadata": {},
   "outputs": [
    {
     "name": "stdout",
     "output_type": "stream",
     "text": [
      "<class '__main__.A'>\n"
     ]
    }
   ],
   "source": [
    "# create a new variable of type 'A'\n",
    "foo = A()\n",
    "print(type(foo))"
   ]
  },
  {
   "cell_type": "markdown",
   "metadata": {},
   "source": [
    "As we can see here the `foo` variable is an instance of a class named `__main__.A`. This is the entire module path (remember week 5) with the actual class name in the end. In this case `__main__` is the module (which is the default one), and the class is `A` which we just created."
   ]
  },
  {
   "cell_type": "markdown",
   "metadata": {},
   "source": [
    "Above we mentioned that we define properties for a class, in this case we did it by writing:\n",
    "```python\n",
    "x = 10\n",
    "```\n",
    "\n",
    "This means that all variables that are of type `A` are created with a property called `x` that is equal to 10. Properties are accessed through a period `.` using the syntax \"**variable**`.`**property**\"."
   ]
  },
  {
   "cell_type": "code",
   "execution_count": 3,
   "metadata": {},
   "outputs": [
    {
     "name": "stdout",
     "output_type": "stream",
     "text": [
      "10\n"
     ]
    }
   ],
   "source": [
    "print(foo.x)"
   ]
  },
  {
   "cell_type": "markdown",
   "metadata": {},
   "source": [
    "And of course we can just continue and list properties on separate lines:"
   ]
  },
  {
   "cell_type": "code",
   "execution_count": 8,
   "metadata": {},
   "outputs": [],
   "source": [
    "# re-define class 'A'\n",
    "class A():\n",
    "    # properties\n",
    "    x = 10\n",
    "    s = \"Hello\"\n",
    "    f = 5.13"
   ]
  },
  {
   "cell_type": "code",
   "execution_count": 9,
   "metadata": {},
   "outputs": [
    {
     "name": "stdout",
     "output_type": "stream",
     "text": [
      "foo.x =  10\n",
      "foo.s =  Hello\n",
      "foo.f =  5.13\n"
     ]
    }
   ],
   "source": [
    "foo = A()\n",
    "print(\"foo.x = \", foo.x)\n",
    "print(\"foo.s = \", foo.s)\n",
    "print(\"foo.f = \", foo.f)"
   ]
  },
  {
   "cell_type": "markdown",
   "metadata": {},
   "source": [
    "### More properties\n",
    "\n",
    "In the above example we created a class that had in the end three properties: an `int`, a `str` and a `float`. They are created with default values, but these can also be re-assigned without problem through the course of a program:"
   ]
  },
  {
   "cell_type": "code",
   "execution_count": 11,
   "metadata": {},
   "outputs": [
    {
     "name": "stdout",
     "output_type": "stream",
     "text": [
      "foo.x =  89\n"
     ]
    }
   ],
   "source": [
    "foo.x = 89\n",
    "print(\"foo.x = \", foo.x)"
   ]
  },
  {
   "cell_type": "markdown",
   "metadata": {},
   "source": [
    "It is even possible to dynamically add new properties to an object (even though it does not really make sense):"
   ]
  },
  {
   "cell_type": "code",
   "execution_count": 13,
   "metadata": {},
   "outputs": [
    {
     "name": "stdout",
     "output_type": "stream",
     "text": [
      "foo.b =  False\n"
     ]
    }
   ],
   "source": [
    "foo.b = False\n",
    "print(\"foo.b = \", foo.b)"
   ]
  },
  {
   "cell_type": "markdown",
   "metadata": {},
   "source": [
    "Properties do not have to be only variables, they can be functions as well! In fact this is the most important part of creating classes. Defining functions as properties is very similar to defining functions in general. In the below example we will create a very simple calculator that can only add two values together."
   ]
  },
  {
   "cell_type": "code",
   "execution_count": 20,
   "metadata": {},
   "outputs": [],
   "source": [
    "# \n",
    "class Greeter():\n",
    "    def greet(self, who):\n",
    "        print(\"Hello, \" + who)"
   ]
  },
  {
   "cell_type": "markdown",
   "metadata": {},
   "source": [
    "Function properties are accessed in the exact same way as variables are:"
   ]
  },
  {
   "cell_type": "code",
   "execution_count": 21,
   "metadata": {},
   "outputs": [
    {
     "name": "stdout",
     "output_type": "stream",
     "text": [
      "Hello, World\n"
     ]
    }
   ],
   "source": [
    "gr = Greeter()\n",
    "gr.greet(\"World\")"
   ]
  },
  {
   "cell_type": "markdown",
   "metadata": {},
   "source": [
    "Notice however that the function `greet` is declared as taking two parameters but the we call it with only one.\n",
    "\n",
    "```python\n",
    "    def greet(self, who):\n",
    "```\n",
    "\n",
    "The first parameter `self` is a self-reference variable that can be used to access properties linked to the object itself when the function is called. It is only used when declaring the function within the class, but omitted when invoked. The above example did not have any use for it so lets create a new example where we do:"
   ]
  },
  {
   "cell_type": "code",
   "execution_count": 3,
   "metadata": {},
   "outputs": [],
   "source": [
    "# Implement a two dimensional point called 'Point2D'.\n",
    "# It defaults to position (0, 0) and has a function 'translate' that adds an offset to its current position.\n",
    "\n",
    "class Point2D():\n",
    "    x = 0\n",
    "    y = 0\n",
    "    \n",
    "    def translate(self, xoff, yoff):\n",
    "        self.x += xoff\n",
    "        self.y += yoff"
   ]
  },
  {
   "cell_type": "code",
   "execution_count": 4,
   "metadata": {},
   "outputs": [
    {
     "name": "stdout",
     "output_type": "stream",
     "text": [
      "before = ( 0 , 0 )\n",
      "after  = ( 5 , 5 )\n"
     ]
    }
   ],
   "source": [
    "p = Point2D()\n",
    "print(\"before = (\", p.x, \",\", p.y, \")\")\n",
    "p.translate(5, 5)\n",
    "print(\"after  = (\", p.x, \",\", p.y, \")\")"
   ]
  },
  {
   "cell_type": "markdown",
   "metadata": {},
   "source": [
    "The `self` is used to update to the variable itself in the function, updating its current state."
   ]
  },
  {
   "cell_type": "markdown",
   "metadata": {},
   "source": [
    "### Exercises"
   ]
  },
  {
   "cell_type": "markdown",
   "metadata": {},
   "source": [
    "#### Create a rectangle class\n",
    "\n",
    "As first exercise try to implement a new class called `Rect` which has three properties:\n",
    "  * A two dimensional point for the top left corner of type `Point2D` called `corner`\n",
    "  * A width called `width`\n",
    "  * A height called `height`"
   ]
  },
  {
   "cell_type": "code",
   "execution_count": 5,
   "metadata": {},
   "outputs": [],
   "source": [
    "# here is a convenient function to print out information about a Rect object\n",
    "def print_rect(r):\n",
    "    print(\"({}, {}) {} x {}\".format(r.corner.x, r.corner.y, r.width, r.height))"
   ]
  },
  {
   "cell_type": "code",
   "execution_count": 6,
   "metadata": {},
   "outputs": [],
   "source": [
    "# your code here\n",
    "class Rect():\n",
    "    corner = Point2D()\n",
    "    width  = 0\n",
    "    height = 0"
   ]
  },
  {
   "cell_type": "code",
   "execution_count": 7,
   "metadata": {},
   "outputs": [
    {
     "name": "stdout",
     "output_type": "stream",
     "text": [
      "(0, 0) 0 x 0\n"
     ]
    }
   ],
   "source": [
    "rect = Rect()\n",
    "print_rect(rect)"
   ]
  },
  {
   "cell_type": "markdown",
   "metadata": {},
   "source": [
    "#### Calculate area of a rectangle\n",
    "\n",
    "Add a function `area` that calculates and **returns** the area of the rectangle"
   ]
  },
  {
   "cell_type": "code",
   "execution_count": 8,
   "metadata": {},
   "outputs": [],
   "source": [
    "# your code here\n",
    "class Rect():\n",
    "    corner = Point2D()\n",
    "    width = 0\n",
    "    height = 0\n",
    "    \n",
    "    def area(self):\n",
    "        return self.width * self.height"
   ]
  },
  {
   "cell_type": "code",
   "execution_count": 9,
   "metadata": {},
   "outputs": [
    {
     "name": "stdout",
     "output_type": "stream",
     "text": [
      "area = 50\n"
     ]
    }
   ],
   "source": [
    "rect = Rect()\n",
    "rect.width = 10\n",
    "rect.height = 5\n",
    "print(\"area =\", rect.area())"
   ]
  },
  {
   "cell_type": "markdown",
   "metadata": {},
   "source": [
    "#### Translate the rectangle\n",
    "\n",
    "Now update the `Rect` class giving it a `translate` property of its own. When calling this function all the corner points in the rectangle should be translated."
   ]
  },
  {
   "cell_type": "code",
   "execution_count": 10,
   "metadata": {},
   "outputs": [],
   "source": [
    "class Rect():\n",
    "    corner = Point2D()\n",
    "    width  = 0\n",
    "    height = 0\n",
    "    \n",
    "    def area(self):\n",
    "        return self.width * self.height\n",
    "    \n",
    "    def translate(self, xoff, yoff):\n",
    "        self.corner.translate(xoff, yoff)"
   ]
  },
  {
   "cell_type": "code",
   "execution_count": 11,
   "metadata": {},
   "outputs": [
    {
     "name": "stdout",
     "output_type": "stream",
     "text": [
      "(5, 5) 0 x 0\n"
     ]
    }
   ],
   "source": [
    "rect = Rect()\n",
    "rect.translate(5, 5)\n",
    "print_rect(rect)"
   ]
  },
  {
   "cell_type": "markdown",
   "metadata": {},
   "source": [
    "#### Implement a cube [optional]\n",
    "\n",
    "Implement a new class called `cube` which represents a three-dimensional cube. Make it have the same property functions as `Rect` for calculating area and translating it. If you are comfortable with linear algebra you can even try `rotate` and `scaling` functions."
   ]
  },
  {
   "cell_type": "code",
   "execution_count": 12,
   "metadata": {},
   "outputs": [],
   "source": [
    "# your code here"
   ]
  },
  {
   "cell_type": "code",
   "execution_count": 13,
   "metadata": {},
   "outputs": [],
   "source": [
    "# write some test code for your cube"
   ]
  },
  {
   "cell_type": "markdown",
   "metadata": {},
   "source": [
    "### Constructors \n",
    "\n",
    "We just saw how to define classes and their properties. Problem until now though is that all variables of our classes are created with some default values for their properties (that most often do not make sense and are useless), and then we need to modify them for what we really want."
   ]
  },
  {
   "cell_type": "code",
   "execution_count": 16,
   "metadata": {},
   "outputs": [
    {
     "name": "stdout",
     "output_type": "stream",
     "text": [
      "p = ( 4 , 7 )\n"
     ]
    }
   ],
   "source": [
    "# we want to create a point in two dimensional space at (4, 7)\n",
    "# right now we need to create a new point and modify \"x\" and \"y\" properties manually\n",
    "p = Point2D()\n",
    "p.x = 4\n",
    "p.y = 7\n",
    "print(\"p = (\", p.x, \",\", p.y, \")\")"
   ]
  },
  {
   "cell_type": "markdown",
   "metadata": {},
   "source": [
    "We can of course also use our `translate` function that is connected to the `Point2D` class, but the problem with it is that it is relative to the current position so it might become inconvenient to handle:"
   ]
  },
  {
   "cell_type": "code",
   "execution_count": 17,
   "metadata": {},
   "outputs": [
    {
     "name": "stdout",
     "output_type": "stream",
     "text": [
      "p = ( 4 , 7 )\n"
     ]
    }
   ],
   "source": [
    "p = Point2D()\n",
    "p.translate(4, 7)\n",
    "print(\"p = (\", p.x, \",\", p.y, \")\")"
   ]
  },
  {
   "cell_type": "markdown",
   "metadata": {},
   "source": [
    "Anyhow we need to make at least one extra function call to place our point after it is created. This feels a bit dumb. Imagine the case we have 100 points to keep track of. Then we would need to create the hundred points and then position them by modifying their coordinates. In comes *constructors*.\n",
    "\n",
    "Constructors are special functions that create all the initialization of an object when it is created. They are created like other properties that are functions but it has the special name `__init__`. Lets see a very quick example to show the idea."
   ]
  },
  {
   "cell_type": "code",
   "execution_count": 18,
   "metadata": {},
   "outputs": [],
   "source": [
    "class A():\n",
    "    x = 0\n",
    "    def __init__(self):\n",
    "        self.x = 10"
   ]
  },
  {
   "cell_type": "code",
   "execution_count": 20,
   "metadata": {},
   "outputs": [
    {
     "name": "stdout",
     "output_type": "stream",
     "text": [
      "foo.x = 10\n"
     ]
    }
   ],
   "source": [
    "foo = A()\n",
    "print(\"foo.x =\", foo.x)"
   ]
  },
  {
   "cell_type": "markdown",
   "metadata": {},
   "source": [
    "As we can see from the above example we gave the class `A` an `__init__` function that within it re-assigned the value of the property `x` property from 0 to 10.\n",
    "\n",
    "This example might not be of much use to us, but lets make the `A` take a value when it is created that will be the value of its `x` property."
   ]
  },
  {
   "cell_type": "code",
   "execution_count": 23,
   "metadata": {},
   "outputs": [],
   "source": [
    "class A():\n",
    "    x = 0\n",
    "    def __init__(self, x_):\n",
    "        self.x = x_"
   ]
  },
  {
   "cell_type": "code",
   "execution_count": 24,
   "metadata": {},
   "outputs": [
    {
     "name": "stdout",
     "output_type": "stream",
     "text": [
      "foo.x = 13\n"
     ]
    }
   ],
   "source": [
    "foo = A(13)\n",
    "print(\"foo.x =\", foo.x)"
   ]
  },
  {
   "cell_type": "markdown",
   "metadata": {},
   "source": [
    "From the above example we notice that now when creating a new object of class `A` we send an input parameter:\n",
    "\n",
    "```python\n",
    "foo = A(13)\n",
    "```\n",
    "\n",
    "With this we now know how to give our own default values to an object when it is created, and no longer need to create the variable then assign the properties."
   ]
  },
  {
   "cell_type": "markdown",
   "metadata": {},
   "source": [
    "### Exercises "
   ]
  },
  {
   "cell_type": "markdown",
   "metadata": {},
   "source": [
    "#### Constructor for Point2D\n",
    "\n",
    "Start by modifying your last implementation of the `Point2D` to have a constructor that takes the value of `x` and `y` "
   ]
  },
  {
   "cell_type": "code",
   "execution_count": 27,
   "metadata": {},
   "outputs": [],
   "source": [
    "# your code here\n",
    "class Point2D():\n",
    "    x = 0\n",
    "    y = 0\n",
    "    \n",
    "    def __init__(self, x, y):\n",
    "        self.x = x\n",
    "        self.y = y"
   ]
  },
  {
   "cell_type": "code",
   "execution_count": 28,
   "metadata": {},
   "outputs": [
    {
     "name": "stdout",
     "output_type": "stream",
     "text": [
      "p = ( 13 , 49 )\n"
     ]
    }
   ],
   "source": [
    "p = Point2D(13, 49)\n",
    "print(\"p = (\", p.x, \",\", p.y, \")\")"
   ]
  },
  {
   "cell_type": "markdown",
   "metadata": {},
   "source": [
    "#### Constructor for the Rect\n",
    "\n",
    "Now that `Point2D` has a constructor that makes things easier for us, lets also give the `Rect` class a constructor that takes the x and y of its top left corner, width and height. "
   ]
  },
  {
   "cell_type": "code",
   "execution_count": 29,
   "metadata": {},
   "outputs": [],
   "source": [
    "# your code here\n",
    "class Rect():\n",
    "    corner = Point2D(0, 0)\n",
    "    width = 0\n",
    "    height = 0 \n",
    "    \n",
    "    def __init__(self, x, y, w, h):\n",
    "        self.corner = Point2D(x, y)\n",
    "        self.width = w\n",
    "        self.height = h"
   ]
  },
  {
   "cell_type": "code",
   "execution_count": 31,
   "metadata": {},
   "outputs": [
    {
     "name": "stdout",
     "output_type": "stream",
     "text": [
      "(4, 90) 67 x 23\n"
     ]
    }
   ],
   "source": [
    "r = Rect(4, 90, 67, 23)\n",
    "print_rect(r)"
   ]
  },
  {
   "cell_type": "code",
   "execution_count": null,
   "metadata": {},
   "outputs": [],
   "source": []
  }
 ],
 "metadata": {
  "kernelspec": {
   "display_name": "Python 3",
   "language": "python",
   "name": "python3"
  },
  "language_info": {
   "codemirror_mode": {
    "name": "ipython",
    "version": 3
   },
   "file_extension": ".py",
   "mimetype": "text/x-python",
   "name": "python",
   "nbconvert_exporter": "python",
   "pygments_lexer": "ipython3",
   "version": "3.7.2"
  }
 },
 "nbformat": 4,
 "nbformat_minor": 2
}
