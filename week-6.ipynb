{
 "cells": [
  {
   "cell_type": "markdown",
   "metadata": {},
   "source": [
    "# Lists, sets and dictionaries\n",
    "\n",
    "In this class we will look at working with multiple data. Using lists, sets and dictionaries you will all be introduced to tools on how to do this. Lambda functions will be overviewed to give you more flexibility in transforming data. We will even introduce generators which are a way to generate data that you can iterate over.\n",
    "\n",
    "After this class you will know how to:\n",
    "    * how to work with lists \n",
    "    * how to use sets\n",
    "    * how to work with dictionaries\n",
    "    * how to create lambda functions\n",
    "    * create a generator"
   ]
  },
  {
   "cell_type": "markdown",
   "metadata": {},
   "source": [
    "## Recap\n",
    "\n",
    "Last week we look at input and output for our programs, and also importing functionality from files and modules."
   ]
  },
  {
   "cell_type": "markdown",
   "metadata": {},
   "source": [
    "### Import\n",
    "\n",
    "Using the `import` keyword we can import functions, variables and classes from other files or modules. For example there is the `math` module has a definition of the `pi` variable."
   ]
  },
  {
   "cell_type": "code",
   "execution_count": null,
   "metadata": {},
   "outputs": [],
   "source": [
    "import math\n",
    "\n",
    "print(math.pi)"
   ]
  },
  {
   "cell_type": "markdown",
   "metadata": {},
   "source": [
    "We also saw how we could only import specific variables and functions"
   ]
  },
  {
   "cell_type": "code",
   "execution_count": null,
   "metadata": {},
   "outputs": [],
   "source": [
    "from math import pi\n",
    "print(pi)"
   ]
  },
  {
   "cell_type": "markdown",
   "metadata": {},
   "source": [
    "### Input/Output\n",
    "\n",
    "We saw that the `print` function is used to make sure that we write something to the terminal, not returning a value for a function.\n",
    "\n",
    "#### Command line arguments\n",
    "\n",
    "Command line arguments that are passed along to a script are available through the `sys` module that has a `argv` variable, which is a list of `str`. And remember that the first element in this list is the name of the script.\n",
    "\n",
    "```python\n",
    "import sys\n",
    "\n",
    "print(sys.argv[0]) # prints the name of the file\n",
    "```\n",
    "\n",
    "#### Reading and writing to files\n",
    "\n",
    "Using the `open` function we can open a file for reading or writing. This function returns a filehandler that has read functions and write functions. Remember that you need to pass `\"w\"` as second argument to the `open` function if you are writing to it.\n",
    "\n",
    "```python\n",
    "# read all the contents from a file\n",
    "f = open(\"data.txt\")\n",
    "data = f.read()\n",
    "f.close()\n",
    "```\n",
    "\n",
    "```python\n",
    "# write a text to a file\n",
    "f = open(\"output.txt\", \"w\")\n",
    "output = \"\"\"Here is some\n",
    "text that we want to \n",
    "write to a file\n",
    "\"\"\"\n",
    "f.write(output)\n",
    "f.close()\n",
    "```\n",
    "\n",
    "**ALWAYS** remember to `close` the file when you are done.\n",
    "\n"
   ]
  },
  {
   "cell_type": "markdown",
   "metadata": {},
   "source": [
    "## 1. Lists\n",
    "\n",
    "Lists are the basic data structure for storing multiple values using one variable.\n",
    "\n",
    "The syntax is quite similar to C:"
   ]
  },
  {
   "cell_type": "code",
   "execution_count": 38,
   "metadata": {},
   "outputs": [],
   "source": [
    "li = [1,2,3,4,5,6] # create a new list"
   ]
  },
  {
   "cell_type": "markdown",
   "metadata": {},
   "source": [
    "Lists are however not restricted to a certain type in Python, you can freely mix the types for each element:"
   ]
  },
  {
   "cell_type": "code",
   "execution_count": 57,
   "metadata": {},
   "outputs": [
    {
     "data": {
      "text/plain": [
       "[[1, 2, 3], 'Hello', 5.6, (True, False)]"
      ]
     },
     "execution_count": 57,
     "metadata": {},
     "output_type": "execute_result"
    }
   ],
   "source": [
    "[[1,2,3], \"Hello\", 5.6, (True, False)]"
   ]
  },
  {
   "cell_type": "markdown",
   "metadata": {},
   "source": [
    "### 1.1 Initilization"
   ]
  },
  {
   "cell_type": "markdown",
   "metadata": {},
   "source": [
    "Initializing lists with it's initial values can be cubersome to write, as well not as not even feasible in some cases. \n",
    "\n",
    "Say that you want to create a list that has the values 0 to 999. One way of achieving this would be to create an empty list and use a `for`-loop and `range` where we append in each iteration:\n",
    "\n",
    "```python\n",
    "li = []\n",
    "for i in range(1000):\n",
    "    li.append(i)\n",
    "```\n",
    "\n",
    "Python has a nice way of doing this with one-line though using a syntax like following: \n",
    "\n",
    "`[` *expression* `for` *element* `in` *sequence* `]`\n",
    "\n",
    "This is called **list comprehension**."
   ]
  },
  {
   "cell_type": "code",
   "execution_count": 63,
   "metadata": {},
   "outputs": [
    {
     "name": "stdout",
     "output_type": "stream",
     "text": [
      "[0, 1, 2, 3, 4] ... [995, 996, 997, 998, 999]\n"
     ]
    }
   ],
   "source": [
    "li = [i for i in range(1000)] # create a list of values 0-999\n",
    "print(li[:5], \"...\", li[-5:])"
   ]
  },
  {
   "cell_type": "markdown",
   "metadata": {},
   "source": [
    "### 1.2 Indexing\n",
    "\n",
    "List indexing in Python is done using brackets `[i]`, where `0` is the first element."
   ]
  },
  {
   "cell_type": "code",
   "execution_count": 87,
   "metadata": {},
   "outputs": [],
   "source": [
    "li = [1,2,3,4,5] # create a new list"
   ]
  },
  {
   "cell_type": "code",
   "execution_count": 39,
   "metadata": {},
   "outputs": [
    {
     "name": "stdout",
     "output_type": "stream",
     "text": [
      "1\n"
     ]
    }
   ],
   "source": [
    "print(li[0])"
   ]
  },
  {
   "cell_type": "markdown",
   "metadata": {},
   "source": [
    "You can also use negative indexing in Python to get the `i`th value starting from the end of the list. So at index `-1` you have the last element, `-2` the second from last, and so on..."
   ]
  },
  {
   "cell_type": "code",
   "execution_count": 40,
   "metadata": {},
   "outputs": [
    {
     "name": "stdout",
     "output_type": "stream",
     "text": [
      "5\n"
     ]
    }
   ],
   "source": [
    "print(li[-2])"
   ]
  },
  {
   "cell_type": "markdown",
   "metadata": {},
   "source": [
    "It is also possible to get a subset of a list, called a `slice`, using a range of indices. This is done using the syntax *first*`:`*last*. This takes all the elements starting and including *first* until and **excluding** last."
   ]
  },
  {
   "cell_type": "code",
   "execution_count": 41,
   "metadata": {},
   "outputs": [
    {
     "name": "stdout",
     "output_type": "stream",
     "text": [
      "[2, 3]\n"
     ]
    }
   ],
   "source": [
    "print(li[1:3]) # get elements li[1], li[2]"
   ]
  },
  {
   "cell_type": "markdown",
   "metadata": {},
   "source": [
    "You can also omit one of the values. If you omit *first* the range will start from `0`. If last is omitted the range ends at the last element of the list (including it)."
   ]
  },
  {
   "cell_type": "code",
   "execution_count": 42,
   "metadata": {},
   "outputs": [
    {
     "name": "stdout",
     "output_type": "stream",
     "text": [
      "[3, 4, 5, 6]\n"
     ]
    }
   ],
   "source": [
    "print(li[2:]) # get all the elements after the two first ones"
   ]
  },
  {
   "cell_type": "code",
   "execution_count": 43,
   "metadata": {},
   "outputs": [
    {
     "name": "stdout",
     "output_type": "stream",
     "text": [
      "[1, 2, 3]\n"
     ]
    }
   ],
   "source": [
    "print(li[:3]) # get the three first elements"
   ]
  },
  {
   "cell_type": "markdown",
   "metadata": {},
   "source": [
    "Lastly you can also specify a step within your range using the *first*`:`*last*`:`*step* syntax"
   ]
  },
  {
   "cell_type": "code",
   "execution_count": 44,
   "metadata": {},
   "outputs": [
    {
     "name": "stdout",
     "output_type": "stream",
     "text": [
      "[1, 3]\n"
     ]
    }
   ],
   "source": [
    "print(li[0:4:2]) # get every second element starting a the first and stopping at the fourth"
   ]
  },
  {
   "cell_type": "code",
   "execution_count": 45,
   "metadata": {},
   "outputs": [
    {
     "name": "stdout",
     "output_type": "stream",
     "text": [
      "[1, 3, 5]\n"
     ]
    }
   ],
   "source": [
    "print(li[::2]) # get every second element in the list"
   ]
  },
  {
   "cell_type": "markdown",
   "metadata": {},
   "source": [
    "### 1.3 Re-assigning values\n",
    "\n",
    "The indexing syntax can be to re-assign elements within a list"
   ]
  },
  {
   "cell_type": "code",
   "execution_count": 55,
   "metadata": {},
   "outputs": [
    {
     "name": "stdout",
     "output_type": "stream",
     "text": [
      "[10, 11, 8, 4, 5, 6]\n"
     ]
    }
   ],
   "source": [
    "li[2] = 8 # re-assign the third element to \"8\"\n",
    "print(li)"
   ]
  },
  {
   "cell_type": "code",
   "execution_count": 54,
   "metadata": {},
   "outputs": [
    {
     "name": "stdout",
     "output_type": "stream",
     "text": [
      "[10, 11, 12, 4, 5, 6]\n"
     ]
    }
   ],
   "source": [
    "li[:3] = [10, 11, 12] # re-assign the first three value to [10, 11, 12]\n",
    "print(li)"
   ]
  },
  {
   "cell_type": "markdown",
   "metadata": {},
   "source": [
    "### 1.4 Iterating over a list\n",
    "\n",
    "We saw before how we can do this using a `for`-loop.\n",
    "\n"
   ]
  },
  {
   "cell_type": "code",
   "execution_count": 47,
   "metadata": {},
   "outputs": [
    {
     "name": "stdout",
     "output_type": "stream",
     "text": [
      "10\n",
      "11\n",
      "12\n",
      "4\n",
      "5\n",
      "6\n"
     ]
    }
   ],
   "source": [
    "for e in li:\n",
    "    print(e)"
   ]
  },
  {
   "cell_type": "markdown",
   "metadata": {},
   "source": [
    "If you need to keep track of the index in each iteration of the loop, Python's `enumerate` function comes in to hand:"
   ]
  },
  {
   "cell_type": "code",
   "execution_count": 48,
   "metadata": {},
   "outputs": [
    {
     "name": "stdout",
     "output_type": "stream",
     "text": [
      "li[ 0 ] =  10\n",
      "li[ 1 ] =  11\n",
      "li[ 2 ] =  12\n",
      "li[ 3 ] =  4\n",
      "li[ 4 ] =  5\n",
      "li[ 5 ] =  6\n"
     ]
    }
   ],
   "source": [
    "for i, e in enumerate(li):\n",
    "    print(\"li[\", i, \"] = \", e)"
   ]
  },
  {
   "cell_type": "markdown",
   "metadata": {},
   "source": [
    "The builtin `len` function will give you the length of a list. This can be used in case you want to use the `range` function instead: "
   ]
  },
  {
   "cell_type": "code",
   "execution_count": 49,
   "metadata": {},
   "outputs": [
    {
     "name": "stdout",
     "output_type": "stream",
     "text": [
      "li[ 0 ] =  10\n",
      "li[ 1 ] =  11\n",
      "li[ 2 ] =  12\n",
      "li[ 3 ] =  4\n",
      "li[ 4 ] =  5\n",
      "li[ 5 ] =  6\n"
     ]
    }
   ],
   "source": [
    "for i in range(len(li)):\n",
    "    print(\"li[\", i, \"] = \", li[i])"
   ]
  },
  {
   "cell_type": "markdown",
   "metadata": {},
   "source": [
    "With the range function you can use a negative step to start at the end and iterate in reverse order instead."
   ]
  },
  {
   "cell_type": "code",
   "execution_count": 50,
   "metadata": {},
   "outputs": [
    {
     "name": "stdout",
     "output_type": "stream",
     "text": [
      "li[ 5 ] =  6\n",
      "li[ 4 ] =  5\n",
      "li[ 3 ] =  4\n",
      "li[ 2 ] =  12\n",
      "li[ 1 ] =  11\n",
      "li[ 0 ] =  10\n"
     ]
    }
   ],
   "source": [
    "for i in range(len(li)-1, -1, -1):\n",
    "     print(\"li[\", i, \"] = \", li[i])"
   ]
  },
  {
   "cell_type": "markdown",
   "metadata": {},
   "source": [
    "But an easier way would be to use Python's builtin `reversed` function."
   ]
  },
  {
   "cell_type": "code",
   "execution_count": 51,
   "metadata": {},
   "outputs": [
    {
     "name": "stdout",
     "output_type": "stream",
     "text": [
      "6\n",
      "5\n",
      "4\n",
      "12\n",
      "11\n",
      "10\n"
     ]
    }
   ],
   "source": [
    "for e in reversed(li):\n",
    "    print(e)"
   ]
  },
  {
   "cell_type": "markdown",
   "metadata": {},
   "source": [
    "### 1.5 Adding and removing elements"
   ]
  },
  {
   "cell_type": "markdown",
   "metadata": {},
   "source": [
    "#### Inserting"
   ]
  },
  {
   "cell_type": "markdown",
   "metadata": {},
   "source": [
    "Lists can be concatenated with each other. In the case we want to add more elements to a list we can just use the `+` operator which creates a new list that is the merge of the two."
   ]
  },
  {
   "cell_type": "code",
   "execution_count": 20,
   "metadata": {},
   "outputs": [
    {
     "name": "stdout",
     "output_type": "stream",
     "text": [
      "[1, 2, 3, 4, 5, 6, 7, 8, 9]\n"
     ]
    }
   ],
   "source": [
    "print(li + [7, 8, 9])"
   ]
  },
  {
   "cell_type": "markdown",
   "metadata": {},
   "source": [
    "NOTE that we can only use this functionality between lists. If you just want to add one element you would need to create a new list with the element"
   ]
  },
  {
   "cell_type": "code",
   "execution_count": 21,
   "metadata": {},
   "outputs": [
    {
     "name": "stdout",
     "output_type": "stream",
     "text": [
      "[1, 2, 3, 4, 5, 6, 7]\n"
     ]
    }
   ],
   "source": [
    "print(li + [7])"
   ]
  },
  {
   "cell_type": "markdown",
   "metadata": {},
   "source": [
    "The `+` operator takes two lists and returns a new one, without modifying the original ones. If you want your original list to have the updated version, you need to re-assign it by using `+=` instead.\n",
    "\n",
    "List objects have some functions to modify the original list directly also. For adding just one element lists have the `append` function that can be used instead"
   ]
  },
  {
   "cell_type": "code",
   "execution_count": 22,
   "metadata": {},
   "outputs": [
    {
     "name": "stdout",
     "output_type": "stream",
     "text": [
      "[1, 2, 3, 4, 5, 6, 7]\n"
     ]
    }
   ],
   "source": [
    "li.append(7)\n",
    "print(li)"
   ]
  },
  {
   "cell_type": "markdown",
   "metadata": {},
   "source": [
    "You can also `insert` an element at a specific index, pushing the elements after the given index one step back. `insert` takes as first parameter the "
   ]
  },
  {
   "cell_type": "code",
   "execution_count": 24,
   "metadata": {},
   "outputs": [
    {
     "name": "stdout",
     "output_type": "stream",
     "text": [
      "[1, 2, 3, 4, 8, 5, 6, 7, 4]\n"
     ]
    }
   ],
   "source": [
    "li.insert(4, 8)\n",
    "print(li)"
   ]
  },
  {
   "cell_type": "markdown",
   "metadata": {},
   "source": [
    "#### Removing\n",
    "\n",
    "Removing elements can be done by extracting a slice of the list as we saw earlier"
   ]
  },
  {
   "cell_type": "code",
   "execution_count": 28,
   "metadata": {},
   "outputs": [
    {
     "name": "stdout",
     "output_type": "stream",
     "text": [
      "remove two first elements, [3, 4, 5, 6, 7, 4]\n",
      "remove the last three elements [1, 2, 3, 4, 5]\n",
      "note that li is unmodified: [1, 2, 3, 4, 5, 6, 7, 4]\n"
     ]
    }
   ],
   "source": [
    "print(\"remove two first elements,\", li[2:])\n",
    "print(\"remove the last three elements\", li[:-3])\n",
    "print(\"note that li is unmodified:\", li)"
   ]
  },
  {
   "cell_type": "markdown",
   "metadata": {},
   "source": [
    "Just as when using the `+` operator we need to remember to re-assign the variable if we want to modify the actual list.\n",
    "\n",
    "You can use the `del` statement if you want to this without assigning:"
   ]
  },
  {
   "cell_type": "code",
   "execution_count": 27,
   "metadata": {},
   "outputs": [
    {
     "name": "stdout",
     "output_type": "stream",
     "text": [
      "[1, 2, 3, 4, 5, 6, 7, 4]\n"
     ]
    }
   ],
   "source": [
    "del li[4] # remove the fourth element (the 8 we inserted earlier)\n",
    "print(li)"
   ]
  },
  {
   "cell_type": "markdown",
   "metadata": {},
   "source": [
    "And the `del` statement can also be used with a range:"
   ]
  },
  {
   "cell_type": "code",
   "execution_count": 31,
   "metadata": {},
   "outputs": [
    {
     "name": "stdout",
     "output_type": "stream",
     "text": [
      "[1, 2, 3, 4]\n"
     ]
    }
   ],
   "source": [
    "del li[-2:] # remove the last two elements\n",
    "print(li)"
   ]
  },
  {
   "cell_type": "markdown",
   "metadata": {},
   "source": [
    "You can achieve the same behavior using list's `pop` function, which takes one optional parameter. When called without parameters it defaults to removing the last element, optionally you can specify at which index you want to remove the element."
   ]
  },
  {
   "cell_type": "code",
   "execution_count": 59,
   "metadata": {},
   "outputs": [
    {
     "name": "stdout",
     "output_type": "stream",
     "text": [
      "[8, 4]\n"
     ]
    }
   ],
   "source": [
    "li.pop() # remove last element\n",
    "li.pop(0) # remove first element\n",
    "print(li)"
   ]
  },
  {
   "cell_type": "markdown",
   "metadata": {},
   "source": [
    "To remove specific values from a list you can use the list's `remove` function which will delete the *first* occurence of a value within a list"
   ]
  },
  {
   "cell_type": "code",
   "execution_count": 32,
   "metadata": {},
   "outputs": [
    {
     "name": "stdout",
     "output_type": "stream",
     "text": [
      "[1, 2, 4]\n"
     ]
    }
   ],
   "source": [
    "li.remove(3) # remove the value \"3\" from the list\n",
    "print(li)"
   ]
  },
  {
   "cell_type": "code",
   "execution_count": 36,
   "metadata": {},
   "outputs": [
    {
     "name": "stdout",
     "output_type": "stream",
     "text": [
      "[1, 1, 1]\n"
     ]
    }
   ],
   "source": [
    "# create a new list of ones and test to remove the value \"1\"\n",
    "li = [1,1,1,1] \n",
    "li.remove(1)\n",
    "print(li)"
   ]
  },
  {
   "cell_type": "markdown",
   "metadata": {},
   "source": [
    "## 2. Dictionaries\n",
    "\n",
    "Dictionaries are mappings from hashable values to arbitrary objects. They define a list of keys that each point to an object. Below is an example of a mapping (not Python) that has the keys 'a', 'b' and 'c', that each point respectively to the values 1, 2 and 3.\n",
    "\n",
    "```\n",
    "{\n",
    "    'a' => 1\n",
    "    'b' => 2\n",
    "    'c' => 3\n",
    "}\n",
    "```"
   ]
  },
  {
   "cell_type": "markdown",
   "metadata": {},
   "source": [
    "### 2.1 Initialization \n",
    "\n",
    "In Python dictionaries kan be either initialized using the `dict` constructor and keyword input parameters as start values:"
   ]
  },
  {
   "cell_type": "code",
   "execution_count": 64,
   "metadata": {},
   "outputs": [
    {
     "name": "stdout",
     "output_type": "stream",
     "text": [
      "{'a': 1, 'b': 2, 'c': 3}\n"
     ]
    }
   ],
   "source": [
    "d = dict(a=1, b=2, c=3)\n",
    "print(d)"
   ]
  },
  {
   "cell_type": "markdown",
   "metadata": {},
   "source": [
    "We can also do this using a statement within `{}`, where we specify the keys and their values \n",
    "```python\n",
    "{\n",
    "    key1: value1,\n",
    "    key2: value2,\n",
    "}\n",
    "```"
   ]
  },
  {
   "cell_type": "code",
   "execution_count": 65,
   "metadata": {},
   "outputs": [
    {
     "name": "stdout",
     "output_type": "stream",
     "text": [
      "{'a': 1, 'b': 2, 'c': 3}\n"
     ]
    }
   ],
   "source": [
    "d = {\n",
    "    'a': 1,\n",
    "    'b': 2,\n",
    "    'c': 3,\n",
    "}\n",
    "print(d)"
   ]
  },
  {
   "cell_type": "markdown",
   "metadata": {},
   "source": [
    "Notice how in the first example keys are defaulted to the `str` type (which is also the most common scenario). But using the second version we specified this manually. Using the second version we can create dictionaries with other key types than strings, and you don't need to use the same:"
   ]
  },
  {
   "cell_type": "code",
   "execution_count": 69,
   "metadata": {},
   "outputs": [
    {
     "name": "stdout",
     "output_type": "stream",
     "text": [
      "{'a': 1, 39: [[1, 2, 3], [4, 5, 6], [7, 8, 9]], 'Hello,': 'World', False: 0}\n"
     ]
    }
   ],
   "source": [
    "# here is a quite wild dictionary that contains a little of everything\n",
    "d = {\n",
    "    'a': 1,\n",
    "    39: [[1,2,3],[4,5,6],[7,8,9]],\n",
    "    \"Hello,\": \"World\",\n",
    "    False: 0,\n",
    "}\n",
    "print(d)"
   ]
  },
  {
   "cell_type": "markdown",
   "metadata": {},
   "source": [
    "### 2.2 Indexing and muting objects\n",
    "\n",
    "The syntax is the same as with lists except that instead of strictly using integers for indexing you can use any type that you used for creating keys."
   ]
  },
  {
   "cell_type": "code",
   "execution_count": 70,
   "metadata": {},
   "outputs": [
    {
     "name": "stdout",
     "output_type": "stream",
     "text": [
      "1\n",
      "0\n"
     ]
    }
   ],
   "source": [
    "print(d['a'])\n",
    "print(d[False])"
   ]
  },
  {
   "cell_type": "markdown",
   "metadata": {},
   "source": [
    "To re-assign a value you just need to use the different assignment operators `=` operator."
   ]
  },
  {
   "cell_type": "code",
   "execution_count": 71,
   "metadata": {},
   "outputs": [
    {
     "name": "stdout",
     "output_type": "stream",
     "text": [
      "{'a': 1, 39: [[1, 2, 3], [4, 5, 6], [7, 8, 9]], 'Hello,': 'class', False: 0}\n"
     ]
    }
   ],
   "source": [
    "d[\"Hello,\"] = \"class\"\n",
    "print(d)"
   ]
  },
  {
   "cell_type": "code",
   "execution_count": 72,
   "metadata": {},
   "outputs": [
    {
     "name": "stdout",
     "output_type": "stream",
     "text": [
      "{'a': 1, 39: [[1, 2, 3], [4, 5, 6], [7, 8, 9]], 'Hello,': 'class', False: 10}\n"
     ]
    }
   ],
   "source": [
    "d[False] += 10\n",
    "print(d)"
   ]
  },
  {
   "cell_type": "markdown",
   "metadata": {},
   "source": [
    "If you want to add a new key and value pair it is the exact same syntax."
   ]
  },
  {
   "cell_type": "code",
   "execution_count": 76,
   "metadata": {},
   "outputs": [
    {
     "name": "stdout",
     "output_type": "stream",
     "text": [
      "{'a': 1, 39: [[1, 2, 3], [4, 5, 6], [7, 8, 9]], 'Hello,': 'class', False: 10, 'b': 2}\n"
     ]
    }
   ],
   "source": [
    "d['b'] = 2\n",
    "print(d)"
   ]
  },
  {
   "cell_type": "markdown",
   "metadata": {},
   "source": [
    "### 2.3. Iterating\n",
    "\n",
    "There are many ways you can iterate over dictionaries. You can use a `for`-loop directly, and in this we will be iterating over the keys, that we can use to access the elements."
   ]
  },
  {
   "cell_type": "code",
   "execution_count": 77,
   "metadata": {},
   "outputs": [
    {
     "name": "stdout",
     "output_type": "stream",
     "text": [
      "a\n",
      "39\n",
      "Hello,\n",
      "False\n",
      "b\n"
     ]
    }
   ],
   "source": [
    "for key in d:\n",
    "    print(key)"
   ]
  },
  {
   "cell_type": "markdown",
   "metadata": {},
   "source": [
    "If you would like for the key and the value directly in each step of the loop, you can as well use the `enumerate` function on dictionaries."
   ]
  },
  {
   "cell_type": "code",
   "execution_count": 78,
   "metadata": {},
   "outputs": [
    {
     "name": "stdout",
     "output_type": "stream",
     "text": [
      "0 => a\n",
      "1 => 39\n",
      "2 => Hello,\n",
      "3 => False\n",
      "4 => b\n"
     ]
    }
   ],
   "source": [
    "for key, value in enumerate(d):\n",
    "    print(key, \"=>\", value)"
   ]
  },
  {
   "cell_type": "markdown",
   "metadata": {},
   "source": [
    "## 3. Generators [advanced]\n",
    "\n",
    "We have looked at ways on how we can store and work with larger amounts of static data. This section will introduce you to some ideas on how we can work and iterate with more dynamic data.\n",
    "\n",
    "There might be cases that you have an enormous amount of data that you need to process, that you just can not load at one time into memory. Instead you want to load chunks that you work with one at a time. One way of doing this is using generators.\n",
    "\n",
    "Generators are basically functions that use a `yield` statement to return a new chunk. The function halts after the `yield` and will continue when next chunk is requested."
   ]
  },
  {
   "cell_type": "code",
   "execution_count": 79,
   "metadata": {},
   "outputs": [],
   "source": [
    "# create a generator that returns a list of values between 0:99 in chunks of 10.\n",
    "def gen():\n",
    "    chunk = []\n",
    "    for i in range(100):\n",
    "        chunk.append(i)\n",
    "        if len(chunk) == 10: # when chunk has a length of 10 we yield it\n",
    "            yield chunk\n",
    "            chunk = [] # empty it for next time"
   ]
  },
  {
   "cell_type": "code",
   "execution_count": 86,
   "metadata": {},
   "outputs": [
    {
     "name": "stdout",
     "output_type": "stream",
     "text": [
      "<class 'generator'>\n"
     ]
    }
   ],
   "source": [
    "print(type(gen()))"
   ]
  },
  {
   "cell_type": "code",
   "execution_count": 84,
   "metadata": {},
   "outputs": [
    {
     "name": "stdout",
     "output_type": "stream",
     "text": [
      "[0, 1, 2, 3, 4, 5, 6, 7, 8, 9]\n",
      "[10, 11, 12, 13, 14, 15, 16, 17, 18, 19]\n",
      "[20, 21, 22, 23, 24, 25, 26, 27, 28, 29]\n",
      "[30, 31, 32, 33, 34, 35, 36, 37, 38, 39]\n",
      "[40, 41, 42, 43, 44, 45, 46, 47, 48, 49]\n",
      "[50, 51, 52, 53, 54, 55, 56, 57, 58, 59]\n",
      "[60, 61, 62, 63, 64, 65, 66, 67, 68, 69]\n",
      "[70, 71, 72, 73, 74, 75, 76, 77, 78, 79]\n",
      "[80, 81, 82, 83, 84, 85, 86, 87, 88, 89]\n",
      "[90, 91, 92, 93, 94, 95, 96, 97, 98, 99]\n"
     ]
    }
   ],
   "source": [
    "for chunk in gen():\n",
    "    print(chunk)"
   ]
  },
  {
   "cell_type": "markdown",
   "metadata": {},
   "source": [
    "##  4. Lambda functions\n",
    "\n",
    "Lambda functions can be seen as one-line functions that take an input and return a new value. They are create using the `lambda` keyword: \n",
    "\n",
    "`lambda` *input*`:`*output*"
   ]
  },
  {
   "cell_type": "code",
   "execution_count": 88,
   "metadata": {},
   "outputs": [],
   "source": [
    "la = lambda x: x + 1"
   ]
  },
  {
   "cell_type": "code",
   "execution_count": 89,
   "metadata": {},
   "outputs": [
    {
     "name": "stdout",
     "output_type": "stream",
     "text": [
      "<class 'function'>\n"
     ]
    }
   ],
   "source": [
    "print(type(la))"
   ]
  },
  {
   "cell_type": "code",
   "execution_count": 90,
   "metadata": {},
   "outputs": [
    {
     "data": {
      "text/plain": [
       "11"
      ]
     },
     "execution_count": 90,
     "metadata": {},
     "output_type": "execute_result"
    }
   ],
   "source": [
    "la(10)"
   ]
  },
  {
   "cell_type": "markdown",
   "metadata": {},
   "source": [
    "Lambda functions can also take several inputs:"
   ]
  },
  {
   "cell_type": "code",
   "execution_count": 93,
   "metadata": {},
   "outputs": [],
   "source": [
    "la = lambda x, y: x + y # create an add function as lambda "
   ]
  },
  {
   "cell_type": "code",
   "execution_count": 92,
   "metadata": {},
   "outputs": [
    {
     "data": {
      "text/plain": [
       "20"
      ]
     },
     "execution_count": 92,
     "metadata": {},
     "output_type": "execute_result"
    }
   ],
   "source": [
    "la(10, 10)"
   ]
  },
  {
   "cell_type": "markdown",
   "metadata": {},
   "source": [
    "Note how we do not need a return statement in `lamdba` functions. They are only one expression, and it is to define what is returned in the end. They are very useful when you are calling a function that takes another function as input parameter."
   ]
  },
  {
   "cell_type": "markdown",
   "metadata": {},
   "source": [
    "#### map\n",
    "\n",
    "One such function where defining `lambda` function comes in handy is the `map` function. `map` takes two parameters:\n",
    " * a function\n",
    " * an iterable (e.g. list)\n",
    "\n",
    "`map` iterates over the list and returns a new list as a `map` type where each value is the output of calling it's first argument (the function) with the current element. Here is an example to illustrate a little more."
   ]
  },
  {
   "cell_type": "code",
   "execution_count": 98,
   "metadata": {},
   "outputs": [],
   "source": [
    "li = [0, 1, 2, 3, 4, 5, 6, 7, 8, 9] # create a list 0 - 9"
   ]
  },
  {
   "cell_type": "code",
   "execution_count": 99,
   "metadata": {},
   "outputs": [
    {
     "name": "stdout",
     "output_type": "stream",
     "text": [
      "[0, 1, 4, 9, 16, 25, 36, 49, 64, 81]\n"
     ]
    }
   ],
   "source": [
    "new_list = list(map(lambda x: x**2, li)) # note how we convert to a list\n",
    "print(new_list)"
   ]
  },
  {
   "cell_type": "markdown",
   "metadata": {},
   "source": [
    "#### filter\n",
    "\n",
    "`filter` is another useful function that returns a new list as a `filter` object with all elements from the original list that give `True` for the input function."
   ]
  },
  {
   "cell_type": "code",
   "execution_count": 100,
   "metadata": {},
   "outputs": [
    {
     "name": "stdout",
     "output_type": "stream",
     "text": [
      "[5, 6, 7, 8, 9]\n"
     ]
    }
   ],
   "source": [
    "new_list = list(filter(lambda x: x > 4, li))\n",
    "print(new_list)"
   ]
  },
  {
   "cell_type": "code",
   "execution_count": null,
   "metadata": {},
   "outputs": [],
   "source": []
  }
 ],
 "metadata": {
  "kernelspec": {
   "display_name": "Python 3",
   "language": "python",
   "name": "python3"
  },
  "language_info": {
   "codemirror_mode": {
    "name": "ipython",
    "version": 3
   },
   "file_extension": ".py",
   "mimetype": "text/x-python",
   "name": "python",
   "nbconvert_exporter": "python",
   "pygments_lexer": "ipython3",
   "version": "3.7.2"
  }
 },
 "nbformat": 4,
 "nbformat_minor": 2
}
