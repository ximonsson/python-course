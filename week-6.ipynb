{
 "cells": [
  {
   "cell_type": "markdown",
   "metadata": {},
   "source": [
    "# Lists, sets and dictionaries\n",
    "\n",
    "In this class we will look at working with multiple data. Using lists, sets and dictionaries you will all be introduced to tools on how to do this. Lambda functions will be overviewed to give you more flexibility in transforming data. We will even introduce generators which are a way to generate data that you can iterate over.\n",
    "\n",
    "After this class you will know how to:\n",
    "    * how to work with lists \n",
    "    * how to use sets\n",
    "    * how to work with dictionaries\n",
    "    * how to create lambda functions\n",
    "    * create a generator"
   ]
  },
  {
   "cell_type": "markdown",
   "metadata": {},
   "source": [
    "## Recap\n",
    "\n",
    "Last week we look at input and output for our programs, and also importing functionality from files and modules."
   ]
  },
  {
   "cell_type": "markdown",
   "metadata": {},
   "source": [
    "### Import\n",
    "\n",
    "Using the `import` keyword we can import functions, variables and classes from other files or modules. For example there is the `math` module has a definition of the `pi` variable."
   ]
  },
  {
   "cell_type": "code",
   "execution_count": null,
   "metadata": {},
   "outputs": [],
   "source": [
    "import math\n",
    "\n",
    "print(math.pi)"
   ]
  },
  {
   "cell_type": "markdown",
   "metadata": {},
   "source": [
    "We also saw how we could only import specific variables and functions"
   ]
  },
  {
   "cell_type": "code",
   "execution_count": null,
   "metadata": {},
   "outputs": [],
   "source": [
    "from math import pi\n",
    "print(pi)"
   ]
  },
  {
   "cell_type": "markdown",
   "metadata": {},
   "source": [
    "### Input/Output\n",
    "\n",
    "We saw that the `print` function is used to make sure that we write something to the terminal, not returning a value for a function.\n",
    "\n",
    "#### Command line arguments\n",
    "\n",
    "Command line arguments that are passed along to a script are available through the `sys` module that has a `argv` variable, which is a list of `str`. And remember that the first element in this list is the name of the script.\n",
    "\n",
    "```python\n",
    "import sys\n",
    "\n",
    "print(sys.argv[0]) # prints the name of the file\n",
    "```\n",
    "\n",
    "#### Reading and writing to files\n",
    "\n",
    "Using the `open` function we can open a file for reading or writing. This function returns a filehandler that has read functions and write functions. Remember that you need to pass `\"w\"` as second argument to the `open` function if you are writing to it.\n",
    "\n",
    "```python\n",
    "# read all the contents from a file\n",
    "f = open(\"data.txt\")\n",
    "data = f.read()\n",
    "f.close()\n",
    "```\n",
    "\n",
    "```python\n",
    "# write a text to a file\n",
    "f = open(\"output.txt\", \"w\")\n",
    "output = \"\"\"Here is some\n",
    "text that we want to \n",
    "write to a file\n",
    "\"\"\"\n",
    "f.write(output)\n",
    "f.close()\n",
    "```\n",
    "\n",
    "**ALWAYS** remember to `close` the file when you are done.\n",
    "\n"
   ]
  },
  {
   "cell_type": "markdown",
   "metadata": {},
   "source": [
    "## Lists\n",
    "\n",
    "Lists are the basic data structure for storing multiple values using one variable.\n",
    "\n",
    "The syntax is quite similar to C:"
   ]
  },
  {
   "cell_type": "code",
   "execution_count": 1,
   "metadata": {},
   "outputs": [],
   "source": [
    "li = [1,2,3,4,5,6] # create a new list"
   ]
  },
  {
   "cell_type": "markdown",
   "metadata": {},
   "source": [
    "### Indexing\n",
    "\n",
    "List indexing in Python is done using brackets `[i]`, where `0` is the first element."
   ]
  },
  {
   "cell_type": "code",
   "execution_count": 2,
   "metadata": {},
   "outputs": [
    {
     "name": "stdout",
     "output_type": "stream",
     "text": [
      "1\n"
     ]
    }
   ],
   "source": [
    "print(li[0])"
   ]
  },
  {
   "cell_type": "markdown",
   "metadata": {},
   "source": [
    "You can also use negative indexing in Python to get the `i`th value starting from the end of the list. So at index `-1` you have the last element, `-2` the second from last, and so on..."
   ]
  },
  {
   "cell_type": "code",
   "execution_count": 3,
   "metadata": {},
   "outputs": [
    {
     "name": "stdout",
     "output_type": "stream",
     "text": [
      "5\n"
     ]
    }
   ],
   "source": [
    "print(li[-2])"
   ]
  },
  {
   "cell_type": "markdown",
   "metadata": {},
   "source": [
    "It is also possible to get a subset of a list, called a `slice`, using a range of indices. This is done using the syntax *first*`:`*last*. This takes all the elements starting and including *first* until and **excluding** last."
   ]
  },
  {
   "cell_type": "code",
   "execution_count": 7,
   "metadata": {},
   "outputs": [
    {
     "name": "stdout",
     "output_type": "stream",
     "text": [
      "[2, 3]\n"
     ]
    }
   ],
   "source": [
    "print(li[1:3]) # get elements li[1], li[2]"
   ]
  },
  {
   "cell_type": "markdown",
   "metadata": {},
   "source": [
    "You can also omit one of the values. If you omit *first* the range will start from `0`. If last is omitted the range ends at the last element of the list (including it)."
   ]
  },
  {
   "cell_type": "code",
   "execution_count": 8,
   "metadata": {},
   "outputs": [
    {
     "name": "stdout",
     "output_type": "stream",
     "text": [
      "[3, 4, 5, 6]\n"
     ]
    }
   ],
   "source": [
    "print(li[2:]) # get all the elements after the two first ones"
   ]
  },
  {
   "cell_type": "code",
   "execution_count": 11,
   "metadata": {},
   "outputs": [
    {
     "name": "stdout",
     "output_type": "stream",
     "text": [
      "[1, 2, 3]\n"
     ]
    }
   ],
   "source": [
    "print(li[:3]) # get the three first elements"
   ]
  },
  {
   "cell_type": "markdown",
   "metadata": {},
   "source": [
    "Lastly you can also specify a step within your range using the *first*`:`*last*`:`*step* syntax"
   ]
  },
  {
   "cell_type": "code",
   "execution_count": 17,
   "metadata": {},
   "outputs": [
    {
     "name": "stdout",
     "output_type": "stream",
     "text": [
      "[1, 3]\n"
     ]
    }
   ],
   "source": [
    "print(li[0:4:2]) # get every second element starting a the first and stopping at the fourth"
   ]
  },
  {
   "cell_type": "code",
   "execution_count": 19,
   "metadata": {},
   "outputs": [
    {
     "name": "stdout",
     "output_type": "stream",
     "text": [
      "[1, 3, 5]\n"
     ]
    }
   ],
   "source": [
    "print(li[::2]) # get every second element in the list"
   ]
  },
  {
   "cell_type": "markdown",
   "metadata": {},
   "source": [
    "### Iterating over a list\n",
    "\n",
    "We saw before how we can do this using a `for`-loop.\n",
    "\n"
   ]
  },
  {
   "cell_type": "code",
   "execution_count": 20,
   "metadata": {},
   "outputs": [
    {
     "name": "stdout",
     "output_type": "stream",
     "text": [
      "1\n",
      "2\n",
      "3\n",
      "4\n",
      "5\n",
      "6\n"
     ]
    }
   ],
   "source": [
    "for e in li:\n",
    "    print(e)"
   ]
  },
  {
   "cell_type": "markdown",
   "metadata": {},
   "source": [
    "If you need to keep track of the index in each iteration of the loop, Python's `enumerate` function comes in to hand:"
   ]
  },
  {
   "cell_type": "code",
   "execution_count": 21,
   "metadata": {},
   "outputs": [
    {
     "name": "stdout",
     "output_type": "stream",
     "text": [
      "li[ 0 ] =  1\n",
      "li[ 1 ] =  2\n",
      "li[ 2 ] =  3\n",
      "li[ 3 ] =  4\n",
      "li[ 4 ] =  5\n",
      "li[ 5 ] =  6\n"
     ]
    }
   ],
   "source": [
    "for i, e in enumerate(li):\n",
    "    print(\"li[\", i, \"] = \", e)"
   ]
  },
  {
   "cell_type": "markdown",
   "metadata": {},
   "source": [
    "The builtin `len` function will give you the length of a list. This can be used in case you want to use the `range` function instead: "
   ]
  },
  {
   "cell_type": "code",
   "execution_count": 23,
   "metadata": {},
   "outputs": [
    {
     "name": "stdout",
     "output_type": "stream",
     "text": [
      "li[ 0 ] =  1\n",
      "li[ 1 ] =  2\n",
      "li[ 2 ] =  3\n",
      "li[ 3 ] =  4\n",
      "li[ 4 ] =  5\n",
      "li[ 5 ] =  6\n"
     ]
    }
   ],
   "source": [
    "for i in range(len(li)):\n",
    "    print(\"li[\", i, \"] = \", li[i])"
   ]
  },
  {
   "cell_type": "markdown",
   "metadata": {},
   "source": [
    "With the range function you can use a negative step to start at the end and iterate in reverse order instead."
   ]
  },
  {
   "cell_type": "code",
   "execution_count": 26,
   "metadata": {},
   "outputs": [
    {
     "name": "stdout",
     "output_type": "stream",
     "text": [
      "li[ 5 ] =  6\n",
      "li[ 4 ] =  5\n",
      "li[ 3 ] =  4\n",
      "li[ 2 ] =  3\n",
      "li[ 1 ] =  2\n",
      "li[ 0 ] =  1\n"
     ]
    }
   ],
   "source": [
    "for i in range(len(li)-1, -1, -1):\n",
    "     print(\"li[\", i, \"] = \", li[i])"
   ]
  },
  {
   "cell_type": "markdown",
   "metadata": {},
   "source": [
    "But an easier way would be to use Python's builtin `reversed` function:"
   ]
  },
  {
   "cell_type": "code",
   "execution_count": 28,
   "metadata": {},
   "outputs": [
    {
     "name": "stdout",
     "output_type": "stream",
     "text": [
      "6\n",
      "5\n",
      "4\n",
      "3\n",
      "2\n",
      "1\n"
     ]
    }
   ],
   "source": [
    "for e in reversed(li):\n",
    "    print(e)"
   ]
  },
  {
   "cell_type": "markdown",
   "metadata": {},
   "source": [
    "### Adding and removing elements"
   ]
  },
  {
   "cell_type": "markdown",
   "metadata": {},
   "source": [
    "Lists can be concatenated with each other. In the case we want to add more elements to a list we can just use the `+` operator which creates a new list that is the merge of the two."
   ]
  },
  {
   "cell_type": "code",
   "execution_count": 30,
   "metadata": {},
   "outputs": [
    {
     "name": "stdout",
     "output_type": "stream",
     "text": [
      "[1, 2, 3, 4, 5, 6, 7, 8, 9]\n"
     ]
    }
   ],
   "source": [
    "print(li + [7, 8, 9])"
   ]
  },
  {
   "cell_type": "markdown",
   "metadata": {},
   "source": [
    "NOTE that we can only use this functionality between lists. If you just want to add one element you would need to create a new list with the element"
   ]
  },
  {
   "cell_type": "code",
   "execution_count": 31,
   "metadata": {},
   "outputs": [
    {
     "name": "stdout",
     "output_type": "stream",
     "text": [
      "[1, 2, 3, 4, 5, 6, 7]\n"
     ]
    }
   ],
   "source": [
    "print(li + [7])"
   ]
  },
  {
   "cell_type": "markdown",
   "metadata": {},
   "source": [
    "For just one element lists have the `append` function that can be used instead"
   ]
  },
  {
   "cell_type": "code",
   "execution_count": 32,
   "metadata": {},
   "outputs": [
    {
     "name": "stdout",
     "output_type": "stream",
     "text": [
      "[1, 2, 3, 4, 5, 6, 7]\n"
     ]
    }
   ],
   "source": [
    "li.append(7)\n",
    "print(li)"
   ]
  },
  {
   "cell_type": "code",
   "execution_count": null,
   "metadata": {},
   "outputs": [],
   "source": []
  }
 ],
 "metadata": {
  "kernelspec": {
   "display_name": "Python 3",
   "language": "python",
   "name": "python3"
  },
  "language_info": {
   "codemirror_mode": {
    "name": "ipython",
    "version": 3
   },
   "file_extension": ".py",
   "mimetype": "text/x-python",
   "name": "python",
   "nbconvert_exporter": "python",
   "pygments_lexer": "ipython3",
   "version": "3.7.2"
  }
 },
 "nbformat": 4,
 "nbformat_minor": 2
}
