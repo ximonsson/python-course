{
 "cells": [
  {
   "cell_type": "markdown",
   "metadata": {},
   "source": [
    "# Lists, sets and dictionaries\n",
    "\n",
    "In this class we will look at working with multiple data. Using lists, sets and dictionaries you will all be introduced to tools on how to do this. Lambda functions will be overviewed to give you more flexibility in transforming data. We will even introduce generators which are a way to generate data that you can iterate over.\n",
    "\n",
    "After this class you will know how to:\n",
    "    * how to work with lists \n",
    "    * how to use sets\n",
    "    * how to work with dictionaries\n",
    "    * how to create lambda functions\n",
    "    * create a generator"
   ]
  },
  {
   "cell_type": "markdown",
   "metadata": {},
   "source": [
    "## Recap\n",
    "\n",
    "Last week we look at input and output for our programs, and also importing functionality from files and modules."
   ]
  },
  {
   "cell_type": "markdown",
   "metadata": {},
   "source": [
    "### Import\n",
    "\n",
    "Using the `import` keyword we can import functions, variables and classes from other files or modules. For example there is the `math` module has a definition of the `pi` variable."
   ]
  },
  {
   "cell_type": "code",
   "execution_count": null,
   "metadata": {},
   "outputs": [],
   "source": [
    "import math\n",
    "\n",
    "print(math.pi)"
   ]
  },
  {
   "cell_type": "markdown",
   "metadata": {},
   "source": [
    "We also saw how we could only import specific variables and functions"
   ]
  },
  {
   "cell_type": "code",
   "execution_count": null,
   "metadata": {},
   "outputs": [],
   "source": [
    "from math import pi\n",
    "print(pi)"
   ]
  },
  {
   "cell_type": "markdown",
   "metadata": {},
   "source": [
    "### Input/Output\n",
    "\n",
    "We saw that the `print` function is used to make sure that we write something to the terminal, not returning a value for a function.\n",
    "\n",
    "#### Command line arguments\n",
    "\n",
    "Command line arguments that are passed along to a script are available through the `sys` module that has a `argv` variable, which is a list of `str`. And remember that the first element in this list is the name of the script.\n",
    "\n",
    "```python\n",
    "import sys\n",
    "\n",
    "print(sys.argv[0]) # prints the name of the file\n",
    "```\n",
    "\n",
    "#### Reading and writing to files\n",
    "\n",
    "Using the `open` function we can open a file for reading or writing. This function returns a filehandler that has read functions and write functions. Remember that you need to pass `\"w\"` as second argument to the `open` function if you are writing to it.\n",
    "\n",
    "```python\n",
    "# read all the contents from a file\n",
    "f = open(\"data.txt\")\n",
    "data = f.read()\n",
    "f.close()\n",
    "```\n",
    "\n",
    "```python\n",
    "# write a text to a file\n",
    "f = open(\"output.txt\", \"w\")\n",
    "output = \"\"\"Here is some\n",
    "text that we want to \n",
    "write to a file\n",
    "\"\"\"\n",
    "f.write(output)\n",
    "f.close()\n",
    "```\n",
    "\n",
    "**ALWAYS** remember to `close` the file when you are done.\n",
    "\n"
   ]
  },
  {
   "cell_type": "markdown",
   "metadata": {},
   "source": [
    "## 1. Lists\n",
    "\n",
    "Lists are the basic data structure for storing multiple values using one variable.\n",
    "\n",
    "The syntax is quite similar to C:"
   ]
  },
  {
   "cell_type": "code",
   "execution_count": 38,
   "metadata": {},
   "outputs": [],
   "source": [
    "li = [1,2,3,4,5,6] # create a new list"
   ]
  },
  {
   "cell_type": "markdown",
   "metadata": {},
   "source": [
    "Lists are however not restricted to a certain type in Python, you can freely mix the types for each element:"
   ]
  },
  {
   "cell_type": "code",
   "execution_count": 57,
   "metadata": {},
   "outputs": [
    {
     "data": {
      "text/plain": [
       "[[1, 2, 3], 'Hello', 5.6, (True, False)]"
      ]
     },
     "execution_count": 57,
     "metadata": {},
     "output_type": "execute_result"
    }
   ],
   "source": [
    "[[1,2,3], \"Hello\", 5.6, (True, False)]"
   ]
  },
  {
   "cell_type": "markdown",
   "metadata": {},
   "source": [
    "### 1.2 Indexing\n",
    "\n",
    "List indexing in Python is done using brackets `[i]`, where `0` is the first element."
   ]
  },
  {
   "cell_type": "code",
   "execution_count": 39,
   "metadata": {},
   "outputs": [
    {
     "name": "stdout",
     "output_type": "stream",
     "text": [
      "1\n"
     ]
    }
   ],
   "source": [
    "print(li[0])"
   ]
  },
  {
   "cell_type": "markdown",
   "metadata": {},
   "source": [
    "You can also use negative indexing in Python to get the `i`th value starting from the end of the list. So at index `-1` you have the last element, `-2` the second from last, and so on..."
   ]
  },
  {
   "cell_type": "code",
   "execution_count": 40,
   "metadata": {},
   "outputs": [
    {
     "name": "stdout",
     "output_type": "stream",
     "text": [
      "5\n"
     ]
    }
   ],
   "source": [
    "print(li[-2])"
   ]
  },
  {
   "cell_type": "markdown",
   "metadata": {},
   "source": [
    "It is also possible to get a subset of a list, called a `slice`, using a range of indices. This is done using the syntax *first*`:`*last*. This takes all the elements starting and including *first* until and **excluding** last."
   ]
  },
  {
   "cell_type": "code",
   "execution_count": 41,
   "metadata": {},
   "outputs": [
    {
     "name": "stdout",
     "output_type": "stream",
     "text": [
      "[2, 3]\n"
     ]
    }
   ],
   "source": [
    "print(li[1:3]) # get elements li[1], li[2]"
   ]
  },
  {
   "cell_type": "markdown",
   "metadata": {},
   "source": [
    "You can also omit one of the values. If you omit *first* the range will start from `0`. If last is omitted the range ends at the last element of the list (including it)."
   ]
  },
  {
   "cell_type": "code",
   "execution_count": 42,
   "metadata": {},
   "outputs": [
    {
     "name": "stdout",
     "output_type": "stream",
     "text": [
      "[3, 4, 5, 6]\n"
     ]
    }
   ],
   "source": [
    "print(li[2:]) # get all the elements after the two first ones"
   ]
  },
  {
   "cell_type": "code",
   "execution_count": 43,
   "metadata": {},
   "outputs": [
    {
     "name": "stdout",
     "output_type": "stream",
     "text": [
      "[1, 2, 3]\n"
     ]
    }
   ],
   "source": [
    "print(li[:3]) # get the three first elements"
   ]
  },
  {
   "cell_type": "markdown",
   "metadata": {},
   "source": [
    "Lastly you can also specify a step within your range using the *first*`:`*last*`:`*step* syntax"
   ]
  },
  {
   "cell_type": "code",
   "execution_count": 44,
   "metadata": {},
   "outputs": [
    {
     "name": "stdout",
     "output_type": "stream",
     "text": [
      "[1, 3]\n"
     ]
    }
   ],
   "source": [
    "print(li[0:4:2]) # get every second element starting a the first and stopping at the fourth"
   ]
  },
  {
   "cell_type": "code",
   "execution_count": 45,
   "metadata": {},
   "outputs": [
    {
     "name": "stdout",
     "output_type": "stream",
     "text": [
      "[1, 3, 5]\n"
     ]
    }
   ],
   "source": [
    "print(li[::2]) # get every second element in the list"
   ]
  },
  {
   "cell_type": "markdown",
   "metadata": {},
   "source": [
    "### 1.3 Re-assigning values\n",
    "\n",
    "The indexing syntax can be to re-assign elements within a list"
   ]
  },
  {
   "cell_type": "code",
   "execution_count": 55,
   "metadata": {},
   "outputs": [
    {
     "name": "stdout",
     "output_type": "stream",
     "text": [
      "[10, 11, 8, 4, 5, 6]\n"
     ]
    }
   ],
   "source": [
    "li[2] = 8 # re-assign the third element to \"8\"\n",
    "print(li)"
   ]
  },
  {
   "cell_type": "code",
   "execution_count": 54,
   "metadata": {},
   "outputs": [
    {
     "name": "stdout",
     "output_type": "stream",
     "text": [
      "[10, 11, 12, 4, 5, 6]\n"
     ]
    }
   ],
   "source": [
    "li[:3] = [10, 11, 12] # re-assign the first three value to [10, 11, 12]\n",
    "print(li)"
   ]
  },
  {
   "cell_type": "markdown",
   "metadata": {},
   "source": [
    "### 1.4 Iterating over a list\n",
    "\n",
    "We saw before how we can do this using a `for`-loop.\n",
    "\n"
   ]
  },
  {
   "cell_type": "code",
   "execution_count": 47,
   "metadata": {},
   "outputs": [
    {
     "name": "stdout",
     "output_type": "stream",
     "text": [
      "10\n",
      "11\n",
      "12\n",
      "4\n",
      "5\n",
      "6\n"
     ]
    }
   ],
   "source": [
    "for e in li:\n",
    "    print(e)"
   ]
  },
  {
   "cell_type": "markdown",
   "metadata": {},
   "source": [
    "If you need to keep track of the index in each iteration of the loop, Python's `enumerate` function comes in to hand:"
   ]
  },
  {
   "cell_type": "code",
   "execution_count": 48,
   "metadata": {},
   "outputs": [
    {
     "name": "stdout",
     "output_type": "stream",
     "text": [
      "li[ 0 ] =  10\n",
      "li[ 1 ] =  11\n",
      "li[ 2 ] =  12\n",
      "li[ 3 ] =  4\n",
      "li[ 4 ] =  5\n",
      "li[ 5 ] =  6\n"
     ]
    }
   ],
   "source": [
    "for i, e in enumerate(li):\n",
    "    print(\"li[\", i, \"] = \", e)"
   ]
  },
  {
   "cell_type": "markdown",
   "metadata": {},
   "source": [
    "The builtin `len` function will give you the length of a list. This can be used in case you want to use the `range` function instead: "
   ]
  },
  {
   "cell_type": "code",
   "execution_count": 49,
   "metadata": {},
   "outputs": [
    {
     "name": "stdout",
     "output_type": "stream",
     "text": [
      "li[ 0 ] =  10\n",
      "li[ 1 ] =  11\n",
      "li[ 2 ] =  12\n",
      "li[ 3 ] =  4\n",
      "li[ 4 ] =  5\n",
      "li[ 5 ] =  6\n"
     ]
    }
   ],
   "source": [
    "for i in range(len(li)):\n",
    "    print(\"li[\", i, \"] = \", li[i])"
   ]
  },
  {
   "cell_type": "markdown",
   "metadata": {},
   "source": [
    "With the range function you can use a negative step to start at the end and iterate in reverse order instead."
   ]
  },
  {
   "cell_type": "code",
   "execution_count": 50,
   "metadata": {},
   "outputs": [
    {
     "name": "stdout",
     "output_type": "stream",
     "text": [
      "li[ 5 ] =  6\n",
      "li[ 4 ] =  5\n",
      "li[ 3 ] =  4\n",
      "li[ 2 ] =  12\n",
      "li[ 1 ] =  11\n",
      "li[ 0 ] =  10\n"
     ]
    }
   ],
   "source": [
    "for i in range(len(li)-1, -1, -1):\n",
    "     print(\"li[\", i, \"] = \", li[i])"
   ]
  },
  {
   "cell_type": "markdown",
   "metadata": {},
   "source": [
    "But an easier way would be to use Python's builtin `reversed` function."
   ]
  },
  {
   "cell_type": "code",
   "execution_count": 51,
   "metadata": {},
   "outputs": [
    {
     "name": "stdout",
     "output_type": "stream",
     "text": [
      "6\n",
      "5\n",
      "4\n",
      "12\n",
      "11\n",
      "10\n"
     ]
    }
   ],
   "source": [
    "for e in reversed(li):\n",
    "    print(e)"
   ]
  },
  {
   "cell_type": "markdown",
   "metadata": {},
   "source": [
    "### 1.5 Adding and removing elements"
   ]
  },
  {
   "cell_type": "markdown",
   "metadata": {},
   "source": [
    "#### Inserting"
   ]
  },
  {
   "cell_type": "markdown",
   "metadata": {},
   "source": [
    "Lists can be concatenated with each other. In the case we want to add more elements to a list we can just use the `+` operator which creates a new list that is the merge of the two."
   ]
  },
  {
   "cell_type": "code",
   "execution_count": 20,
   "metadata": {},
   "outputs": [
    {
     "name": "stdout",
     "output_type": "stream",
     "text": [
      "[1, 2, 3, 4, 5, 6, 7, 8, 9]\n"
     ]
    }
   ],
   "source": [
    "print(li + [7, 8, 9])"
   ]
  },
  {
   "cell_type": "markdown",
   "metadata": {},
   "source": [
    "NOTE that we can only use this functionality between lists. If you just want to add one element you would need to create a new list with the element"
   ]
  },
  {
   "cell_type": "code",
   "execution_count": 21,
   "metadata": {},
   "outputs": [
    {
     "name": "stdout",
     "output_type": "stream",
     "text": [
      "[1, 2, 3, 4, 5, 6, 7]\n"
     ]
    }
   ],
   "source": [
    "print(li + [7])"
   ]
  },
  {
   "cell_type": "markdown",
   "metadata": {},
   "source": [
    "The `+` operator takes two lists and returns a new one, without modifying the original ones. If you want your original list to have the updated version, you need to re-assign it by using `+=` instead.\n",
    "\n",
    "List objects have some functions to modify the original list directly also. For adding just one element lists have the `append` function that can be used instead"
   ]
  },
  {
   "cell_type": "code",
   "execution_count": 22,
   "metadata": {},
   "outputs": [
    {
     "name": "stdout",
     "output_type": "stream",
     "text": [
      "[1, 2, 3, 4, 5, 6, 7]\n"
     ]
    }
   ],
   "source": [
    "li.append(7)\n",
    "print(li)"
   ]
  },
  {
   "cell_type": "markdown",
   "metadata": {},
   "source": [
    "You can also `insert` an element at a specific index, pushing the elements after the given index one step back. `insert` takes as first parameter the "
   ]
  },
  {
   "cell_type": "code",
   "execution_count": 24,
   "metadata": {},
   "outputs": [
    {
     "name": "stdout",
     "output_type": "stream",
     "text": [
      "[1, 2, 3, 4, 8, 5, 6, 7, 4]\n"
     ]
    }
   ],
   "source": [
    "li.insert(4, 8)\n",
    "print(li)"
   ]
  },
  {
   "cell_type": "markdown",
   "metadata": {},
   "source": [
    "#### Removing\n",
    "\n",
    "Removing elements can be done by extracting a slice of the list as we saw earlier"
   ]
  },
  {
   "cell_type": "code",
   "execution_count": 28,
   "metadata": {},
   "outputs": [
    {
     "name": "stdout",
     "output_type": "stream",
     "text": [
      "remove two first elements, [3, 4, 5, 6, 7, 4]\n",
      "remove the last three elements [1, 2, 3, 4, 5]\n",
      "note that li is unmodified: [1, 2, 3, 4, 5, 6, 7, 4]\n"
     ]
    }
   ],
   "source": [
    "print(\"remove two first elements,\", li[2:])\n",
    "print(\"remove the last three elements\", li[:-3])\n",
    "print(\"note that li is unmodified:\", li)"
   ]
  },
  {
   "cell_type": "markdown",
   "metadata": {},
   "source": [
    "Just as when using the `+` operator we need to remember to re-assign the variable if we want to modify the actual list.\n",
    "\n",
    "You can use the `del` statement if you want to this without assigning:"
   ]
  },
  {
   "cell_type": "code",
   "execution_count": 27,
   "metadata": {},
   "outputs": [
    {
     "name": "stdout",
     "output_type": "stream",
     "text": [
      "[1, 2, 3, 4, 5, 6, 7, 4]\n"
     ]
    }
   ],
   "source": [
    "del li[4] # remove the fourth element (the 8 we inserted earlier)\n",
    "print(li)"
   ]
  },
  {
   "cell_type": "markdown",
   "metadata": {},
   "source": [
    "And the `del` statement can also be used with a range:"
   ]
  },
  {
   "cell_type": "code",
   "execution_count": 31,
   "metadata": {},
   "outputs": [
    {
     "name": "stdout",
     "output_type": "stream",
     "text": [
      "[1, 2, 3, 4]\n"
     ]
    }
   ],
   "source": [
    "del li[-2:] # remove the last two elements\n",
    "print(li)"
   ]
  },
  {
   "cell_type": "markdown",
   "metadata": {},
   "source": [
    "You can achieve the same behavior using list's `pop` function, which takes one optional parameter. When called without parameters it defaults to removing the last element, optionally you can specify at which index you want to remove the element."
   ]
  },
  {
   "cell_type": "code",
   "execution_count": 59,
   "metadata": {},
   "outputs": [
    {
     "name": "stdout",
     "output_type": "stream",
     "text": [
      "[8, 4]\n"
     ]
    }
   ],
   "source": [
    "li.pop() # remove last element\n",
    "li.pop(0) # remove first element\n",
    "print(li)"
   ]
  },
  {
   "cell_type": "markdown",
   "metadata": {},
   "source": [
    "To remove specific values from a list you can use the list's `remove` function which will delete the *first* occurence of a value within a list"
   ]
  },
  {
   "cell_type": "code",
   "execution_count": 32,
   "metadata": {},
   "outputs": [
    {
     "name": "stdout",
     "output_type": "stream",
     "text": [
      "[1, 2, 4]\n"
     ]
    }
   ],
   "source": [
    "li.remove(3) # remove the value \"3\" from the list\n",
    "print(li)"
   ]
  },
  {
   "cell_type": "code",
   "execution_count": 36,
   "metadata": {},
   "outputs": [
    {
     "name": "stdout",
     "output_type": "stream",
     "text": [
      "[1, 1, 1]\n"
     ]
    }
   ],
   "source": [
    "# create a new list of ones and test to remove the value \"1\"\n",
    "li = [1,1,1,1] \n",
    "li.remove(1)\n",
    "print(li)"
   ]
  },
  {
   "cell_type": "markdown",
   "metadata": {},
   "source": [
    "### 1.6 Constructors"
   ]
  },
  {
   "cell_type": "code",
   "execution_count": null,
   "metadata": {},
   "outputs": [],
   "source": []
  }
 ],
 "metadata": {
  "kernelspec": {
   "display_name": "Python 3",
   "language": "python",
   "name": "python3"
  },
  "language_info": {
   "codemirror_mode": {
    "name": "ipython",
    "version": 3
   },
   "file_extension": ".py",
   "mimetype": "text/x-python",
   "name": "python",
   "nbconvert_exporter": "python",
   "pygments_lexer": "ipython3",
   "version": "3.7.2"
  }
 },
 "nbformat": 4,
 "nbformat_minor": 2
}
