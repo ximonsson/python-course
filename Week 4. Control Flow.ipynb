{
 "cells": [
  {
   "cell_type": "markdown",
   "metadata": {},
   "source": [
    "# Week 4: Control flow\n",
    "\n",
    "This week we look into creating a little more complex functions with the help of control flow.\n",
    "\n",
    "In this class you will be introduced to `if`-statements, `for`- and `while`- loops, as well exception handling. We will also introduce recursive functions. \n",
    "\n",
    "By the end of this class you will be able to:\n",
    "  * Write more complex functions using control flow.\n",
    "  * Handle exceptions.\n",
    "  * Write recursive functions."
   ]
  },
  {
   "cell_type": "markdown",
   "metadata": {},
   "source": [
    "## Recap of last week\n",
    "\n",
    "Before we start this class we will make a quick recap of what we introduced last week."
   ]
  },
  {
   "cell_type": "markdown",
   "metadata": {},
   "source": [
    "### Indentation\n",
    "Python does not use curly brackes `{}` to delimit blocks. Instead it uses indentation, i.e. we preprend whitespace. Very important is that all the lines are indented equally and are aligned to the same column.\n",
    "\n",
    "Quick exercise: fix the below code samples to solve the errors."
   ]
  },
  {
   "cell_type": "code",
   "execution_count": 25,
   "metadata": {},
   "outputs": [
    {
     "ename": "IndentationError",
     "evalue": "expected an indented block (<ipython-input-25-e169effc33d1>, line 2)",
     "output_type": "error",
     "traceback": [
      "\u001b[0;36m  File \u001b[0;32m\"<ipython-input-25-e169effc33d1>\"\u001b[0;36m, line \u001b[0;32m2\u001b[0m\n\u001b[0;31m    z = x + y - 3\u001b[0m\n\u001b[0m    ^\u001b[0m\n\u001b[0;31mIndentationError\u001b[0m\u001b[0;31m:\u001b[0m expected an indented block\n"
     ]
    }
   ],
   "source": [
    "def foo(x, y):\n",
    "z = x + y - 3\n",
    "    return z"
   ]
  },
  {
   "cell_type": "code",
   "execution_count": 31,
   "metadata": {},
   "outputs": [
    {
     "ename": "IndentationError",
     "evalue": "unindent does not match any outer indentation level (<tokenize>, line 5)",
     "output_type": "error",
     "traceback": [
      "\u001b[0;36m  File \u001b[0;32m\"<tokenize>\"\u001b[0;36m, line \u001b[0;32m5\u001b[0m\n\u001b[0;31m    p()\u001b[0m\n\u001b[0m    ^\u001b[0m\n\u001b[0;31mIndentationError\u001b[0m\u001b[0;31m:\u001b[0m unindent does not match any outer indentation level\n"
     ]
    }
   ],
   "source": [
    "def foo(x, y):\n",
    "    def p():\n",
    "        x = y + 3\n",
    "        print(x + y)\n",
    " p()\n",
    "foo(3,4)"
   ]
  },
  {
   "cell_type": "markdown",
   "metadata": {},
   "source": [
    "### Variables\n",
    "\n",
    "There are five primitive types: `int`, `float`, `str`, `bool` and `NoneType`. But Python is dynamically typed which means we can initialize a variable to a value of certain type but re-assign it to a value of another type seemlessly.\n",
    "\n",
    "#### A reminder of the arithmetic operators\n",
    "\n",
    "| Operator   | Name                   |\n",
    "| ---------- |:---------------------- |\n",
    "| +          | addition               |\n",
    "| -          | substraction           |\n",
    "| *          | multiplication         |\n",
    "| /          | division               |\n",
    "| %          | modulus                |\n",
    "| **         | exponentiation         |\n",
    "| //         | floor division         |\n",
    "\n",
    "#### And the assignment operators\n",
    "\n",
    "| Operator | Example | Equal to |\n",
    "| -------- | ------- | ------- |\n",
    "| = | x = 1 | x = 1 |\n",
    "| += | x += 1 | x = x + 1 |\n",
    "| -= | x -= 1 | x = x - 1 |\n",
    "| /= | x /= 2 | x = x / 2 |\n",
    "| //= | x //= 3 | x = x // 3 |\n",
    "| \\*= | x \\*= 2 | x = x * 2 |\n",
    "| \\*\\*= | x \\*\\*= 2 | x = x ** 2 |\n",
    "\n",
    "We saw how they worked for number (`int` and `float`) as well as `str` (concatenation). If you have not already tried this is what happens when you apply them to `bool` values:"
   ]
  },
  {
   "cell_type": "code",
   "execution_count": 8,
   "metadata": {},
   "outputs": [
    {
     "name": "stdout",
     "output_type": "stream",
     "text": [
      "False + False =  0\n",
      "True  + False =  1\n",
      "True  + True  =  2\n",
      "\n",
      "False - False =  0\n",
      "True  - False =  1\n",
      "True  - True  =  0\n"
     ]
    }
   ],
   "source": [
    "print(\"False + False = \", False + False)\n",
    "print(\"True  + False = \", True + False)\n",
    "print(\"True  + True  = \", True + True)\n",
    "\n",
    "print()\n",
    "\n",
    "print(\"False - False = \", False - False)\n",
    "print(\"True  - False = \", True - False)\n",
    "print(\"True  - True  = \", True - True)"
   ]
  },
  {
   "cell_type": "markdown",
   "metadata": {},
   "source": [
    "### Casting\n",
    "\n",
    "We can also use the primitive types as functions to \"cast\" (convert) a variable from a certain type to another:"
   ]
  },
  {
   "cell_type": "code",
   "execution_count": 9,
   "metadata": {},
   "outputs": [
    {
     "name": "stdout",
     "output_type": "stream",
     "text": [
      "10 <class 'int'>\n",
      "10 <class 'str'>\n"
     ]
    }
   ],
   "source": [
    "foo = 10\n",
    "print(foo, type(foo))\n",
    "\n",
    "foo = str(foo)\n",
    "print(foo, type(foo))"
   ]
  },
  {
   "cell_type": "markdown",
   "metadata": {},
   "source": [
    "### Inner functions and function scopes\n",
    "\n",
    "We saw that you can create functions within a function to help reduce code duplication:"
   ]
  },
  {
   "cell_type": "code",
   "execution_count": 11,
   "metadata": {},
   "outputs": [
    {
     "name": "stdout",
     "output_type": "stream",
     "text": [
      "12\n",
      "48\n",
      "192\n",
      "768\n"
     ]
    },
    {
     "data": {
      "text/plain": [
       "768"
      ]
     },
     "execution_count": 11,
     "metadata": {},
     "output_type": "execute_result"
    }
   ],
   "source": [
    "def foo(x):\n",
    "    x *= 3 + 1 \n",
    "    print(x)\n",
    "    \n",
    "    x *= 3 + 1\n",
    "    print(x)\n",
    "    \n",
    "    x *= 3 + 1\n",
    "    print(x)\n",
    "    \n",
    "    x *= 3 + 1\n",
    "    print(x)\n",
    "    \n",
    "    return x\n",
    "\n",
    "foo(3)"
   ]
  },
  {
   "cell_type": "markdown",
   "metadata": {},
   "source": [
    "Can be re-written as:"
   ]
  },
  {
   "cell_type": "code",
   "execution_count": 14,
   "metadata": {},
   "outputs": [
    {
     "name": "stdout",
     "output_type": "stream",
     "text": [
      "12\n",
      "48\n",
      "192\n",
      "768\n"
     ]
    },
    {
     "data": {
      "text/plain": [
       "768"
      ]
     },
     "execution_count": 14,
     "metadata": {},
     "output_type": "execute_result"
    }
   ],
   "source": [
    "def foo(x):\n",
    "    def foo_(x):\n",
    "        x *= 3 + 1\n",
    "        print(x)\n",
    "        return x\n",
    "    x = foo_(x)\n",
    "    x = foo_(x)\n",
    "    x = foo_(x)\n",
    "    x = foo_(x)\n",
    "    return x\n",
    "foo(3)"
   ]
  },
  {
   "cell_type": "markdown",
   "metadata": {},
   "source": [
    "And last we looked a function scopes, how variables are always visible (but not modifiable) in children blocks, but not propagated to the parents:"
   ]
  },
  {
   "cell_type": "code",
   "execution_count": 17,
   "metadata": {},
   "outputs": [
    {
     "name": "stdout",
     "output_type": "stream",
     "text": [
      "[inner] v =  3\n",
      "[inner] x =  10\n",
      "[outer] v =  3\n"
     ]
    },
    {
     "ename": "NameError",
     "evalue": "name 'x' is not defined",
     "output_type": "error",
     "traceback": [
      "\u001b[0;31m---------------------------------------------------------------------------\u001b[0m",
      "\u001b[0;31mNameError\u001b[0m                                 Traceback (most recent call last)",
      "\u001b[0;32m<ipython-input-17-b17a43aec07c>\u001b[0m in \u001b[0;36m<module>\u001b[0;34m\u001b[0m\n\u001b[1;32m      7\u001b[0m \u001b[0mfoo\u001b[0m\u001b[0;34m(\u001b[0m\u001b[0;34m)\u001b[0m\u001b[0;34m\u001b[0m\u001b[0;34m\u001b[0m\u001b[0m\n\u001b[1;32m      8\u001b[0m \u001b[0mprint\u001b[0m\u001b[0;34m(\u001b[0m\u001b[0;34m\"[outer] v = \"\u001b[0m\u001b[0;34m,\u001b[0m \u001b[0mv\u001b[0m\u001b[0;34m)\u001b[0m\u001b[0;34m\u001b[0m\u001b[0;34m\u001b[0m\u001b[0m\n\u001b[0;32m----> 9\u001b[0;31m \u001b[0mprint\u001b[0m\u001b[0;34m(\u001b[0m\u001b[0;34m\"[outer] x = \"\u001b[0m\u001b[0;34m,\u001b[0m \u001b[0mx\u001b[0m\u001b[0;34m)\u001b[0m\u001b[0;34m\u001b[0m\u001b[0;34m\u001b[0m\u001b[0m\n\u001b[0m",
      "\u001b[0;31mNameError\u001b[0m: name 'x' is not defined"
     ]
    }
   ],
   "source": [
    "v = 3\n",
    "def foo():\n",
    "    x = v + 7\n",
    "    print(\"[inner] v = \", v)\n",
    "    print(\"[inner] x = \", x)\n",
    "    \n",
    "foo()\n",
    "print(\"[outer] v = \", v)\n",
    "print(\"[outer] x = \", x)"
   ]
  },
  {
   "cell_type": "markdown",
   "metadata": {},
   "source": [
    "## 1. Operators\n",
    "\n",
    "Before we can begin with control flow we need to introduce some new operators.\n",
    "\n",
    "### 1.1 Comparison operators\n",
    "\n",
    "| Operator | Name |\n",
    "| -------- | ---- |\n",
    "| `==`     | Equal to |\n",
    "| `!=` | Not equal to |\n",
    "| `>` | Greater than |\n",
    "| `>=` | Greater or equal to |\n",
    "| `<` | Less than |\n",
    "| `<=` | Less or equal to |"
   ]
  },
  {
   "cell_type": "code",
   "execution_count": 46,
   "metadata": {},
   "outputs": [
    {
     "name": "stdout",
     "output_type": "stream",
     "text": [
      "5 == 5     True\n",
      "3 != 10    True\n",
      "7 > 10     False\n",
      "3 + 1 >= 4 True\n",
      "1 < 0      False\n",
      "8 <= 10    True\n"
     ]
    }
   ],
   "source": [
    "print(\"5 == 5    \", 5 == 5)\n",
    "print(\"3 != 10   \", 3 != 10)\n",
    "print(\"7 > 10    \", 7 > 10)\n",
    "print(\"3 + 1 >= 4\", 3 + 1 >= 4)\n",
    "print(\"1 < 0     \", 1 < 0)\n",
    "print(\"8 <= 10   \", 8 <= 10)"
   ]
  },
  {
   "cell_type": "markdown",
   "metadata": {},
   "source": [
    "### 1.2 Logical operators\n",
    "\n",
    "| Operator | Example |\n",
    "| -------- | ------- |\n",
    "| `and`    | `x == 10 and y != 7` |\n",
    "| `or`     | `x == 1 or x == 3` |\n",
    "| `not`    | `not x == 5` |"
   ]
  },
  {
   "cell_type": "code",
   "execution_count": 52,
   "metadata": {},
   "outputs": [
    {
     "name": "stdout",
     "output_type": "stream",
     "text": [
      "3 == 3 and 1 == 1   True\n",
      "10 <= 7 or 5 > 3    True\n",
      "not True or 8 >= 10 True\n"
     ]
    }
   ],
   "source": [
    "print(\"3 == 3 and 1 == 1  \", 3 == 3 and 1 == 1)\n",
    "print(\"10 <= 7 or 5 > 3   \", 10 <= 7 or 5 > 3)\n",
    "print(\"not True or 8 >= 10\", not True or 8 <= 10)"
   ]
  },
  {
   "cell_type": "markdown",
   "metadata": {},
   "source": [
    "## 2. IF-statements\n",
    "\n",
    "First thing that we will introduce are if-statements. If-statements are used to guard against certain conditions and act accordingly.\n",
    "\n",
    "### 2.1 Syntax\n",
    "\n",
    "Consider the very simple example below written in C where we re-assign `x` to 10 in case it equals 0:\n",
    "\n",
    "```c\n",
    "if (x == 0) {\n",
    "    x = 10;\n",
    "}\n",
    "```\n",
    "\n",
    "Would be written in Python as following:\n",
    "\n",
    "```python\n",
    "if x == 0:\n",
    "    x = 10\n",
    "```\n",
    "\n",
    "We can notice a ressemblence to how we write functions with the inner body indented one step, but instead using the `if` keyword."
   ]
  },
  {
   "cell_type": "code",
   "execution_count": 39,
   "metadata": {},
   "outputs": [
    {
     "name": "stdout",
     "output_type": "stream",
     "text": [
      "Hello, World!\n"
     ]
    }
   ],
   "source": [
    "def greet(who):\n",
    "    if who == \"World!\":\n",
    "        print(\"Hello, \" + who)\n",
    "        \n",
    "greet(\"World!\")"
   ]
  },
  {
   "cell_type": "markdown",
   "metadata": {},
   "source": [
    "### 2.2 Else\n",
    "\n",
    "If-else-statements are written in similar fashion with the `else` keyword:\n",
    "\n",
    "```python\n",
    "if x == 0:\n",
    "    x = 10\n",
    "else:\n",
    "    x -= 1\n",
    "```"
   ]
  },
  {
   "cell_type": "code",
   "execution_count": 40,
   "metadata": {},
   "outputs": [
    {
     "name": "stdout",
     "output_type": "stream",
     "text": [
      "Hi stranger\n"
     ]
    }
   ],
   "source": [
    "def greet(who):\n",
    "    if who == \"World!\":\n",
    "        print(\"Hello, \" + who)\n",
    "    else:\n",
    "        print(\"Hi stranger\")\n",
    "        \n",
    "greet(\"someone\")"
   ]
  },
  {
   "cell_type": "markdown",
   "metadata": {},
   "source": [
    "### 2.2 Else if\n",
    "\n",
    "And else-if statements use the `elif` keyword.\n",
    "\n",
    "```python\n",
    "if x == 0:\n",
    "    x = 10\n",
    "elif x == 1:\n",
    "    print(\"ONE!\")\n",
    "    x -= 1\n",
    "else:\n",
    "    x -= 1\n",
    "```"
   ]
  },
  {
   "cell_type": "code",
   "execution_count": 41,
   "metadata": {},
   "outputs": [
    {
     "name": "stdout",
     "output_type": "stream",
     "text": [
      "Greetings, class\n"
     ]
    }
   ],
   "source": [
    "def greet(who):\n",
    "    if who == \"World!\":\n",
    "        print(\"Hello, \" + who)\n",
    "    elif who == \"class\":\n",
    "        print(\"Greetings, \" + who)\n",
    "    else:\n",
    "        print(\"Hi stranger\")\n",
    "\n",
    "greet(\"class\")"
   ]
  },
  {
   "cell_type": "markdown",
   "metadata": {},
   "source": [
    "### Exercises"
   ]
  },
  {
   "cell_type": "markdown",
   "metadata": {},
   "source": [
    "We want to make an implementation of the maximum function `max`. Write a version of the function that takes two input parameters and returns the largest one of them."
   ]
  },
  {
   "cell_type": "code",
   "execution_count": 53,
   "metadata": {},
   "outputs": [],
   "source": [
    "# your code here"
   ]
  },
  {
   "cell_type": "code",
   "execution_count": 66,
   "metadata": {},
   "outputs": [
    {
     "data": {
      "text/plain": [
       "7"
      ]
     },
     "execution_count": 66,
     "metadata": {},
     "output_type": "execute_result"
    }
   ],
   "source": [
    "max(3, 7)"
   ]
  },
  {
   "cell_type": "markdown",
   "metadata": {},
   "source": [
    "## 3. While-loops\n",
    "\n",
    "\"While something is true, do this\".\n",
    "\n",
    "Lets consider the following C code example where we increment a variable x until it is equal 10 and print its value at each step.\n",
    "```c\n",
    "while (x < 10)\n",
    "{\n",
    "    x ++;\n",
    "    printf (\"x = %d\\n\", x);\n",
    "}\n",
    "```\n",
    "\n",
    "We can re-write the above example in Python as:\n",
    "```python\n",
    "while x < 10:\n",
    "    x += 1\n",
    "    print(\"x =\", x)\n",
    "```"
   ]
  },
  {
   "cell_type": "code",
   "execution_count": 65,
   "metadata": {},
   "outputs": [
    {
     "name": "stdout",
     "output_type": "stream",
     "text": [
      "11\n",
      "12\n",
      "13\n",
      "14\n"
     ]
    },
    {
     "data": {
      "text/plain": [
       "15"
      ]
     },
     "execution_count": 65,
     "metadata": {},
     "output_type": "execute_result"
    }
   ],
   "source": [
    "def foo(x):\n",
    "    while x % 5 != 0:\n",
    "        print(x)\n",
    "        x += 1\n",
    "    return x\n",
    "\n",
    "foo(11)"
   ]
  },
  {
   "cell_type": "markdown",
   "metadata": {},
   "source": [
    "It is very important we make sure to avoid writing `while` loops that do not terminate. A way to exit a `while`-loop early, is by using the `break` keyword.\n",
    "\n",
    "```python\n",
    "while True:\n",
    "    x += 1\n",
    "    print(x)\n",
    "    if x == 10:\n",
    "        break\n",
    "```"
   ]
  },
  {
   "cell_type": "code",
   "execution_count": 64,
   "metadata": {},
   "outputs": [
    {
     "data": {
      "text/plain": [
       "6"
      ]
     },
     "execution_count": 64,
     "metadata": {},
     "output_type": "execute_result"
    }
   ],
   "source": [
    "# The following function decreases the input parameter x to zero, \n",
    "# but does so a maximum of 10 times before returning x \n",
    "\n",
    "def foo(x):\n",
    "    tries = 0\n",
    "    while x > 0:\n",
    "        x -= 1\n",
    "        tries += 1\n",
    "        if tries == 10:\n",
    "            break\n",
    "    return x\n",
    "foo(16)"
   ]
  },
  {
   "cell_type": "markdown",
   "metadata": {},
   "source": [
    "### Exercises"
   ]
  },
  {
   "cell_type": "markdown",
   "metadata": {},
   "source": [
    "Write a function that takes an input parameter and returns the largest number dividable by three but less than the input parameter."
   ]
  },
  {
   "cell_type": "code",
   "execution_count": null,
   "metadata": {},
   "outputs": [],
   "source": [
    "# your code here"
   ]
  },
  {
   "cell_type": "code",
   "execution_count": null,
   "metadata": {},
   "outputs": [],
   "source": [
    "div3(10) # should output 9"
   ]
  },
  {
   "cell_type": "markdown",
   "metadata": {},
   "source": [
    "Below is a function that will not terminate. Please fix the code so the while loop terminates correctly"
   ]
  },
  {
   "cell_type": "code",
   "execution_count": null,
   "metadata": {},
   "outputs": [],
   "source": [
    "# Please fix this function so it will terminate correctly\n",
    "def infinit(x):\n",
    "    ##"
   ]
  },
  {
   "cell_type": "code",
   "execution_count": null,
   "metadata": {},
   "outputs": [],
   "source": [
    "inifinit(20)"
   ]
  },
  {
   "cell_type": "markdown",
   "metadata": {},
   "source": [
    "## 3. For-loops\n",
    "\n",
    "\"For each element in something do this\".\n",
    "\n",
    "For-loops iterate over elements in a list and perform a task for each one.\n",
    "\n",
    "The following C code iterates over the integer array `a` and prints each value. Note that it creates a for-loop with `i` that starts from 0 to the length of the array and then indexes it before printing.\n",
    "\n",
    "```c\n",
    "int a[4] = { 1, 2, 3, 4 };\n",
    "for (int i = 0; i < 4; i ++)\n",
    "{\n",
    "    printf (\"%d\\n\", a[i]);\n",
    "}\n",
    "```\n",
    "\n",
    "In Python we can write this as:\n",
    "```python\n",
    "a = [1, 2, 3, 4]\n",
    "for v in a:\n",
    "    print(v)\n",
    "```\n",
    "\n",
    "The above example reads as \"for each element v in a, do...\". In each step of the for-loop the next value in `a` will be held by `v`. The for-loop syntax in Python prevents us from needing to index. If you however would like the exact translation of the C example into Python you could write it as:\n",
    "```python\n",
    "a = [1, 2, 3, 4]\n",
    "for i in range(0, 4):\n",
    "    print(a[i])\n",
    "```"
   ]
  },
  {
   "cell_type": "code",
   "execution_count": 67,
   "metadata": {},
   "outputs": [
    {
     "name": "stdout",
     "output_type": "stream",
     "text": [
      "0\n",
      "1\n",
      "2\n",
      "3\n",
      "4\n",
      "5\n",
      "6\n",
      "7\n",
      "8\n",
      "9\n"
     ]
    }
   ],
   "source": [
    "for i in range(0, 10):\n",
    "    print(i)"
   ]
  },
  {
   "cell_type": "markdown",
   "metadata": {},
   "source": [
    "### `range` function\n",
    "\n",
    "The `range` function is a very useful builtin function to create a sequence of values, avoid manually writing a them. The output of `range` can therefore be compared with a list. The first parameter is the starting value which `range` will increment until one step before equaling the second, upper limit, parameter."
   ]
  },
  {
   "cell_type": "code",
   "execution_count": 74,
   "metadata": {},
   "outputs": [
    {
     "name": "stdout",
     "output_type": "stream",
     "text": [
      "11\n",
      "12\n",
      "13\n",
      "14\n"
     ]
    }
   ],
   "source": [
    "for i in range(1, 5):\n",
    "    i += 10\n",
    "    print(i)"
   ]
  },
  {
   "cell_type": "markdown",
   "metadata": {},
   "source": [
    "**NOTE**: notice how assigning `i` with +10 does not change that `i` will be the next value of the range, next step in the loop."
   ]
  },
  {
   "cell_type": "markdown",
   "metadata": {},
   "source": [
    "If you call `range` with three inputs, we can define the size of the step to increment the first parameter with."
   ]
  },
  {
   "cell_type": "code",
   "execution_count": 70,
   "metadata": {},
   "outputs": [
    {
     "name": "stdout",
     "output_type": "stream",
     "text": [
      "0\n",
      "2\n",
      "4\n",
      "6\n",
      "8\n"
     ]
    }
   ],
   "source": [
    "# print all even numbers less than 10\n",
    "for i in range(0, 10, 2):\n",
    "    print(i)"
   ]
  },
  {
   "cell_type": "markdown",
   "metadata": {},
   "source": [
    "### (back to for-loops)\n",
    "\n",
    "And don't forget that strings are lists as well."
   ]
  },
  {
   "cell_type": "code",
   "execution_count": 71,
   "metadata": {},
   "outputs": [
    {
     "name": "stdout",
     "output_type": "stream",
     "text": [
      "H\n",
      "e\n",
      "l\n",
      "l\n",
      "o\n",
      ",\n",
      " \n",
      "W\n",
      "o\n",
      "r\n",
      "l\n",
      "d\n",
      "!\n"
     ]
    }
   ],
   "source": [
    "s = \"Hello, World!\"\n",
    "for c in s:\n",
    "    print(c)"
   ]
  },
  {
   "cell_type": "markdown",
   "metadata": {},
   "source": [
    "You do not need to use the element you get from the for-loop while iterating over a list. You can choose to discard it in case you just want to repeat an action a certain number of times"
   ]
  },
  {
   "cell_type": "code",
   "execution_count": 73,
   "metadata": {},
   "outputs": [
    {
     "name": "stdout",
     "output_type": "stream",
     "text": [
      "Hello, World!\n",
      "Hello, World!\n",
      "Hello, World!\n",
      "Hello, World!\n",
      "Hello, World!\n"
     ]
    }
   ],
   "source": [
    "# print \"Hello, World!\" 5 times\n",
    "for _ in range(0, 5):\n",
    "    print(\"Hello, World!\")"
   ]
  },
  {
   "cell_type": "markdown",
   "metadata": {},
   "source": [
    "### Exercises"
   ]
  },
  {
   "cell_type": "markdown",
   "metadata": {},
   "source": [
    "There is a function to join a list of strings with an input delimiter string. Implement a `join` function that takes a list of strings and concatenates all values of the input with a delimiter string in between them which comes as the second input parameter (it is ok if it ends with the delimiter as well) and then returns it.\n",
    "\n",
    "**Reminder**:\n",
    "```python\n",
    "\"Hello\" + \",\" + \"World\" = \"Hello,World\"\n",
    "```"
   ]
  },
  {
   "cell_type": "code",
   "execution_count": 76,
   "metadata": {},
   "outputs": [],
   "source": [
    "# your code here"
   ]
  },
  {
   "cell_type": "code",
   "execution_count": 77,
   "metadata": {},
   "outputs": [
    {
     "ename": "NameError",
     "evalue": "name 'join' is not defined",
     "output_type": "error",
     "traceback": [
      "\u001b[0;31m---------------------------------------------------------------------------\u001b[0m",
      "\u001b[0;31mNameError\u001b[0m                                 Traceback (most recent call last)",
      "\u001b[0;32m<ipython-input-77-8c040240d8ad>\u001b[0m in \u001b[0;36m<module>\u001b[0;34m\u001b[0m\n\u001b[0;32m----> 1\u001b[0;31m \u001b[0mjoin\u001b[0m\u001b[0;34m(\u001b[0m\u001b[0;34m[\u001b[0m\u001b[0;34m\"aa\"\u001b[0m\u001b[0;34m,\u001b[0m \u001b[0;34m\"ab\"\u001b[0m\u001b[0;34m,\u001b[0m \u001b[0;34m\"ba\"\u001b[0m\u001b[0;34m]\u001b[0m\u001b[0;34m,\u001b[0m \u001b[0;34m\"..\"\u001b[0m\u001b[0;34m)\u001b[0m \u001b[0;31m# should return \"aa..ab..ba\"\u001b[0m\u001b[0;34m\u001b[0m\u001b[0;34m\u001b[0m\u001b[0m\n\u001b[0m",
      "\u001b[0;31mNameError\u001b[0m: name 'join' is not defined"
     ]
    }
   ],
   "source": [
    "join([\"aa\", \"ab\", \"ba\"], \"..\") # should return \"aa..ab..ba\""
   ]
  },
  {
   "cell_type": "markdown",
   "metadata": {},
   "source": [
    "In the beginning of this class we solved a function that had a lot of code duplication with the help of an inner-function. This can be better implemented using a for-loop. Try and re-implement the solution using a for-loop instead.\n",
    "\n",
    "```python\n",
    "def foo(x):\n",
    "    x *= 3 + 1 \n",
    "    print(x)\n",
    "    \n",
    "    x *= 3 + 1\n",
    "    print(x)\n",
    "    \n",
    "    x *= 3 + 1\n",
    "    print(x)\n",
    "    \n",
    "    x *= 3 + 1\n",
    "    print(x)\n",
    "    \n",
    "    return x\n",
    "```\n",
    "===>\n",
    "\n",
    "```python\n",
    "def foo(x):\n",
    "    def foo_(x):\n",
    "        x *= 3 + 1\n",
    "        print(x)\n",
    "        return x\n",
    "    x = foo_(x)\n",
    "    x = foo_(x)\n",
    "    x = foo_(x)\n",
    "    x = foo_(x)\n",
    "    return x\n",
    "```"
   ]
  },
  {
   "cell_type": "code",
   "execution_count": 72,
   "metadata": {},
   "outputs": [],
   "source": [
    "# your code here"
   ]
  },
  {
   "cell_type": "code",
   "execution_count": null,
   "metadata": {},
   "outputs": [],
   "source": [
    "foo()"
   ]
  }
 ],
 "metadata": {
  "kernelspec": {
   "display_name": "Python 3",
   "language": "python",
   "name": "python3"
  },
  "language_info": {
   "codemirror_mode": {
    "name": "ipython",
    "version": 3
   },
   "file_extension": ".py",
   "mimetype": "text/x-python",
   "name": "python",
   "nbconvert_exporter": "python",
   "pygments_lexer": "ipython3",
   "version": "3.7.2"
  }
 },
 "nbformat": 4,
 "nbformat_minor": 2
}
