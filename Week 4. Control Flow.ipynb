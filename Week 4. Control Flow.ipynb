{
 "cells": [
  {
   "cell_type": "markdown",
   "metadata": {},
   "source": [
    "# Week 4: Control flow\n",
    "\n",
    "This week we look into creating a little more complex functions with the help of control flow.\n",
    "\n",
    "In this class you will be introduced to `if`-statements, `for`- and `while`- loops, as well exception handling. We will also introduce recursive functions. \n",
    "\n",
    "By the end of this class you will be able to:\n",
    "  * Write more complex functions using control flow.\n",
    "  * Handle exceptions.\n",
    "  * Write recursive functions."
   ]
  },
  {
   "cell_type": "markdown",
   "metadata": {},
   "source": [
    "## Recap of last week\n",
    "\n",
    "Before we start this class we will make a quick recap of what we introduced last week."
   ]
  },
  {
   "cell_type": "markdown",
   "metadata": {},
   "source": [
    "### Indentation\n",
    "Python does not use curly brackes `{}` to delimit blocks. Instead it uses indentation, i.e. we preprend whitespace. Very important is that all the lines are indented equally and are aligned to the same column.\n",
    "\n",
    "Quick exercise: fix the below code samples to solve the errors."
   ]
  },
  {
   "cell_type": "code",
   "execution_count": null,
   "metadata": {},
   "outputs": [],
   "source": [
    "def foo(x, y):\n",
    "z = x + y - 3\n",
    "    return z"
   ]
  },
  {
   "cell_type": "code",
   "execution_count": null,
   "metadata": {},
   "outputs": [],
   "source": [
    "def foo(x, y):\n",
    "    def p():\n",
    "        x = y + 3\n",
    "        print(x + y)\n",
    " p()\n",
    "foo(3,4)"
   ]
  },
  {
   "cell_type": "markdown",
   "metadata": {},
   "source": [
    "### Variables\n",
    "\n",
    "There are five primitive types: `int`, `float`, `str`, `bool` and `NoneType`. But Python is dynamically typed which means we can initialize a variable to a value of certain type but re-assign it to a value of another type seemlessly.\n",
    "\n",
    "#### A reminder of the arithmetic operators\n",
    "\n",
    "| Operator   | Name                   |\n",
    "| ---------- |:---------------------- |\n",
    "| +          | addition               |\n",
    "| -          | substraction           |\n",
    "| *          | multiplication         |\n",
    "| /          | division               |\n",
    "| %          | modulus                |\n",
    "| **         | exponentiation         |\n",
    "| //         | floor division         |\n",
    "\n",
    "#### And the assignment operators\n",
    "\n",
    "| Operator | Example | Equal to |\n",
    "| -------- | ------- | ------- |\n",
    "| = | x = 1 | x = 1 |\n",
    "| += | x += 1 | x = x + 1 |\n",
    "| -= | x -= 1 | x = x - 1 |\n",
    "| /= | x /= 2 | x = x / 2 |\n",
    "| //= | x //= 3 | x = x // 3 |\n",
    "| \\*= | x \\*= 2 | x = x * 2 |\n",
    "| \\*\\*= | x \\*\\*= 2 | x = x ** 2 |\n",
    "\n",
    "We saw how they worked for number (`int` and `float`) as well as `str` (concatenation). If you have not already tried this is what happens when you apply them to `bool` values:"
   ]
  },
  {
   "cell_type": "code",
   "execution_count": null,
   "metadata": {},
   "outputs": [],
   "source": [
    "print(\"False + False = \", False + False)\n",
    "print(\"True  + False = \", True + False)\n",
    "print(\"True  + True  = \", True + True)\n",
    "\n",
    "print()\n",
    "\n",
    "print(\"False - False = \", False - False)\n",
    "print(\"True  - False = \", True - False)\n",
    "print(\"True  - True  = \", True - True)"
   ]
  },
  {
   "cell_type": "markdown",
   "metadata": {},
   "source": [
    "### Casting\n",
    "\n",
    "We can also use the primitive types as functions to \"cast\" (convert) a variable from a certain type to another:"
   ]
  },
  {
   "cell_type": "code",
   "execution_count": null,
   "metadata": {},
   "outputs": [],
   "source": [
    "foo = 10\n",
    "print(foo, type(foo))\n",
    "\n",
    "foo = str(foo)\n",
    "print(foo, type(foo))"
   ]
  },
  {
   "cell_type": "markdown",
   "metadata": {},
   "source": [
    "### Inner functions and function scopes\n",
    "\n",
    "We saw that you can create functions within a function to help reduce code duplication:"
   ]
  },
  {
   "cell_type": "code",
   "execution_count": null,
   "metadata": {},
   "outputs": [],
   "source": [
    "def foo(x):\n",
    "    x *= 3 + 1 \n",
    "    print(x)\n",
    "    \n",
    "    x *= 3 + 1\n",
    "    print(x)\n",
    "    \n",
    "    x *= 3 + 1\n",
    "    print(x)\n",
    "    \n",
    "    x *= 3 + 1\n",
    "    print(x)\n",
    "    \n",
    "    return x\n",
    "\n",
    "foo(3)"
   ]
  },
  {
   "cell_type": "markdown",
   "metadata": {},
   "source": [
    "Can be re-written as:"
   ]
  },
  {
   "cell_type": "code",
   "execution_count": null,
   "metadata": {},
   "outputs": [],
   "source": [
    "def foo(x):\n",
    "    def foo_(x):\n",
    "        x *= 3 + 1\n",
    "        print(x)\n",
    "        return x\n",
    "    x = foo_(x)\n",
    "    x = foo_(x)\n",
    "    x = foo_(x)\n",
    "    x = foo_(x)\n",
    "    return x\n",
    "foo(3)"
   ]
  },
  {
   "cell_type": "markdown",
   "metadata": {},
   "source": [
    "And last we looked a function scopes, how variables are always visible (but not modifiable) in children blocks, but not propagated to the parents:"
   ]
  },
  {
   "cell_type": "code",
   "execution_count": null,
   "metadata": {},
   "outputs": [],
   "source": [
    "v = 3\n",
    "def foo():\n",
    "    x = v + 7\n",
    "    print(\"[inner] v = \", v)\n",
    "    print(\"[inner] x = \", x)\n",
    "    \n",
    "foo()\n",
    "print(\"[outer] v = \", v)\n",
    "print(\"[outer] x = \", x)"
   ]
  },
  {
   "cell_type": "markdown",
   "metadata": {},
   "source": [
    "## 1. Operators\n",
    "\n",
    "Before we can begin with control flow we need to introduce some new operators.\n",
    "\n",
    "### 1.1 Comparison operators\n",
    "\n",
    "| Operator | Name |\n",
    "| -------- | ---- |\n",
    "| `==`     | Equal to |\n",
    "| `!=` | Not equal to |\n",
    "| `>` | Greater than |\n",
    "| `>=` | Greater or equal to |\n",
    "| `<` | Less than |\n",
    "| `<=` | Less or equal to |"
   ]
  },
  {
   "cell_type": "code",
   "execution_count": null,
   "metadata": {},
   "outputs": [],
   "source": [
    "print(\"5 == 5    \", 5 == 5)\n",
    "print(\"3 != 10   \", 3 != 10)\n",
    "print(\"7 > 10    \", 7 > 10)\n",
    "print(\"3 + 1 >= 4\", 3 + 1 >= 4)\n",
    "print(\"1 < 0     \", 1 < 0)\n",
    "print(\"8 <= 10   \", 8 <= 10)"
   ]
  },
  {
   "cell_type": "markdown",
   "metadata": {},
   "source": [
    "### 1.2 Logical operators\n",
    "\n",
    "| Operator | Example |\n",
    "| -------- | ------- |\n",
    "| `and`    | `x == 10 and y != 7` |\n",
    "| `or`     | `x == 1 or x == 3` |\n",
    "| `not`    | `not x == 5` |"
   ]
  },
  {
   "cell_type": "code",
   "execution_count": null,
   "metadata": {},
   "outputs": [],
   "source": [
    "print(\"3 == 3 and 1 == 1  \", 3 == 3 and 1 == 1)\n",
    "print(\"10 <= 7 or 5 > 3   \", 10 <= 7 or 5 > 3)\n",
    "print(\"not True or 8 >= 10\", not True or 8 <= 10)"
   ]
  },
  {
   "cell_type": "markdown",
   "metadata": {},
   "source": [
    "## 2. IF-statements\n",
    "\n",
    "First thing that we will introduce are if-statements. If-statements are used to guard against certain conditions and act accordingly.\n",
    "\n",
    "### 2.1 Syntax\n",
    "\n",
    "Consider the very simple example below written in C where we re-assign `x` to 10 in case it equals 0:\n",
    "\n",
    "```c\n",
    "if (x == 0) {\n",
    "    x = 10;\n",
    "}\n",
    "```\n",
    "\n",
    "Would be written in Python as following:\n",
    "\n",
    "```python\n",
    "if x == 0:\n",
    "    x = 10\n",
    "```\n",
    "\n",
    "We can notice a ressemblence to how we write functions with the inner body indented one step, but instead using the `if` keyword."
   ]
  },
  {
   "cell_type": "code",
   "execution_count": null,
   "metadata": {},
   "outputs": [],
   "source": [
    "def hello(who):\n",
    "    if who == \"World!\":\n",
    "        print(\"Hello, \" + who)"
   ]
  },
  {
   "cell_type": "code",
   "execution_count": null,
   "metadata": {},
   "outputs": [],
   "source": [
    "hello(\"World!\")"
   ]
  },
  {
   "cell_type": "markdown",
   "metadata": {},
   "source": [
    "### 2.2 Else\n",
    "\n",
    "If-else-statements are written in similar fashion with the `else` keyword:\n",
    "\n",
    "```python\n",
    "if x == 0:\n",
    "    x = 10\n",
    "else:\n",
    "    x -= 1\n",
    "```"
   ]
  },
  {
   "cell_type": "code",
   "execution_count": null,
   "metadata": {},
   "outputs": [],
   "source": [
    "def hello(who):\n",
    "    if who == \"World!\":\n",
    "        print(\"Hello, \" + who)\n",
    "    else:\n",
    "        print(\"Hi stranger\")"
   ]
  },
  {
   "cell_type": "code",
   "execution_count": null,
   "metadata": {},
   "outputs": [],
   "source": [
    "hello(\"someone\")"
   ]
  },
  {
   "cell_type": "markdown",
   "metadata": {},
   "source": [
    "### 2.2 Else if\n",
    "\n",
    "And else-if statements use the `elif` keyword.\n",
    "\n",
    "```python\n",
    "if x == 0:\n",
    "    x = 10\n",
    "elif x == 1:\n",
    "    print(\"ONE!\")\n",
    "    x -= 1\n",
    "else:\n",
    "    x -= 1\n",
    "```"
   ]
  },
  {
   "cell_type": "code",
   "execution_count": null,
   "metadata": {},
   "outputs": [],
   "source": [
    "def hello(who):\n",
    "    if who == \"World!\":\n",
    "        print(\"Hello, \" + who)\n",
    "    elif who == \"class\":\n",
    "        print(\"Greetings, \" + who)\n",
    "    else:\n",
    "        print(\"Hi stranger\")"
   ]
  },
  {
   "cell_type": "code",
   "execution_count": null,
   "metadata": {},
   "outputs": [],
   "source": [
    "hello(\"class\")"
   ]
  },
  {
   "cell_type": "markdown",
   "metadata": {},
   "source": [
    "### Exercises"
   ]
  },
  {
   "cell_type": "markdown",
   "metadata": {},
   "source": [
    "#### a. Return the largest value\n",
    "\n",
    "We want to make an implementation of the maximum function `max`. Write a version of the function that takes two input parameters and returns the largest one of them."
   ]
  },
  {
   "cell_type": "code",
   "execution_count": null,
   "metadata": {},
   "outputs": [],
   "source": [
    "# your code here"
   ]
  },
  {
   "cell_type": "code",
   "execution_count": null,
   "metadata": {},
   "outputs": [],
   "source": [
    "max(3, 7) # should return 7"
   ]
  },
  {
   "cell_type": "markdown",
   "metadata": {},
   "source": [
    "#### b. Run some code depending on the type of a variable\n",
    "\n",
    "We can also write if-statements that checks the type of a variable. This can be done using the `==` or `!=` operators against the type which is returned when calling the `type` function. Try and run the following cell to try it out."
   ]
  },
  {
   "cell_type": "code",
   "execution_count": null,
   "metadata": {},
   "outputs": [],
   "source": [
    "print(type(\"Hello, World!\") == str)\n",
    "print(type(10) == int)\n",
    "print(type(5.6) == float)\n",
    "print(type(True) == bool)"
   ]
  },
  {
   "cell_type": "markdown",
   "metadata": {},
   "source": [
    "Now, try to reimplement the `hello` function as to first check what type the input variable is. In case it is a `str` make it print \"Hello, \" + variable, else print a message like \"input variable is not a string\""
   ]
  },
  {
   "cell_type": "code",
   "execution_count": null,
   "metadata": {},
   "outputs": [],
   "source": [
    "# your code here"
   ]
  },
  {
   "cell_type": "code",
   "execution_count": null,
   "metadata": {},
   "outputs": [],
   "source": [
    "hello(\"World\") # should print \"Hello, World\""
   ]
  },
  {
   "cell_type": "code",
   "execution_count": null,
   "metadata": {},
   "outputs": [],
   "source": [
    "hello(10) # should print \"input variable is not a str\""
   ]
  },
  {
   "cell_type": "markdown",
   "metadata": {},
   "source": [
    "### 2.4 Some sugar\n",
    "\n",
    "Python offers a lot of \"syntactic sugar\", meaning nice ways of writing things a little shorter than the standard way.\n",
    "\n",
    "One of the syntactic sugars it offers is assigning values to variables using `if` statements on the rigth side of the `=`-operator:"
   ]
  },
  {
   "cell_type": "code",
   "execution_count": null,
   "metadata": {},
   "outputs": [],
   "source": [
    "# return 100 if x is larger than 10, else 1\n",
    "def foo(x):\n",
    "    y = 100 if x > 10 else 1\n",
    "    return y\n",
    "\n",
    "print(foo(5))\n",
    "print(foo(11))"
   ]
  },
  {
   "cell_type": "markdown",
   "metadata": {},
   "source": [
    "## 3. While-loops\n",
    "\n",
    "\"While something is true, do this\".\n",
    "\n",
    "Lets consider the following C code example where we increment a variable x until it is equal 10 and print its value at each step.\n",
    "```c\n",
    "while (x < 10)\n",
    "{\n",
    "    x ++;\n",
    "    printf (\"x = %d\\n\", x);\n",
    "}\n",
    "```\n",
    "\n",
    "We can re-write the above example in Python as:\n",
    "```python\n",
    "while x < 10:\n",
    "    x += 1\n",
    "    print(\"x =\", x)\n",
    "```"
   ]
  },
  {
   "cell_type": "code",
   "execution_count": null,
   "metadata": {},
   "outputs": [],
   "source": [
    "def foo(x):\n",
    "    while x % 5 != 0:\n",
    "        print(x)\n",
    "        x += 1\n",
    "    return x\n",
    "\n",
    "foo(11)"
   ]
  },
  {
   "cell_type": "markdown",
   "metadata": {},
   "source": [
    "It is very important we make sure to avoid writing `while` loops that do not terminate. A way to exit a `while`-loop early, is by using the `break` keyword.\n",
    "\n",
    "```python\n",
    "while True:\n",
    "    x += 1\n",
    "    print(x)\n",
    "    if x == 10:\n",
    "        break\n",
    "```"
   ]
  },
  {
   "cell_type": "code",
   "execution_count": null,
   "metadata": {},
   "outputs": [],
   "source": [
    "# The following function decreases the input parameter x to zero, \n",
    "# but does so a maximum of 10 times before returning x \n",
    "\n",
    "def foo(x):\n",
    "    tries = 0\n",
    "    while x > 0:\n",
    "        x -= 1\n",
    "        tries += 1\n",
    "        if tries == 10:\n",
    "            break\n",
    "    return x\n",
    "foo(16)"
   ]
  },
  {
   "cell_type": "markdown",
   "metadata": {},
   "source": [
    "### Exercises"
   ]
  },
  {
   "cell_type": "markdown",
   "metadata": {},
   "source": [
    "Write a function that takes an input parameter and returns the largest number dividable by three but less than the input parameter."
   ]
  },
  {
   "cell_type": "code",
   "execution_count": null,
   "metadata": {},
   "outputs": [],
   "source": [
    "# your code here"
   ]
  },
  {
   "cell_type": "code",
   "execution_count": null,
   "metadata": {},
   "outputs": [],
   "source": [
    "div3(10) # should output 9"
   ]
  },
  {
   "cell_type": "markdown",
   "metadata": {},
   "source": [
    "Below is a function that will not terminate. Please fix the code so the while loop terminates correctly"
   ]
  },
  {
   "cell_type": "code",
   "execution_count": null,
   "metadata": {},
   "outputs": [],
   "source": [
    "# Please fix this function so it will terminate correctly\n",
    "def infinit(x):\n",
    "    ##"
   ]
  },
  {
   "cell_type": "code",
   "execution_count": null,
   "metadata": {},
   "outputs": [],
   "source": [
    "inifinit(20)"
   ]
  },
  {
   "cell_type": "markdown",
   "metadata": {},
   "source": [
    "## 3. For-loops\n",
    "\n",
    "\"For each element in something do this\".\n",
    "\n",
    "For-loops iterate over elements in a list and perform a task for each one.\n",
    "\n",
    "The following C code iterates over the integer array `a` and prints each value. Note that it creates a for-loop with `i` that starts from 0 to the length of the array and then indexes it before printing.\n",
    "\n",
    "```c\n",
    "int a[4] = { 1, 2, 3, 4 };\n",
    "for (int i = 0; i < 4; i ++)\n",
    "{\n",
    "    printf (\"%d\\n\", a[i]);\n",
    "}\n",
    "```\n",
    "\n",
    "In Python we can write this as:\n",
    "```python\n",
    "a = [1, 2, 3, 4]\n",
    "for v in a:\n",
    "    print(v)\n",
    "```\n",
    "\n",
    "The above example reads as \"for each element v in a, do...\". In each step of the for-loop the next value in `a` will be held by `v`. The for-loop syntax in Python prevents us from needing to index. If you however would like the exact translation of the C example into Python you could write it as:\n",
    "```python\n",
    "a = [1, 2, 3, 4]\n",
    "for i in range(0, 4):\n",
    "    print(a[i])\n",
    "```"
   ]
  },
  {
   "cell_type": "code",
   "execution_count": null,
   "metadata": {},
   "outputs": [],
   "source": [
    "for i in range(0, 10):\n",
    "    print(i)"
   ]
  },
  {
   "cell_type": "markdown",
   "metadata": {},
   "source": [
    "### `range` function\n",
    "\n",
    "The `range` function is a very useful builtin function to create a sequence of values, avoid manually writing a them. The output of `range` can therefore be compared with a list. The first parameter is the starting value which `range` will increment until one step before equaling the second, upper limit, parameter."
   ]
  },
  {
   "cell_type": "code",
   "execution_count": null,
   "metadata": {},
   "outputs": [],
   "source": [
    "for i in range(1, 5):\n",
    "    i += 10\n",
    "    print(i)"
   ]
  },
  {
   "cell_type": "markdown",
   "metadata": {},
   "source": [
    "**NOTE**: notice how assigning `i` with +10 does not change that `i` will be the next value of the range, next step in the loop."
   ]
  },
  {
   "cell_type": "markdown",
   "metadata": {},
   "source": [
    "If you call `range` with three inputs, we can define the size of the step to increment the first parameter with."
   ]
  },
  {
   "cell_type": "code",
   "execution_count": null,
   "metadata": {},
   "outputs": [],
   "source": [
    "# print all even numbers less than 10\n",
    "for i in range(0, 10, 2):\n",
    "    print(i)"
   ]
  },
  {
   "cell_type": "markdown",
   "metadata": {},
   "source": [
    "### (back to for-loops)"
   ]
  },
  {
   "cell_type": "markdown",
   "metadata": {},
   "source": [
    "You do not need to use the element you get from the for-loop while iterating over a list. You can choose to discard it in case you just want to repeat an action a certain number of times"
   ]
  },
  {
   "cell_type": "code",
   "execution_count": null,
   "metadata": {},
   "outputs": [],
   "source": [
    "# print \"Hello, World!\" 5 times\n",
    "for _ in range(0, 5):\n",
    "    print(\"Hello, World!\")"
   ]
  },
  {
   "cell_type": "markdown",
   "metadata": {},
   "source": [
    "And don't forget that `str` variables are lists"
   ]
  },
  {
   "cell_type": "code",
   "execution_count": null,
   "metadata": {},
   "outputs": [],
   "source": [
    "s = \"Hello, World!\"\n",
    "for c in s:\n",
    "    print(c)"
   ]
  },
  {
   "cell_type": "markdown",
   "metadata": {},
   "source": [
    "### Exercises"
   ]
  },
  {
   "cell_type": "markdown",
   "metadata": {},
   "source": [
    "#### a. Join a list of strings\n",
    "\n",
    "There is a function to join a list of strings with an input delimiter string. Implement a `join` function that takes a list of strings and concatenates all values of the input with a delimiter string in between them which comes as the second input parameter (it is ok if it ends with the delimiter as well) and then returns it.\n",
    "\n",
    "**Reminder**:\n",
    "```python\n",
    "\"Hello\" + \",\" + \"World\" = \"Hello,World\"\n",
    "```"
   ]
  },
  {
   "cell_type": "code",
   "execution_count": null,
   "metadata": {},
   "outputs": [],
   "source": [
    "# your code here"
   ]
  },
  {
   "cell_type": "code",
   "execution_count": null,
   "metadata": {},
   "outputs": [],
   "source": [
    "join([\"aa\", \"ab\", \"ba\"], \"..\") # should return \"aa..ab..ba\""
   ]
  },
  {
   "cell_type": "markdown",
   "metadata": {},
   "source": [
    "#### b. Removing code duplication\n",
    "\n",
    "In the beginning of this class we solved a function that had a lot of code duplication with the help of an inner-function. This can be better implemented using a for-loop. Try and re-implement the solution using a for-loop instead.\n",
    "\n",
    "```python\n",
    "def foo(x):\n",
    "    x *= 3 + 1 \n",
    "    print(x)\n",
    "    \n",
    "    x *= 3 + 1\n",
    "    print(x)\n",
    "    \n",
    "    x *= 3 + 1\n",
    "    print(x)\n",
    "    \n",
    "    x *= 3 + 1\n",
    "    print(x)\n",
    "    \n",
    "    return x\n",
    "```\n",
    "===>\n",
    "\n",
    "```python\n",
    "def foo(x):\n",
    "    def foo_(x):\n",
    "        x *= 3 + 1\n",
    "        print(x)\n",
    "        return x\n",
    "    x = foo_(x)\n",
    "    x = foo_(x)\n",
    "    x = foo_(x)\n",
    "    x = foo_(x)\n",
    "    return x\n",
    "```"
   ]
  },
  {
   "cell_type": "code",
   "execution_count": null,
   "metadata": {},
   "outputs": [],
   "source": [
    "# your code here"
   ]
  },
  {
   "cell_type": "code",
   "execution_count": null,
   "metadata": {},
   "outputs": [],
   "source": [
    "foo()"
   ]
  },
  {
   "cell_type": "markdown",
   "metadata": {},
   "source": [
    "## 4. Exception handling\n",
    "\n",
    "Sometimes unexpected behavior can occur within your program (wrong variable type, division by zero, `NoneType`s,...). You say that in these cases an exception is *raised*, which can result in your program crashing if not handled correctly. Sometimes we can solve this by transforming variables to the correct format. In the example of the function that appends a greeting to the input parameter we saw that we could make sure we handle all variable types by casting the input parameter with `str`. \n",
    "\n",
    "### 4.1. Basics\n",
    "\n",
    "Another way to make sure your program does not crash is by guarding for exceptions using `try...except` clauses.\n",
    "\n",
    "```python\n",
    "def exc():\n",
    "    try:\n",
    "        # do some faulty\n",
    "        x = 5 / 0\n",
    "    except:\n",
    "        print(\"exception occured\")\n",
    "```"
   ]
  },
  {
   "cell_type": "code",
   "execution_count": null,
   "metadata": {},
   "outputs": [],
   "source": [
    "def div(x, y):\n",
    "    return x / y\n",
    "div(5, 0)"
   ]
  },
  {
   "cell_type": "code",
   "execution_count": null,
   "metadata": {},
   "outputs": [],
   "source": [
    "def div(x, y):\n",
    "    try:\n",
    "        return x / y\n",
    "    except:\n",
    "        print(\"Exception!\")"
   ]
  },
  {
   "cell_type": "code",
   "execution_count": null,
   "metadata": {},
   "outputs": [],
   "source": [
    "div(10, 5)"
   ]
  },
  {
   "cell_type": "code",
   "execution_count": null,
   "metadata": {},
   "outputs": [],
   "source": [
    "div(10, 0)"
   ]
  },
  {
   "cell_type": "code",
   "execution_count": null,
   "metadata": {},
   "outputs": [],
   "source": [
    "div(10, \"0\")"
   ]
  },
  {
   "cell_type": "markdown",
   "metadata": {},
   "source": [
    "### Exercise\n",
    "\n",
    "#### a. The hello function: error message when we can't create a message\n",
    "\n",
    "```python\n",
    "def hello(who):\n",
    "    who = str(who)\n",
    "    msg = \"Hello, \" + who\n",
    "    print(msg)\n",
    "```\n",
    "\n",
    "We don't want to write \"Hello, \" and then whatever is passed to the function. Instead we would like it to do so only values that we can concatenate with \"Hello, \", else we want an error message printed. Re-implement the `hello` function to no longer cast the input variable to a `str`, but instead catches any exceptions that might occur and prints an error.\n"
   ]
  },
  {
   "cell_type": "code",
   "execution_count": null,
   "metadata": {},
   "outputs": [],
   "source": [
    "# your code here"
   ]
  },
  {
   "cell_type": "code",
   "execution_count": null,
   "metadata": {},
   "outputs": [],
   "source": [
    "hello(\"World\") # should still print \"Hello, World\""
   ]
  },
  {
   "cell_type": "code",
   "execution_count": null,
   "metadata": {},
   "outputs": [],
   "source": [
    "hello(10) # should give an error message like \"Exception: can not create message\""
   ]
  },
  {
   "cell_type": "markdown",
   "metadata": {},
   "source": [
    "### 4.2. Named exceptions\n",
    "\n",
    "The syntax we have seen guards against all forms of exception. See the division example where it catches both division by zero error as well as type errors when we give wrong variable types as input. There are many different kind of exceptions, and you can guard against specific ones to gain more control.\n",
    "\n",
    "The `NameError` is raised for example when a variable is undefined. The below example guards against the `x` variable not being present in the function scope.\n",
    "\n",
    "```python\n",
    "try:\n",
    "    print(x) # x is maybe undefined\n",
    "except NameError:\n",
    "    print(\"x is undefined\")\n",
    "```\n",
    "\n",
    "You can guard for different kinds of exception for the same `try` clause:\n",
    "```python\n",
    "try:\n",
    "    print(x)\n",
    "except NameError:\n",
    "    print(\"x is undefined\")\n",
    "except Exception:\n",
    "    print(\"exception\")\n",
    "```\n",
    "This can be read similar to an `if`-statement: if the error is a `NameError` do..., else if the error is... \n",
    "\n",
    "The `Exception` error guards against all types so you could read it as the `else` statement. \n",
    "\n",
    "**NOTE** that you can also omit the `Exception` word. The above is equivalent to writing:\n",
    "```python\n",
    "try:\n",
    "    print(x)\n",
    "except NameError:\n",
    "    print(\"x is undefined\")\n",
    "except:\n",
    "    print(\"exception\")\n",
    "```\n",
    "\n",
    "It is also possible to catch the exception and store it in a variable to work with within the `except` block:\n",
    "```python\n",
    "try:\n",
    "    print(x)\n",
    "except NameError as e:\n",
    "    print(e)\n",
    "```"
   ]
  },
  {
   "cell_type": "markdown",
   "metadata": {},
   "source": [
    "Let's try to implement this to make it a little clearer. We start by updating our division function `div` to handle division by zero exceptions. The exception raised is called `ZeroDivisionError`, and when it occurs we want to print an error message that informs the user of what they did wrong (we also return `None` to mark that there was an error):"
   ]
  },
  {
   "cell_type": "code",
   "execution_count": null,
   "metadata": {},
   "outputs": [],
   "source": [
    "def div(x, y):\n",
    "    try:\n",
    "        return x / y\n",
    "    except ZeroDivisionError:\n",
    "        print(\"You can't divide by zero!\")\n",
    "        return None"
   ]
  },
  {
   "cell_type": "code",
   "execution_count": null,
   "metadata": {},
   "outputs": [],
   "source": [
    "div(10, 0)"
   ]
  },
  {
   "cell_type": "markdown",
   "metadata": {},
   "source": [
    "Great! Now we know that if someone tries to call the `div` function with a zero denominator they get an appropriate error message printed. But what happens now if we give a string as input parameter?"
   ]
  },
  {
   "cell_type": "code",
   "execution_count": null,
   "metadata": {},
   "outputs": [],
   "source": [
    "div(10, \"5\")"
   ]
  },
  {
   "cell_type": "markdown",
   "metadata": {},
   "source": [
    "A `TypeError` was raised because we tried to divide by a string value. Lets update the `div` function so we also handle `TypeError` exceptions: "
   ]
  },
  {
   "cell_type": "code",
   "execution_count": null,
   "metadata": {},
   "outputs": [],
   "source": [
    "def div(x, y):\n",
    "    try:\n",
    "        return x / y\n",
    "    except ZeroDivisionError:\n",
    "        print(\"You can't divide by zero!\")\n",
    "        return None\n",
    "    # add a guard for TypeError exceptions"
   ]
  },
  {
   "cell_type": "code",
   "execution_count": null,
   "metadata": {},
   "outputs": [],
   "source": [
    "div(10, \"5\")"
   ]
  },
  {
   "cell_type": "markdown",
   "metadata": {},
   "source": [
    "### 4.3 `try`...`except`...`else`\n",
    "\n",
    "We have seen how we can try to execute some code, and in case it raises an exception we can handle it so the program does not crash. There are situations we want to continue our function after the parts that are sensitive to exceptions. We can of course group everything within the `try` clause:\n",
    "\n",
    "```python\n",
    "try:\n",
    "    x /= y\n",
    "    x += 5\n",
    "    x *= 3\n",
    "except ZeroDivisionError:\n",
    "    print(\"Can not divide by zero!\") # y is zero\n",
    "except TypeError:\n",
    "    print(\"Wrong types!\") # wrong types\n",
    "except:\n",
    "    print(\"Exception!\") # everything else\n",
    "```\n",
    "\n",
    "In the above example we guard for all kind of exceptions with specific handling for division by zero as well as wrong types. But it is a little unnecessary to guard all lines within the `try` clause because if the first line passes we know that the two following ones should execute fine.\n",
    "\n",
    "We can solve it by putting the last two lines of the `try` clause after the guards and make sure we return in case an exception occurs.\n",
    "\n",
    "```python\n",
    "try:\n",
    "    x /= y # if this passes all is fine\n",
    "except ZeroDivisionError:\n",
    "    print(\"Can not divide by zero!\") # y is zero\n",
    "    return\n",
    "except TypeError:\n",
    "    print(\"Wrong types!\") # wrong types\n",
    "    return\n",
    "except:\n",
    "    print(\"Exception!\") # everything else\n",
    "    return\n",
    "# if we get here we can continue without problem\n",
    "x += 5\n",
    "x *= 3\n",
    "```\n",
    "\n",
    "The above example is however not very elegant. It can first feel a little hard to read. Secondly, We need to remember to add `return` within each `except` clause to make sure to break program execution and not get to the last two lines.\n",
    "\n",
    "Enters the `else` clause. The keyword `else` is used here to define code that should be run as long as no exceptions were raised. The syntax looks as following:\n",
    "\n",
    "```python\n",
    "try:\n",
    "    print(x)\n",
    "except:\n",
    "    print(\"exception\")\n",
    "else:\n",
    "    print(\"there was no error\")\n",
    "```\n",
    "\n",
    "We can then write the little more elegant solution to the previous code sample:\n",
    "\n",
    "```python\n",
    "try:\n",
    "    x /= y # if this passes all is fine\n",
    "except ZeroDivisionError:\n",
    "    print(\"Can not divide by zero!\") # y is zero\n",
    "except TypeError:\n",
    "    print(\"Wrong types!\")\n",
    "except:\n",
    "    print(\"Exception!\")\n",
    "else: # no errors\n",
    "    x += 5\n",
    "    x *= 3\n",
    "```\n"
   ]
  },
  {
   "cell_type": "markdown",
   "metadata": {},
   "source": [
    "We can use the `else` clause to make our `hello` function a little more elegant as well:"
   ]
  },
  {
   "cell_type": "code",
   "execution_count": null,
   "metadata": {},
   "outputs": [],
   "source": [
    "def hello(who):\n",
    "    try:\n",
    "        msg = \"Hello, \" + who\n",
    "    except:\n",
    "        print(\"Exception!\")\n",
    "    else:\n",
    "        print(msg)"
   ]
  },
  {
   "cell_type": "code",
   "execution_count": null,
   "metadata": {},
   "outputs": [],
   "source": [
    "hello(\"World\")"
   ]
  },
  {
   "cell_type": "code",
   "execution_count": null,
   "metadata": {},
   "outputs": [],
   "source": [
    "hello(10)"
   ]
  },
  {
   "cell_type": "markdown",
   "metadata": {},
   "source": [
    "### 4.4. `try`...`except`...`finally`\n",
    "\n",
    "In the previous section we looked at how we can group code that should be run only when there are no exceptions. In some cases however we code that needs to be run no matter what happens, exceptions or none. For this we use the `finally` clause:\n",
    "\n",
    "```python\n",
    "try:\n",
    "    print(x)\n",
    "except:\n",
    "    print(\"Exception\") # x is undefined\n",
    "finally:\n",
    "    print(\"This is printed in the end\")\n",
    "```\n",
    "\n",
    "This is very useful for working with files that always need to be closed in the end. Here is an example of something that we will look at closer later in this course:\n",
    "\n",
    "```python\n",
    "try:\n",
    "    f = open(\"lines.txt\")\n",
    "    lines = f.read()\n",
    "except:\n",
    "    print(\"Exception\")\n",
    "finally:\n",
    "    f.close()\n",
    "```"
   ]
  },
  {
   "cell_type": "markdown",
   "metadata": {},
   "source": [
    "Let's see this in action so we know what to expect. Let's try to print a variable that does not exist. In case of an exception we print an error message, and finally we print something to tell we are done:"
   ]
  },
  {
   "cell_type": "code",
   "execution_count": null,
   "metadata": {},
   "outputs": [],
   "source": [
    "# try updating this code sample to print something that does not cause an\n",
    "# exception to see what happens\n",
    "try:\n",
    "    print(somevariablethatdoesnotexist)\n",
    "except:\n",
    "    print(\"Exception!\")\n",
    "finally:\n",
    "    print(\"done trying!\")"
   ]
  },
  {
   "cell_type": "markdown",
   "metadata": {},
   "source": [
    "### 4.5. Raising your own exceptions\n",
    "\n",
    "Exceptions are raised as to alarm the developer/user that there is no way to guarantee the flow for the rest of the program. Dividing by zero is an undefined behavior, there is no way to predict what happens after it, an exception is therefore raised to notify that special care needs to be taken.\n",
    "\n",
    "We have seen how we can catch exceptions that might be raised, as to guard your program from crashing. But you can also raise exceptions yourself on purpose. This is useful in case you see that there is no way to insure the normal behavior of a function depending on circumstances. If we would return normally, but maybe with an unexcepted value, this can cause problems later in the program that are unwanted or harder to notice.\n",
    "\n",
    "The syntax for raising exception manually is by using the keyword `raise`:\n",
    "\n",
    "```python\n",
    "def nozero(x):\n",
    "    if x == 0:\n",
    "        raise Exception(\"x == 0\")\n",
    "```\n",
    "\n",
    "It is also a good way to enforce that your function is called in the intended way."
   ]
  },
  {
   "cell_type": "markdown",
   "metadata": {},
   "source": [
    "#### Exercise [optional]\n",
    "\n",
    "Try experimenting at home writing a function that raises an exception and then another function that catches it. Also try making a third function (and then maybe even a fourth) which calls the function that raises the exception, and is called itself by the last function. Try to understand how the flow of exceptions are propagated and how you can intercept them."
   ]
  },
  {
   "cell_type": "code",
   "execution_count": null,
   "metadata": {},
   "outputs": [],
   "source": [
    "def raiseException():\n",
    "    # raise an exception\n",
    "    pass\n",
    "\n",
    "# try also with an intermediate function `interException` that calls raiseException\n",
    "# and is then called by catchException\n",
    "\n",
    "def catchException():\n",
    "    # call raiseException() and catch it\n",
    "    pass\n",
    "\n",
    "catchException()"
   ]
  },
  {
   "cell_type": "markdown",
   "metadata": {},
   "source": [
    "### 4.6 Warning about exceptions\n",
    "\n",
    "**BIG NO**\n",
    "```python\n",
    "def main():\n",
    "    # some scary code that might raise an exception\n",
    "    # ...\n",
    "    return x\n",
    "\n",
    "try:\n",
    "    main()\n",
    "except:\n",
    "    print(\"Well that didn't work...\")\n",
    "```\n",
    "\n",
    "No matter how tempting please never embed all your code within a `try`...`except` block just to make sure it will not crash. It makes it very cumbersome to debug later. Exceptions are there for a reason and their purpose is to make sure you write robust code that works as intended with the correct data."
   ]
  },
  {
   "cell_type": "markdown",
   "metadata": {},
   "source": [
    "## 5. Recursive functions\n",
    "\n",
    "Recursive functions are functions that call themselves until a condition has been met, after which it should stop. They are an alternate method to writing `while`- and `for`-loops. \n",
    "\n",
    "The following code sample decrements the input variable `x` until it is zero and prints the value at each step:\n",
    "\n",
    "```python\n",
    "def countdown(x):\n",
    "    while x != 0:\n",
    "        print(x)\n",
    "        x -= 1\n",
    "```\n",
    "\n",
    "This can be written using recursive functions with:\n",
    "\n",
    "```python\n",
    "def countdown(x):\n",
    "    if x != 0:\n",
    "        print(x)\n",
    "        countdown(x - 1)\n",
    "```\n",
    "\n",
    "The best way to differentiate between a loop and a recursive function is to see the loop as a row of boxes we want to go through until we find what we are looking for (usually the last item). A recursive function is more like a box that contains many other boxes, where the inner most one contains what we are looking for.\n",
    "\n",
    "<img src=\"img/Russian-Matroshka_no_bg.jpg\" style=\"width:400px\">"
   ]
  },
  {
   "cell_type": "markdown",
   "metadata": {},
   "source": [
    "Let's try to write a function that factorizes an input argument (i.e. n * (n-1) * (n-2) * ... * 1).\n",
    "\n",
    "First we will do it using a `while` loop:"
   ]
  },
  {
   "cell_type": "code",
   "execution_count": null,
   "metadata": {},
   "outputs": [],
   "source": [
    "def fact(x):\n",
    "    y = 1\n",
    "    while x > 1:\n",
    "        y *= x\n",
    "        x -= 1\n",
    "    return y"
   ]
  },
  {
   "cell_type": "code",
   "execution_count": null,
   "metadata": {},
   "outputs": [],
   "source": [
    "fact(4)"
   ]
  },
  {
   "cell_type": "markdown",
   "metadata": {},
   "source": [
    "A recursive solution would look like following:"
   ]
  },
  {
   "cell_type": "code",
   "execution_count": null,
   "metadata": {},
   "outputs": [],
   "source": [
    "def fact(x):\n",
    "    if x == 1:\n",
    "        return 1\n",
    "    else:\n",
    "        return x * fact(x - 1)"
   ]
  },
  {
   "cell_type": "code",
   "execution_count": null,
   "metadata": {},
   "outputs": [],
   "source": [
    "fact(4)"
   ]
  },
  {
   "cell_type": "markdown",
   "metadata": {},
   "source": [
    "#### Explanation of the factorial implementations\n",
    "\n",
    "The iterative solution can be viewed as `fact` looping over a list of boxes with values ranging between `x` and 1, that we each step multiply together:\n",
    "<img src=\"img/iterative.jpg\" style=\"width:600px\">\n",
    "\n",
    "While in the recursive solution we define the function `fact` as being a large box containing a value that is multiplied by inner boxes of `fact`, until we reach the smallest one only containing the value 1. \n",
    "<img src=\"img/recursive.jpg\" style=\"width:400px\">\n"
   ]
  },
  {
   "cell_type": "markdown",
   "metadata": {},
   "source": [
    "### Exercise [optional]\n",
    "\n",
    "#### Implement the fibonacci sequence\n",
    "\n",
    "The fibonacci sequence is a series of values where the next one is generated by adding the previous value to the current value. The formula looks like this:\n",
    "\n",
    "```\n",
    "F(n) = 0,               when n == 0\n",
    "F(n) = 1,               when n == 1\n",
    "F(n) = F(n-1) + F(n-2), when n > 1\n",
    "```\n",
    "\n",
    "And output for `n = 7` would be:\n",
    "\n",
    "```\n",
    "F(7) = 0 1 1 2 3 5 8 13\n",
    "```\n",
    "\n",
    "The fibonacci sequence is one of the algorithms that is easier to implement as a recursive function than a loop because you need to keep track of the value in the two previous steps (you can implement it in Python using only one line). We want to implement a function that returns the value of the sequence at the `n`th position. \n",
    "\n",
    "The iterative version can look as following (this version is extra verbose to be clear):"
   ]
  },
  {
   "cell_type": "code",
   "execution_count": null,
   "metadata": {},
   "outputs": [],
   "source": [
    "# Iterative version of the fibonacci sequence.\n",
    "# Uncomment the print statements to get the sequence printed out\n",
    "\n",
    "def fib(x):\n",
    "    # special cases\n",
    "    if x == 0 or x == 1:\n",
    "        return x\n",
    "    \n",
    "    i = 0 # F(0)\n",
    "    j = 1 # F(1)\n",
    "    for _ in range(0, x-1):\n",
    "        #print(i)\n",
    "        k = i\n",
    "        i = j\n",
    "        j += k\n",
    "        \n",
    "    #print(i)\n",
    "    return j"
   ]
  },
  {
   "cell_type": "code",
   "execution_count": null,
   "metadata": {},
   "outputs": [],
   "source": [
    "fib(7)"
   ]
  },
  {
   "cell_type": "code",
   "execution_count": null,
   "metadata": {},
   "outputs": [],
   "source": [
    "# your code here"
   ]
  }
 ],
 "metadata": {
  "kernelspec": {
   "display_name": "Python 3",
   "language": "python",
   "name": "python3"
  },
  "language_info": {
   "codemirror_mode": {
    "name": "ipython",
    "version": 3
   },
   "file_extension": ".py",
   "mimetype": "text/x-python",
   "name": "python",
   "nbconvert_exporter": "python",
   "pygments_lexer": "ipython3",
   "version": "3.7.2"
  }
 },
 "nbformat": 4,
 "nbformat_minor": 2
}
