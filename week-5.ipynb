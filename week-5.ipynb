{
 "cells": [
  {
   "cell_type": "markdown",
   "metadata": {},
   "source": [
    "# Week 5: Input/Output, imports and exception handling"
   ]
  },
  {
   "cell_type": "markdown",
   "metadata": {},
   "source": [
    "## 1. Imports\n",
    "\n",
    "When writing a larger project it is covenient, as well as good practice, to split your code into separate files and modules. There are also a wide range of modules that are available to you as to help you avoid solving problems that are not directly linked to your implementation.\n",
    "\n",
    "Imports are done using the `import` keyword followed by a filename or a module. You can choose to import an entire file/module or only specific functions, variables or classes. It is recommended to try make sure you only import what you are going to use and necessary to avoid unnecessary overhead."
   ]
  },
  {
   "cell_type": "markdown",
   "metadata": {},
   "source": [
    "### 1.1. Importing files\n",
    "\n",
    "#### Same directory\n",
    "\n",
    "In the following scenario you have written some mathematical functions that you chose to group in a file called `mathfunctions.py`, that you want to use in later in your main file `main.py`. (Notice the absence of any `.py` file extension which is used for Python source files.)\n",
    "\n",
    "```\n",
    "src\n",
    "  |- main.py\n",
    "  `- mathfunctions.py\n",
    "```\n",
    "\n",
    "Importing the functions and variables of file is as easy as writing:\n",
    "```python\n",
    "import mathfunctions\n",
    "```\n",
    "\n",
    "The functions in your file are then available to the rest of your script through a variable of type `module`, that gets the same name as your file. The functions and variables are available as properties set to this object and can be called like following:\n",
    "\n",
    "```python\n",
    "x = mathfunctions.fact(10)\n",
    "print(x + mathfunctions.PI)\n",
    "```\n",
    "In the above example our `mathfunctions.py` contains a function `fact` that returns the factorization of an input value, and global variable `PI`.\n",
    "\n",
    "Requirement for this is that the files are in the same directory (i.e. folder). There will be an exception raised in case the file does not exist.\n",
    "\n",
    "#### Sub-directory\n",
    "\n",
    "In case you have chosen to group your files in sub-directories the path to your files can be separated by `.` when importing\n",
    "\n",
    "```\n",
    "src\n",
    "  |- utils\n",
    "  |    |- mathfunctions.py\n",
    "  |    `- dataprocessing.py \n",
    "  `- main.py\n",
    "```\n",
    "\n",
    "```python\n",
    "import utils.dataprocessing\n",
    "import utils.mathfunctions\n",
    "\n",
    "utils.mathfunctions.fact(10)\n",
    "# ...\n",
    "```\n",
    "\n",
    "When you run your script, all imports are calculated relative to the directory you call the `python` binary from. Meaning that if for example the `dataprocessing.py` file imports and functions from the `mathfunctions.py` file, it needs the full path (`utils.mathfunction`) to the file and not the relative one.\n",
    "\n",
    "#### Different locations on filesystem\n",
    "\n",
    "If for example you want to import files from another project that is in another directory than the one you are running your script from you will need to look into adding your other project to your `PYTHONPATH`. I recommend reading up on the `PYTHONPATH` to get a good understanding on how you can expose your modules and files between projects. \n",
    "\n",
    "#### Importing specific functions or variables\n",
    "\n",
    "When importing a file you do need to import the whole file as an object which has all functions avaible to it. It is possible to just import the one function that you need, which is also recommended in many cases to make your code clear about your dependencies.\n",
    "\n",
    "```python\n",
    "from utils.mathfunctions import fact\n",
    "fact(10)\n",
    "```\n",
    "\n",
    "There are two things to note here:\n",
    " * The different syntax using the `from` keyword to specify the file, then `import` for specific functions and variables. If you are importing more than one function you define these as a comma-separated list after `import`\n",
    " * The function you import is no longer bound to a variable with the same name as the `file`, it is directly imported into the global scope."
   ]
  },
  {
   "cell_type": "markdown",
   "metadata": {},
   "source": [
    "### 1.2. Importing modules\n",
    "\n",
    "Libraries in Python are a group of so-called *modules*. In practice using modules and sub-modules are exactly the same as importing files as we saw above except that they contain maybe more functionality than what is defined in just source file."
   ]
  },
  {
   "cell_type": "code",
   "execution_count": 3,
   "metadata": {},
   "outputs": [
    {
     "data": {
      "text/plain": [
       "3.141592653589793"
      ]
     },
     "execution_count": 3,
     "metadata": {},
     "output_type": "execute_result"
    }
   ],
   "source": [
    "import math\n",
    "\n",
    "math.pi"
   ]
  },
  {
   "cell_type": "markdown",
   "metadata": {},
   "source": [
    "There are tons of libraries that available to you in pretty much all considerable domains within Python. Everything from writing web services to data science to image processing. These libraries help you faster get going with your own work and not spend time on re-implementing things that have been done many times before.\n",
    "\n",
    "One nightmare to work with are dates. There are quite a few standards on how to represent dates when they are communicated between systems, there is the issue of representing time zones and also not all parts of the world has daylight savings time.\n",
    "Luckily there is the `datetime` library and it's modules that we can use to make working with dates \"easier\"."
   ]
  },
  {
   "cell_type": "code",
   "execution_count": 8,
   "metadata": {},
   "outputs": [
    {
     "data": {
      "text/plain": [
       "datetime.datetime(2019, 1, 27, 11, 28, 43, 51451)"
      ]
     },
     "execution_count": 8,
     "metadata": {},
     "output_type": "execute_result"
    }
   ],
   "source": [
    "import datetime\n",
    "\n",
    "datetime.datetime.now()"
   ]
  },
  {
   "cell_type": "markdown",
   "metadata": {},
   "source": [
    "### 1.3. Making your own module\n",
    "\n",
    "Even though Python offers a very large base of libraries and modules there are of course cases you need to write your own modules that are specific to your work.\n",
    "\n",
    "In practice a module is nothing but a directory that you import into your code. The only requirement is that there is a file named `__init__.py` in the directory that specifies what functions and variables are available when you import the module:\n",
    "\n",
    "```\n",
    "src\n",
    " |- utils\n",
    " |    |- __init__.py\n",
    " |    |- dataprocessing.py\n",
    " |    `- mathfunctions.py\n",
    " `- main.py\n",
    "```\n",
    "\n",
    "When importing files you might have noticed the absence of an intermediate header file that is common practice to use in C. In Python the `__init__.py` file acts as a header file though but written as any other source file, and importing a module is basically the same as importing this specific file. To expose the functions that you have written within `dataprocessing.py` and `mathfunctions.py` you insert `import` statements to the `__init__.py` with what functions you to make available through the `utils` module.\n",
    "\n",
    "For example if we want to make the `fact` function available when importing `utils` we need to import it in the `__init__.py`:\n",
    "\n",
    "```python\n",
    "from utils.mathfunctions import fact\n",
    "```\n",
    "\n",
    "Then in our `main.py` file we can just import the `utils` module that will have `fact` function exposable:\n",
    "\n",
    "```python\n",
    "import utils\n",
    "utils.fact(10)\n",
    "```\n",
    "\n",
    "Compared to just importing files, modules are a nice way to group functionality that is spread over several files, and also control what you want to expose in your module and not make it necessary for others to read all your files to find what they need.\n"
   ]
  },
  {
   "cell_type": "markdown",
   "metadata": {},
   "source": [
    "## 2. Input/Output\n",
    "\n",
    "Well written programs adapt well to different data, and this data comes from outside the source code. It can be in the form of command line arguments, or an interactive application that waits for user input, but in many cases it is so large that it is stored in an external source such as in a file."
   ]
  },
  {
   "cell_type": "markdown",
   "metadata": {},
   "source": [
    "### 2.1. Command line arguments\n",
    "\n",
    "Command line arguments are available through the `sys` module, and are accessable in the `sys.argv` variable.\n",
    "\n",
    "The `argv` variable is a `list` containing all the command line arguments, and remember that the first element is the name of your script.\n",
    "\n",
    "```python\n",
    "import sys\n",
    "print(sys.argv[0]) # will print \"main.py\"\n",
    "```\n"
   ]
  },
  {
   "cell_type": "markdown",
   "metadata": {},
   "source": [
    "### 2.2. Waiting for user input\n",
    "\n",
    "In case you instead want to create an interactive script that halts at different steps to ask the user for data you can use the `input` function that takes a single argument with an instruction message for the user with information on what to enter. Return value for the function is what the user entered\n",
    "\n",
    "```python\n",
    "x = input(\" > Please input a number to factorize: \")\n",
    "y = fact(int(x))\n",
    "print(\"The factor of\", x, \"is\", y)\n",
    "```\n",
    "\n",
    "Note that the `input` function returns a `str` type value and we need to cast it to an `int` to factorize it.\n",
    "\n"
   ]
  },
  {
   "cell_type": "markdown",
   "metadata": {},
   "source": [
    "### 2.3. Files\n",
    "\n",
    "Using files is the best way when there is quite a lot of variables that need to be loaded into the program during execution.\n",
    "\n",
    "Working with files is done by opening them, performing read or write actions, and then closing them. Opening is done using the `open` function that takes as a first parameter the filepath to the file. The `open` returns a file handle object that is used to perform actions on the file and also closing it using its `close` function when done with it. (This is builtin functionality you do not need to import anything.)\n",
    "\n",
    "`open` also takes a second optional `str` parameter that defines the mode we are opening the file. The open mode of the file defines if we are only reading from it, writing to it, and if we are working with it in binary or text mode. This parameter defaults to reading in text mode.\n",
    "\n",
    "| Mode | Explanation |\n",
    "| ---- | ----------- |\n",
    "| `'r'` | Read only text mode |\n",
    "| `'w'` | Read and write text mode |\n",
    "| `'rb'` | Read only binary mode |\n",
    "| `'wb'` | Write binary mode |"
   ]
  },
  {
   "cell_type": "markdown",
   "metadata": {},
   "source": [
    "#### Reading\n",
    "\n",
    "Consider the following `mydata.dat` file:\n",
    "```\n",
    "1 2\n",
    "3 4\n",
    "5 6\n",
    "7 8\n",
    "9 10\n",
    "```\n",
    "\n",
    "The file-handle object has a `read` function that loads all the content of the file and returns it in a `str` variable.\n",
    "\n",
    "```python\n",
    "f = open(\"mydata.dat\")\n",
    "data = f.read()\n",
    "f.close()\n",
    "\"\"\"\n",
    "From here the 'data' variable will be the following\n",
    "data = '1 2\\n3 4\\n5 6\\n7 8\\n9 10\\n'\n",
    "\"\"\"\n",
    "```\n",
    "\n",
    "You can also read all the content of the file into a `list` of `str` values, where each element is one line in the file\n",
    "\n",
    "```python\n",
    "f = open(\"mydata.dat\")\n",
    "data = f.readlines()\n",
    "f.close()\n",
    "\"\"\"\n",
    "The data variable will contain the following:\n",
    "data = [\n",
    "    '1 2\\n',\n",
    "    '3 4\\n',\n",
    "    '5 6\\n',\n",
    "    '7 8\\n',\n",
    "    '9 10\\n' ]\n",
    "\"\"\"\n",
    "```\n",
    "\n",
    "This is however not the best solution in case your data file is very large, and to save on memory you might want to just to read one line at a time and process that line, throw it away before moving to the next one.\n",
    "\n",
    "One way is to use for loops:\n",
    "```python\n",
    "f = open(\"mydata.dat\")\n",
    "for line in f:\n",
    "    print(line)\n",
    "    # process line\n",
    "f.close()\n",
    "```\n",
    "\n",
    "This solution gives us though a little less control than using the `readline` function with which we can manually specify when to read a line. This is useful if we want to skip the first three lines:\n",
    "```python\n",
    "f = open(\"mydata.dat\")\n",
    "for _ in range(3):\n",
    "    f.readline()\n",
    "data = f.read() # read the rest of the file\n",
    "f.close()\n",
    "\"\"\"\n",
    "data = '7 8\\n9 10\\n'\n",
    "\"\"\"\n",
    "```"
   ]
  },
  {
   "cell_type": "markdown",
   "metadata": {},
   "source": [
    "#### Writing\n",
    "\n",
    "Interacting with a file through writing is very similar to reading where you can do it either all at once or line by line.\n",
    "\n",
    "Before, to be able to write to a file we need to first make sure to open the file in write mode using `'w'` as second parameter for the `open` function. If we then want to write the entire contents of text from a variable to the file we can do so using the file objects `write` function.\n",
    "\n",
    "```python\n",
    "f = open(\"mydata.dat\", \"w\")\n",
    "data = \"\"\"1 2\n",
    "3 4\n",
    "5 6\n",
    "7 8\n",
    "9 10\n",
    "\"\"\"\n",
    "f.write(data)\n",
    "f.close()\n",
    "```\n",
    "\n",
    "You can also write line by line if you have a list of data that you want to write to file\n",
    "```python\n",
    "f = open(\"mydata.dat\", \"w\")\n",
    "data = [\"1 2\", \"3 4\", \"5 6\", \"7 8\", \"9 10\"]\n",
    "for v in data:\n",
    "    f.write(v + \"\\n\")\n",
    "f.close()\n",
    "\n",
    "```"
   ]
  },
  {
   "cell_type": "markdown",
   "metadata": {},
   "source": [
    "## 4. Exception handling\n",
    "\n",
    "Sometimes unexpected behavior can occur within your program (wrong variable type, division by zero, `NoneType`s,...). You say that in these cases an exception is *raised*, which can result in your program crashing if not handled correctly. Sometimes we can solve this by transforming variables to the correct format. In the example of the function that appends a greeting to the input parameter we saw that we could make sure we handle all variable types by casting the input parameter with `str`. \n",
    "\n",
    "### 4.1. Basics\n",
    "\n",
    "Another way to make sure your program does not crash is by guarding for exceptions using `try...except` clauses.\n",
    "\n",
    "```python\n",
    "def exc():\n",
    "    try:\n",
    "        # do some faulty\n",
    "        x = 5 / 0\n",
    "    except:\n",
    "        print(\"exception occured\")\n",
    "```"
   ]
  },
  {
   "cell_type": "code",
   "execution_count": null,
   "metadata": {},
   "outputs": [],
   "source": [
    "def div(x, y):\n",
    "    return x / y\n",
    "div(5, 0)"
   ]
  },
  {
   "cell_type": "code",
   "execution_count": null,
   "metadata": {},
   "outputs": [],
   "source": [
    "def div(x, y):\n",
    "    try:\n",
    "        return x / y\n",
    "    except:\n",
    "        print(\"Exception!\")"
   ]
  },
  {
   "cell_type": "code",
   "execution_count": null,
   "metadata": {},
   "outputs": [],
   "source": [
    "div(10, 5)"
   ]
  },
  {
   "cell_type": "code",
   "execution_count": null,
   "metadata": {},
   "outputs": [],
   "source": [
    "div(10, 0)"
   ]
  },
  {
   "cell_type": "code",
   "execution_count": null,
   "metadata": {},
   "outputs": [],
   "source": [
    "div(10, \"0\")"
   ]
  },
  {
   "cell_type": "markdown",
   "metadata": {},
   "source": [
    "### Exercise\n",
    "\n",
    "#### a. The hello function: error message when we can't create a message\n",
    "\n",
    "```python\n",
    "def hello(who):\n",
    "    who = str(who)\n",
    "    msg = \"Hello, \" + who\n",
    "    print(msg)\n",
    "```\n",
    "\n",
    "We don't want to write \"Hello, \" and then whatever is passed to the function. Instead we would like it to do so only values that we can concatenate with \"Hello, \", else we want an error message printed. Re-implement the `hello` function to no longer cast the input variable to a `str`, but instead catches any exceptions that might occur and prints an error.\n"
   ]
  },
  {
   "cell_type": "code",
   "execution_count": null,
   "metadata": {},
   "outputs": [],
   "source": [
    "# your code here"
   ]
  },
  {
   "cell_type": "code",
   "execution_count": null,
   "metadata": {},
   "outputs": [],
   "source": [
    "hello(\"World\") # should still print \"Hello, World\""
   ]
  },
  {
   "cell_type": "code",
   "execution_count": null,
   "metadata": {},
   "outputs": [],
   "source": [
    "hello(10) # should give an error message like \"Exception: can not create message\""
   ]
  },
  {
   "cell_type": "markdown",
   "metadata": {},
   "source": [
    "### 4.2. Named exceptions\n",
    "\n",
    "The syntax we have seen guards against all forms of exception. See the division example where it catches both division by zero error as well as type errors when we give wrong variable types as input. There are many different kind of exceptions, and you can guard against specific ones to gain more control.\n",
    "\n",
    "The `NameError` is raised for example when a variable is undefined. The below example guards against the `x` variable not being present in the function scope.\n",
    "\n",
    "```python\n",
    "try:\n",
    "    print(x) # x is maybe undefined\n",
    "except NameError:\n",
    "    print(\"x is undefined\")\n",
    "```\n",
    "\n",
    "You can guard for different kinds of exception for the same `try` clause:\n",
    "```python\n",
    "try:\n",
    "    print(x)\n",
    "except NameError:\n",
    "    print(\"x is undefined\")\n",
    "except Exception:\n",
    "    print(\"exception\")\n",
    "```\n",
    "This can be read similar to an `if`-statement: if the error is a `NameError` do..., else if the error is... \n",
    "\n",
    "The `Exception` error guards against all types so you could read it as the `else` statement. \n",
    "\n",
    "**NOTE** that you can also omit the `Exception` word. The above is equivalent to writing:\n",
    "```python\n",
    "try:\n",
    "    print(x)\n",
    "except NameError:\n",
    "    print(\"x is undefined\")\n",
    "except:\n",
    "    print(\"exception\")\n",
    "```\n",
    "\n",
    "It is also possible to catch the exception and store it in a variable to work with within the `except` block:\n",
    "```python\n",
    "try:\n",
    "    print(x)\n",
    "except NameError as e:\n",
    "    print(e)\n",
    "```"
   ]
  },
  {
   "cell_type": "markdown",
   "metadata": {},
   "source": [
    "Let's try to implement this to make it a little clearer. We start by updating our division function `div` to handle division by zero exceptions. The exception raised is called `ZeroDivisionError`, and when it occurs we want to print an error message that informs the user of what they did wrong (we also return `None` to mark that there was an error):"
   ]
  },
  {
   "cell_type": "code",
   "execution_count": null,
   "metadata": {},
   "outputs": [],
   "source": [
    "def div(x, y):\n",
    "    try:\n",
    "        return x / y\n",
    "    except ZeroDivisionError:\n",
    "        print(\"You can't divide by zero!\")\n",
    "        return None"
   ]
  },
  {
   "cell_type": "code",
   "execution_count": null,
   "metadata": {},
   "outputs": [],
   "source": [
    "div(10, 0)"
   ]
  },
  {
   "cell_type": "markdown",
   "metadata": {},
   "source": [
    "Great! Now we know that if someone tries to call the `div` function with a zero denominator they get an appropriate error message printed. But what happens now if we give a string as input parameter?"
   ]
  },
  {
   "cell_type": "code",
   "execution_count": null,
   "metadata": {},
   "outputs": [],
   "source": [
    "div(10, \"5\")"
   ]
  },
  {
   "cell_type": "markdown",
   "metadata": {},
   "source": [
    "A `TypeError` was raised because we tried to divide by a string value. Lets update the `div` function so we also handle `TypeError` exceptions: "
   ]
  },
  {
   "cell_type": "code",
   "execution_count": null,
   "metadata": {},
   "outputs": [],
   "source": [
    "def div(x, y):\n",
    "    try:\n",
    "        return x / y\n",
    "    except ZeroDivisionError:\n",
    "        print(\"You can't divide by zero!\")\n",
    "        return None\n",
    "    # add a guard for TypeError exceptions"
   ]
  },
  {
   "cell_type": "code",
   "execution_count": null,
   "metadata": {},
   "outputs": [],
   "source": [
    "div(10, \"5\")"
   ]
  },
  {
   "cell_type": "markdown",
   "metadata": {},
   "source": [
    "### 4.3 `try`...`except`...`else`\n",
    "\n",
    "We have seen how we can try to execute some code, and in case it raises an exception we can handle it so the program does not crash. There are situations we want to continue our function after the parts that are sensitive to exceptions. We can of course group everything within the `try` clause:\n",
    "\n",
    "```python\n",
    "try:\n",
    "    x /= y\n",
    "    x += 5\n",
    "    x *= 3\n",
    "except ZeroDivisionError:\n",
    "    print(\"Can not divide by zero!\") # y is zero\n",
    "except TypeError:\n",
    "    print(\"Wrong types!\") # wrong types\n",
    "except:\n",
    "    print(\"Exception!\") # everything else\n",
    "```\n",
    "\n",
    "In the above example we guard for all kind of exceptions with specific handling for division by zero as well as wrong types. But it is a little unnecessary to guard all lines within the `try` clause because if the first line passes we know that the two following ones should execute fine.\n",
    "\n",
    "We can solve it by putting the last two lines of the `try` clause after the guards and make sure we return in case an exception occurs.\n",
    "\n",
    "```python\n",
    "try:\n",
    "    x /= y # if this passes all is fine\n",
    "except ZeroDivisionError:\n",
    "    print(\"Can not divide by zero!\") # y is zero\n",
    "    return\n",
    "except TypeError:\n",
    "    print(\"Wrong types!\") # wrong types\n",
    "    return\n",
    "except:\n",
    "    print(\"Exception!\") # everything else\n",
    "    return\n",
    "# if we get here we can continue without problem\n",
    "x += 5\n",
    "x *= 3\n",
    "```\n",
    "\n",
    "The above example is however not very elegant. It can first feel a little hard to read. Secondly, We need to remember to add `return` within each `except` clause to make sure to break program execution and not get to the last two lines.\n",
    "\n",
    "Enters the `else` clause. The keyword `else` is used here to define code that should be run as long as no exceptions were raised. The syntax looks as following:\n",
    "\n",
    "```python\n",
    "try:\n",
    "    print(x)\n",
    "except:\n",
    "    print(\"exception\")\n",
    "else:\n",
    "    print(\"there was no error\")\n",
    "```\n",
    "\n",
    "We can then write the little more elegant solution to the previous code sample:\n",
    "\n",
    "```python\n",
    "try:\n",
    "    x /= y # if this passes all is fine\n",
    "except ZeroDivisionError:\n",
    "    print(\"Can not divide by zero!\") # y is zero\n",
    "except TypeError:\n",
    "    print(\"Wrong types!\")\n",
    "except:\n",
    "    print(\"Exception!\")\n",
    "else: # no errors\n",
    "    x += 5\n",
    "    x *= 3\n",
    "```\n"
   ]
  },
  {
   "cell_type": "markdown",
   "metadata": {},
   "source": [
    "We can use the `else` clause to make our `hello` function a little more elegant as well:"
   ]
  },
  {
   "cell_type": "code",
   "execution_count": null,
   "metadata": {},
   "outputs": [],
   "source": [
    "def hello(who):\n",
    "    try:\n",
    "        msg = \"Hello, \" + who\n",
    "    except:\n",
    "        print(\"Exception!\")\n",
    "    else:\n",
    "        print(msg)"
   ]
  },
  {
   "cell_type": "code",
   "execution_count": null,
   "metadata": {},
   "outputs": [],
   "source": [
    "hello(\"World\")"
   ]
  },
  {
   "cell_type": "code",
   "execution_count": null,
   "metadata": {},
   "outputs": [],
   "source": [
    "hello(10)"
   ]
  },
  {
   "cell_type": "markdown",
   "metadata": {},
   "source": [
    "### 4.4. `try`...`except`...`finally`\n",
    "\n",
    "In the previous section we looked at how we can group code that should be run only when there are no exceptions. In some cases however we code that needs to be run no matter what happens, exceptions or none. For this we use the `finally` clause:\n",
    "\n",
    "```python\n",
    "try:\n",
    "    print(x)\n",
    "except:\n",
    "    print(\"Exception\") # x is undefined\n",
    "finally:\n",
    "    print(\"This is printed in the end\")\n",
    "```\n",
    "\n",
    "This is very useful for working with files that always need to be closed in the end. Here is an example of something that we will look at closer later in this course:\n",
    "\n",
    "```python\n",
    "try:\n",
    "    f = open(\"lines.txt\")\n",
    "    lines = f.read()\n",
    "except:\n",
    "    print(\"Exception\")\n",
    "finally:\n",
    "    f.close()\n",
    "```"
   ]
  },
  {
   "cell_type": "markdown",
   "metadata": {},
   "source": [
    "Let's see this in action so we know what to expect. Let's try to print a variable that does not exist. In case of an exception we print an error message, and finally we print something to tell we are done:"
   ]
  },
  {
   "cell_type": "code",
   "execution_count": null,
   "metadata": {},
   "outputs": [],
   "source": [
    "# try updating this code sample to print something that does not cause an\n",
    "# exception to see what happens\n",
    "try:\n",
    "    print(somevariablethatdoesnotexist)\n",
    "except:\n",
    "    print(\"Exception!\")\n",
    "finally:\n",
    "    print(\"done trying!\")"
   ]
  },
  {
   "cell_type": "markdown",
   "metadata": {},
   "source": [
    "### 4.5. Raising your own exceptions\n",
    "\n",
    "Exceptions are raised as to alarm the developer/user that there is no way to guarantee the flow for the rest of the program. Dividing by zero is an undefined behavior, there is no way to predict what happens after it, an exception is therefore raised to notify that special care needs to be taken.\n",
    "\n",
    "We have seen how we can catch exceptions that might be raised, as to guard your program from crashing. But you can also raise exceptions yourself on purpose. This is useful in case you see that there is no way to insure the normal behavior of a function depending on circumstances. If we would return normally, but maybe with an unexcepted value, this can cause problems later in the program that are unwanted or harder to notice.\n",
    "\n",
    "The syntax for raising exception manually is by using the keyword `raise`:\n",
    "\n",
    "```python\n",
    "def nozero(x):\n",
    "    if x == 0:\n",
    "        raise Exception(\"x == 0\")\n",
    "```\n",
    "\n",
    "It is also a good way to enforce that your function is called in the intended way."
   ]
  },
  {
   "cell_type": "markdown",
   "metadata": {},
   "source": [
    "#### Exercise [optional]\n",
    "\n",
    "Try experimenting at home writing a function that raises an exception and then another function that catches it. Also try making a third function (and then maybe even a fourth) which calls the function that raises the exception, and is called itself by the last function. Try to understand how the flow of exceptions are propagated and how you can intercept them."
   ]
  },
  {
   "cell_type": "code",
   "execution_count": null,
   "metadata": {},
   "outputs": [],
   "source": [
    "def raiseException():\n",
    "    # raise an exception\n",
    "    pass\n",
    "\n",
    "# try also with an intermediate function `interException` that calls raiseException\n",
    "# and is then called by catchException\n",
    "\n",
    "def catchException():\n",
    "    # call raiseException() and catch it\n",
    "    pass\n",
    "\n",
    "catchException()"
   ]
  },
  {
   "cell_type": "markdown",
   "metadata": {},
   "source": [
    "### 4.6 Warning about exceptions\n",
    "\n",
    "**BIG NO**\n",
    "```python\n",
    "def main():\n",
    "    # some scary code that might raise an exception\n",
    "    # ...\n",
    "    return x\n",
    "\n",
    "try:\n",
    "    main()\n",
    "except:\n",
    "    print(\"Well that didn't work...\")\n",
    "```\n",
    "\n",
    "No matter how tempting please never embed all your code within a `try`...`except` block just to make sure it will not crash. It makes it very cumbersome to debug later. Exceptions are there for a reason and their purpose is to make sure you write robust code that works as intended with the correct data."
   ]
  }
 ],
 "metadata": {
  "kernelspec": {
   "display_name": "Python 3",
   "language": "python",
   "name": "python3"
  },
  "language_info": {
   "codemirror_mode": {
    "name": "ipython",
    "version": 3
   },
   "file_extension": ".py",
   "mimetype": "text/x-python",
   "name": "python",
   "nbconvert_exporter": "python",
   "pygments_lexer": "ipython3",
   "version": "3.7.2"
  }
 },
 "nbformat": 4,
 "nbformat_minor": 2
}
