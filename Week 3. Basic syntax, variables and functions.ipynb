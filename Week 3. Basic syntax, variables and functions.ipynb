{
 "cells": [
  {
   "cell_type": "markdown",
   "metadata": {},
   "source": [
    "# Week 3: Basic syntax, variables and functions\n",
    "\n",
    "This week we introduce the basics of Python syntax, variables and functions.\n",
    "\n",
    "We will start with an overview over the syntax of Python and what makes it different from other languages. Next we will look at variables in Python. Last we will look into functions and functions scopes as to understand how they work and what variables are visible in and outside a function.\n",
    "\n",
    "At the end of this class you will be able to:\n",
    "   * Read basic Python code, identifying statements as to understand the flow of a script.\n",
    "   * Understand variable types, assignment and operators.\n",
    "   * Write your own functions.\n",
    "   * Understand functions scopes.\n",
    "   \n",
    "We will be using Jupyter Notebooks for this course, but there will be a short introduction to the Python command line environment and how to run Python scripts from the terminal of the end of this class."
   ]
  },
  {
   "cell_type": "markdown",
   "metadata": {},
   "source": [
    "## 1. Basic syntax\n",
    "\n",
    "### 1.1 Indentation instead of parenthesis\n",
    "\n",
    "Consider the following example written in C:\n",
    "```c\n",
    "void foo (int x)\n",
    "{\n",
    "    for (int i = 0; i < 10; i++)\n",
    "    {\n",
    "        x = x + 1;\n",
    "        printf(\"%d\\n\", x);\n",
    "    }   \n",
    "    return x;\n",
    "}\n",
    "foo(5);\n",
    "```\n",
    "\n",
    "Which can be re-written in Python as:\n",
    "```python\n",
    "def foo(x):\n",
    "    for i in range(0, 10):\n",
    "        x = x + 1\n",
    "        print(x)\n",
    "    return x\n",
    "foo(5)\n",
    "```\n",
    "\n",
    "We can see that different blocks (functions, loops, etc...) are indented, instead of how some languages use curly brackets `{}`. Also observe the `:` which is suffixed at each line before a new indented block.\n",
    "\n",
    "**NOTE** : Even though you may choose between tabs vs spaces, and the number of spaces, to your liking the Python standard defines correct indentation to be **four spaces**.\n",
    "\n",
    "Another remark we can do is that semicolons (`;`) are **optional** in Python, but discouraged (Do not take the habit of writting them in the end of lines).\n",
    "\n",
    "\n",
    "### 1.2 Comments\n",
    "\n",
    "One-line comments are prefixed with the `#` character.\n",
    "```python\n",
    "# this is a comment\n",
    "foo = \"Hello, World!\"\n",
    "foo = \"Hello, 世界\" # here is a comment that starts at the end\n",
    "```\n",
    "\n",
    "Python does not officially support multiline, however common practice is to use multiline strings do such. Multiline are enclosed within `\"\"\"` or `'''`:\n",
    "```python\n",
    "foo = \"Hello, World!\"\n",
    "\n",
    "\"\"\"\n",
    "This is a mutliline string that acts as a comment.\n",
    "And this is the second line of this comment.\n",
    "\"\"\"\n",
    "\n",
    "foo = \"Hello, 世界\"\n",
    "```"
   ]
  },
  {
   "cell_type": "markdown",
   "metadata": {},
   "source": [
    "## 2. Variables\n",
    "\n",
    "There are five primitive types in Python: `int`, `float`, `str`, `bool` and `None`. \n",
    "\n",
    "\n",
    "### 2.1 Dynamic typed\n",
    "\n",
    "Compared to languages such as C where variables are statically typed, in Python variables are dynamically typed meaning that a variable can be assigned to value with a new type after being created. The following examples shows how we can create a variable `foo` that is first an `int` type and later assigned values of type `str`, `bool` and `NoneType`."
   ]
  },
  {
   "cell_type": "code",
   "execution_count": null,
   "metadata": {},
   "outputs": [],
   "source": [
    "foo = 10\n",
    "print(foo, type(foo))\n",
    "\n",
    "foo = 'Hello, World!'\n",
    "print(foo, type(foo))\n",
    "\n",
    "foo = False\n",
    "print(foo, type(foo))\n",
    "\n",
    "foo = None\n",
    "print(foo, type(foo))"
   ]
  },
  {
   "cell_type": "markdown",
   "metadata": {},
   "source": [
    "### 2.2 Arithmetic operators\n",
    "\n",
    "| Operator   | Name                   |\n",
    "| ---------- |:---------------------- |\n",
    "| +          | addition               |\n",
    "| -          | substraction           |\n",
    "| *          | multiplication         |\n",
    "| /          | division               |\n",
    "| %          | modulus                |\n",
    "| **         | exponentiation         |\n",
    "| //         | floor division         |"
   ]
  },
  {
   "cell_type": "code",
   "execution_count": null,
   "metadata": {},
   "outputs": [],
   "source": [
    "# some quick examples to show the operators in action\n",
    "\n",
    "print(10 + 3)  # addition\n",
    "print(10 - 3)  # subtraction\n",
    "print(10 * 3)  # multiplication\n",
    "print(10 / 3)  # division\n",
    "print(10 % 3)  # modulus\n",
    "print(10 ** 3) # exponentiation\n",
    "print(10 // 3) # floor division"
   ]
  },
  {
   "cell_type": "markdown",
   "metadata": {},
   "source": [
    "Everything in the above example is quite straightforward. One note can be made though, which is that division between integers returns a float. Other languages default this behavior to the floor division (`//`) which returns the rounded down integer value of the division."
   ]
  },
  {
   "cell_type": "markdown",
   "metadata": {},
   "source": [
    "### 2.3 Assignment operators\n",
    "\n",
    "| Operator | Example | Equal to |\n",
    "| -------- | ------- | ------- |\n",
    "| = | x = 1 | x = 1 |\n",
    "| += | x += 1 | x = x + 1 |\n",
    "| -= | x -= 1 | x = x - 1 |\n",
    "| /= | x /= 2 | x = x / 2 |\n",
    "| //= | x //= 3 | x = x // 3 |\n",
    "| \\*= | x \\*= 2 | x = x * 2 |\n",
    "| \\*\\*= | x \\*\\*= 2 | x = x ** 2 |"
   ]
  },
  {
   "cell_type": "code",
   "execution_count": null,
   "metadata": {},
   "outputs": [],
   "source": [
    "# some quick examples to show assignment operators\n",
    "\n",
    "x = 1 # normal assignment\n",
    "print(x)\n",
    "\n",
    "x += 5 # addition with assignment\n",
    "print(x)\n",
    "\n",
    "x -= 1 # subtraction with assignment\n",
    "print(x)\n",
    "\n",
    "x *= 2 # multiplication with assignment\n",
    "print(x)\n",
    "\n",
    "x **= 2 # exponentiation with assignment\n",
    "print(x)"
   ]
  },
  {
   "cell_type": "markdown",
   "metadata": {},
   "source": [
    "### 2.4 Strings\n",
    "\n",
    "The only of the arithmetic operators that work with strings is the addition `+` operator which concatenate strings."
   ]
  },
  {
   "cell_type": "code",
   "execution_count": null,
   "metadata": {},
   "outputs": [],
   "source": [
    "\"Hello, \" + \"World!\""
   ]
  },
  {
   "cell_type": "code",
   "execution_count": null,
   "metadata": {},
   "outputs": [],
   "source": [
    "msg = \"Hello, \"\n",
    "msg += \"World!\"\n",
    "print(msg)"
   ]
  },
  {
   "cell_type": "markdown",
   "metadata": {},
   "source": [
    "A lot of programming languages define strings as lists of characters. Python is no different really, however there is no `char` type as in C, you can therefore see it more as a list of substrings. You can perform some basic list manipulation operations on them but these will be covered later in a later class when we look more into arrays and lists."
   ]
  },
  {
   "cell_type": "markdown",
   "metadata": {},
   "source": [
    "## 3. Functions\n",
    "\n",
    "### 3.1 Basic definition\n",
    "\n",
    "To define a new function we use the `def` keyword followed by a name for our function. As mentioned in the section about indentation there are no curly brackets (`{}`) or similar to enclose the function, instead the inner block of the function is indented once. For example a function that prints \"Hello, World!\" to the standard output can look as following:"
   ]
  },
  {
   "cell_type": "code",
   "execution_count": null,
   "metadata": {},
   "outputs": [],
   "source": [
    "def hello():\n",
    "    print(\"Hello, World!\")"
   ]
  },
  {
   "cell_type": "markdown",
   "metadata": {},
   "source": [
    "Calling functions in Python has the same syntax as most other programming languages including C:"
   ]
  },
  {
   "cell_type": "code",
   "execution_count": null,
   "metadata": {},
   "outputs": [],
   "source": [
    "hello()"
   ]
  },
  {
   "cell_type": "markdown",
   "metadata": {},
   "source": [
    "### 3.2 Input parameters\n",
    "\n",
    "Our example in the previous section does not take any input arguments (note there is nothing between parenthesis). Python uses similar syntax to C where we just need to write the variable names of the input parameters as a comma separated list, without being prefixed by the variable types, within the parenthesis that follow the function name. \n",
    "\n",
    "Let's modify the previous function as to take an input parameter and print \"Hello, \" followed by the value of the input parameter:"
   ]
  },
  {
   "cell_type": "code",
   "execution_count": null,
   "metadata": {},
   "outputs": [],
   "source": [
    "def hello(who):\n",
    "    msg = \"Hello, \" + who\n",
    "    print(msg)"
   ]
  },
  {
   "cell_type": "markdown",
   "metadata": {},
   "source": [
    "When calling the function we can use a constant:"
   ]
  },
  {
   "cell_type": "code",
   "execution_count": null,
   "metadata": {},
   "outputs": [],
   "source": [
    "hello(\"World\")"
   ]
  },
  {
   "cell_type": "markdown",
   "metadata": {},
   "source": [
    "We can also create a variable that we use as input:"
   ]
  },
  {
   "cell_type": "code",
   "execution_count": null,
   "metadata": {},
   "outputs": [],
   "source": [
    "what = \"World\"\n",
    "hello(what)"
   ]
  },
  {
   "cell_type": "markdown",
   "metadata": {},
   "source": [
    "Let's just also see a quick example of a function that takes several input parameters."
   ]
  },
  {
   "cell_type": "code",
   "execution_count": null,
   "metadata": {},
   "outputs": [],
   "source": [
    "# adds the two input parameters and prints the result\n",
    "def add(x, y):\n",
    "    result = x + y\n",
    "    print(result)"
   ]
  },
  {
   "cell_type": "code",
   "execution_count": null,
   "metadata": {},
   "outputs": [],
   "source": [
    "add(10, 5)"
   ]
  },
  {
   "cell_type": "markdown",
   "metadata": {},
   "source": [
    "**NOTE**\n",
    "\n",
    "Because of dynamic typing we have not declared what type we expect the input parameter to be in our functions, which in the case of the `hello` function needs to be of `str` class or it will break the program."
   ]
  },
  {
   "cell_type": "code",
   "execution_count": null,
   "metadata": {},
   "outputs": [],
   "source": [
    "hello(10)"
   ]
  },
  {
   "cell_type": "markdown",
   "metadata": {},
   "source": [
    "There is a lot of information in the above error output, but what you need to look at now is basically only the last line `TypeError: can only concatenate str (not \"int\") to str` which tells us that we can not concatenate an integer to a string.\n",
    "\n",
    "It is up to you how you want to handle this. You might want the program to break when calling with incorrect type values and enforce correct conversion before calling the function. Or you might want to be able to handle this in the function itself so you can call with different value types.\n",
    "\n",
    "Ways of dealing with the problems will be explained in more detail next week."
   ]
  },
  {
   "cell_type": "markdown",
   "metadata": {},
   "source": [
    "#### Default values\n",
    "\n",
    "Python supports default values to input parameter which allows when calling the function to omit the parameter in all. This is done by making an assignment to the parameter in the declaration of the function, such as\n",
    "```python\n",
    "def hello(who=\"World\"):\n",
    "    msg = \"Hello, \" + who\n",
    "    print(msg)\n",
    "    \n",
    "hello() # prints \"Hello, World\" to screen\n",
    "```\n",
    "\n",
    "Below we re-implement the `add` function from earlier to by default add 10 in case we do not give a second parameter"
   ]
  },
  {
   "cell_type": "code",
   "execution_count": null,
   "metadata": {},
   "outputs": [],
   "source": [
    "def add(x, y=10):\n",
    "    x += y\n",
    "    return x"
   ]
  },
  {
   "cell_type": "code",
   "execution_count": null,
   "metadata": {},
   "outputs": [],
   "source": [
    "add(10)"
   ]
  },
  {
   "cell_type": "code",
   "execution_count": null,
   "metadata": {},
   "outputs": [],
   "source": [
    "add(10, 5)"
   ]
  },
  {
   "cell_type": "markdown",
   "metadata": {},
   "source": [
    "### 3.3 Return values\n",
    "\n",
    "As most programming languages Python uses the `return` keyword for defining return statements. Following is an example of a function that just returns the `int` value `10`.\n",
    "\n",
    "```python\n",
    "def foo():\n",
    "    return 10\n",
    "ten = foo()\n",
    "```\n",
    "\n",
    "As opposed to some languages, Python is not constrained to only one return value but can return several values if needed through a comma separated list.\n",
    "\n",
    "```python\n",
    "def foo():\n",
    "    return 10, 20\n",
    "ten, twenty = foo()\n",
    "```"
   ]
  },
  {
   "cell_type": "markdown",
   "metadata": {},
   "source": [
    "### Exercises\n",
    "\n",
    "Now you have seen how to define functions and their input as well as return values. In this first exercise we will create a very simple function that takes an input parameter and adds 10 to it before **returning** the result."
   ]
  },
  {
   "cell_type": "code",
   "execution_count": null,
   "metadata": {},
   "outputs": [],
   "source": [
    "def add10():\n",
    "    # your code here\n",
    "    pass"
   ]
  },
  {
   "cell_type": "code",
   "execution_count": null,
   "metadata": {},
   "outputs": [],
   "source": [
    "add10(10)"
   ]
  },
  {
   "cell_type": "markdown",
   "metadata": {},
   "source": [
    "Now re-write the function to add 10 to input parameter but that returns the input parameter before addition, and also the value after addition (two return values)."
   ]
  },
  {
   "cell_type": "code",
   "execution_count": null,
   "metadata": {},
   "outputs": [],
   "source": [
    "# your function for add10 that returns the before and after values"
   ]
  },
  {
   "cell_type": "code",
   "execution_count": null,
   "metadata": {},
   "outputs": [],
   "source": [
    "before, after = add10(10)\n",
    "print(before, after)"
   ]
  },
  {
   "cell_type": "markdown",
   "metadata": {},
   "source": [
    "### 3.5 Casting\n",
    "\n",
    "Now that we have taken a quick look into functions we will introduce variable casting. The types that we introduced before `str`, `float`, `int` and `bool` (excluding `NoneType`) can be used as a function to cast (convert) a variable from a certain type into another. "
   ]
  },
  {
   "cell_type": "code",
   "execution_count": null,
   "metadata": {},
   "outputs": [],
   "source": [
    "x = float(\"3.2\")\n",
    "print(x, type(x))\n",
    "\n",
    "x = int(3.2)\n",
    "print(x, type(x))"
   ]
  },
  {
   "cell_type": "markdown",
   "metadata": {},
   "source": [
    "### Exercises\n",
    "\n",
    "Next we will try to expand the hello function that we defined earlier to handle all value types.\n",
    "\n",
    "Remember that if we tried to call the function with any value of other type than str the program crashes because we are trying to concatenate with the a string.\n",
    "\n",
    "Now re-write the `hello` function using the `str` function to convert the input parameter to its string representation making sure the program does not crash when following cell is called."
   ]
  },
  {
   "cell_type": "code",
   "execution_count": null,
   "metadata": {},
   "outputs": [],
   "source": [
    "# write a function named \"hello\" that handles other input types than strings through casting"
   ]
  },
  {
   "cell_type": "code",
   "execution_count": null,
   "metadata": {},
   "outputs": [],
   "source": [
    "hello(10)"
   ]
  },
  {
   "cell_type": "markdown",
   "metadata": {},
   "source": [
    "### 3.3 Inner functions\n",
    "\n",
    "In Python it is possible to define functions within functions. This is useful when you need to perform a task that is better summarized in a function but might make more sense to keep within an outter larger function.\n",
    "\n",
    "Considering the following example where we perform a mathematical function on three different values and then return the summary of the three:\n",
    "\n",
    "```python\n",
    "def foo():\n",
    "    x = 10 * 10 + 6\n",
    "    y = 10 * 9 + 6\n",
    "    z = 10 * 8 + 6\n",
    "    return x + y + z\n",
    "```\n",
    "\n",
    "Following we instead define an inner function `foo_` that performs the mathematical function on an input value. The function `foo` then summarizes the output values of this function for three different values.\n",
    "\n",
    "```python\n",
    "def foo():\n",
    "    def foo_(x):\n",
    "        return 10 * x + 6\n",
    "    return foo_(10) + foo_(9) + foo_(8)\n",
    "```"
   ]
  },
  {
   "cell_type": "markdown",
   "metadata": {},
   "source": [
    "### Exercise\n",
    "\n",
    "Re-write the following function using an inner function"
   ]
  },
  {
   "cell_type": "code",
   "execution_count": null,
   "metadata": {},
   "outputs": [],
   "source": [
    "def func(x):\n",
    "    x += 3.5\n",
    "    print(\"x = \", x)\n",
    "\n",
    "    x += 4.1\n",
    "    print(\"x = \", x)\n",
    "    \n",
    "    x += 2\n",
    "    print(\"x = \", x)"
   ]
  },
  {
   "cell_type": "code",
   "execution_count": null,
   "metadata": {},
   "outputs": [],
   "source": [
    "func(10)"
   ]
  },
  {
   "cell_type": "code",
   "execution_count": null,
   "metadata": {},
   "outputs": [],
   "source": [
    "# re-write the previous function using inner functions"
   ]
  },
  {
   "cell_type": "code",
   "execution_count": null,
   "metadata": {},
   "outputs": [],
   "source": [
    "func(10)"
   ]
  },
  {
   "cell_type": "markdown",
   "metadata": {},
   "source": [
    "## 4 Function scopes\n",
    "\n",
    "Function scopes define what variables are *visible* to a function."
   ]
  },
  {
   "cell_type": "markdown",
   "metadata": {},
   "source": [
    "### 4.1 Global scope\n",
    "\n",
    "The global scope defines what is common to all functions. One way of seeing this is by looking at what has zero indentation.\n",
    "\n",
    "```python\n",
    "x = 10\n",
    "def foo():\n",
    "    print(x)\n",
    "foo()\n",
    "```\n",
    "\n",
    "As we can see we do not need to send x as an input parameter because it is visible from the global scope. Every function has its own scope and inherits from its parents all the way to the root which is the global scope.\n",
    "\n",
    "The inheritance only works one way: from parent to children. This means if a variable is defined in a function it is no longer visible in the global scope. The following example would throw an error:\n",
    "\n",
    "```python\n",
    "x = 10\n",
    "def foo():\n",
    "    y = 5\n",
    "    print(x, y)\n",
    "foo()\n",
    "print(y) # ERROR: y is undefined here\n",
    "```\n",
    "\n",
    "Modifying variables in the global scope is a special case. The first example showed that there was no trouble to read it but what happens when we try to modify it?"
   ]
  },
  {
   "cell_type": "code",
   "execution_count": null,
   "metadata": {},
   "outputs": [],
   "source": [
    "x = 10\n",
    "def foo():\n",
    "    x = 15\n",
    "    print(x)\n",
    "foo()\n",
    "print(x)"
   ]
  },
  {
   "cell_type": "markdown",
   "metadata": {},
   "source": [
    "As we can see in the above example, any modification we do to the `x` variable within the function `foo` is only temporary, `x` is unchanged in the global scope. This is because a copy is given to the function to work with. If we want to modify the value of `x` in the global scope we need to declare in the function that we want a reference to the variable using the `global` keyword."
   ]
  },
  {
   "cell_type": "code",
   "execution_count": null,
   "metadata": {},
   "outputs": [],
   "source": [
    "x = 10\n",
    "def foo():\n",
    "    global x\n",
    "    x = 15\n",
    "    print(x)\n",
    "foo()\n",
    "print(x)"
   ]
  },
  {
   "cell_type": "markdown",
   "metadata": {},
   "source": [
    "Like for almost all languages it is ill advised to use global variables, and Python is no exception. You now know how to use global variables and modify them, but try to avoid it."
   ]
  },
  {
   "cell_type": "markdown",
   "metadata": {},
   "source": [
    "### 4.2 Inner functions\n",
    "\n",
    "As we mentioned, functions inherit their scope from their parents. For inner functions this means they inherit from the function they are defined within. Notice how the below function has access to both the `x` variables and `y`."
   ]
  },
  {
   "cell_type": "code",
   "execution_count": null,
   "metadata": {},
   "outputs": [],
   "source": [
    "x = 10\n",
    "def foo():\n",
    "    y = 5\n",
    "    def foo_():\n",
    "        print(x, y)\n",
    "    foo_()\n",
    "foo()"
   ]
  },
  {
   "cell_type": "markdown",
   "metadata": {},
   "source": [
    "And there is no need to define `y` before the inner function `foo_`, its value is checked when `foo_` is being called."
   ]
  },
  {
   "cell_type": "code",
   "execution_count": null,
   "metadata": {},
   "outputs": [],
   "source": [
    "x = 10\n",
    "def foo():\n",
    "    def foo_():\n",
    "        print(x, y)\n",
    "    y = 5\n",
    "    foo_()\n",
    "foo()"
   ]
  },
  {
   "cell_type": "markdown",
   "metadata": {},
   "source": [
    "We can however obviously not call the function before assigning the value `y`."
   ]
  },
  {
   "cell_type": "code",
   "execution_count": null,
   "metadata": {},
   "outputs": [],
   "source": [
    "x = 10\n",
    "def foo():\n",
    "    def foo_():\n",
    "        print(x, y)\n",
    "    foo_()\n",
    "    y = 5\n",
    "foo()"
   ]
  },
  {
   "cell_type": "markdown",
   "metadata": {},
   "source": [
    "Just as with the global scope we can not modify variables directly within inner functions. Instead of the `global` keyword, for inner functions we use the `nonlocal` keyword."
   ]
  },
  {
   "cell_type": "code",
   "execution_count": null,
   "metadata": {},
   "outputs": [],
   "source": [
    "# in this example x will not be modified\n",
    "def foo():\n",
    "    def foo_():\n",
    "        x = 10\n",
    "    x = 5\n",
    "    foo_()\n",
    "    print(x)\n",
    "foo()"
   ]
  },
  {
   "cell_type": "code",
   "execution_count": null,
   "metadata": {},
   "outputs": [],
   "source": [
    "# using the \"nonlocal\" keyword we can modify x\n",
    "def foo():\n",
    "    x = 5\n",
    "    def foo_():\n",
    "        nonlocal x\n",
    "        x = 10\n",
    "    foo_()\n",
    "    print(x)\n",
    "foo()"
   ]
  },
  {
   "cell_type": "markdown",
   "metadata": {},
   "source": [
    "Just as with modifying the global scope, modifying the parent one is not always optimal. Recommended is to define functions with return values that are used to modify variables in the correct scope."
   ]
  },
  {
   "cell_type": "markdown",
   "metadata": {},
   "source": [
    "### Exercises"
   ]
  },
  {
   "cell_type": "markdown",
   "metadata": {},
   "source": [
    "First re-write the previous function `foo` where we want to change the value of `x` from 5 to 10 using an inner function and without using the `nonlocal` keyword"
   ]
  },
  {
   "cell_type": "code",
   "execution_count": null,
   "metadata": {},
   "outputs": [],
   "source": [
    "# your code here"
   ]
  },
  {
   "cell_type": "markdown",
   "metadata": {},
   "source": [
    "Next we have a script that will not run. Please modify it so it works as expected."
   ]
  },
  {
   "cell_type": "code",
   "execution_count": null,
   "metadata": {},
   "outputs": [],
   "source": [
    "def outter():\n",
    "    def inner(y):\n",
    "        z = x * 2\n",
    "        z //= y\n",
    "        return z\n",
    "    v = inner(7)\n",
    "    return v\n",
    "\n",
    "outter()\n",
    "x = 10"
   ]
  },
  {
   "cell_type": "markdown",
   "metadata": {},
   "source": [
    "Pretty much the same as the previous but a little harder. Solve it without modifying the existing lines in `inner`."
   ]
  },
  {
   "cell_type": "code",
   "execution_count": null,
   "metadata": {},
   "outputs": [],
   "source": [
    "def outter():\n",
    "    def inner(y):\n",
    "        x *= 2\n",
    "        x //= y\n",
    "        return x\n",
    "    v = inner(7)\n",
    "    return v\n",
    "\n",
    "outter()\n",
    "x = 10"
   ]
  }
 ],
 "metadata": {
  "kernelspec": {
   "display_name": "Python 3",
   "language": "python",
   "name": "python3"
  },
  "language_info": {
   "codemirror_mode": {
    "name": "ipython",
    "version": 3
   },
   "file_extension": ".py",
   "mimetype": "text/x-python",
   "name": "python",
   "nbconvert_exporter": "python",
   "pygments_lexer": "ipython3",
   "version": "3.7.2"
  }
 },
 "nbformat": 4,
 "nbformat_minor": 2
}
