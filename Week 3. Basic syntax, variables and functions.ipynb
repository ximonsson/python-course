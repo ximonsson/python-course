{
 "cells": [
  {
   "cell_type": "markdown",
   "metadata": {},
   "source": [
    "# Week 3\n",
    "\n",
    "This week we introduce the basics of Python syntax, variables and functions."
   ]
  },
  {
   "cell_type": "markdown",
   "metadata": {},
   "source": [
    "## 1. Basic syntax\n",
    "\n",
    "### 1.1 Indentation instead of parenthesis\n",
    "\n",
    "```python\n",
    "def foo(x):\n",
    "    for i in range(1..10):\n",
    "        x = x + 1\n",
    "        print(x)\n",
    "    return x\n",
    "foo(5)\n",
    "```\n",
    "\n",
    "In the above example shows a minimal python function. We can see that different blocks (functions, loops, etc...) are indented, instead of how some languages use the `}`.\n",
    "\n",
    "NOTE: even though you may choose between tabs vs spaces, and the number of spaces, to your liking the Python standard defines correct indentation to be **four spaces**.\n",
    "\n",
    "\n",
    "\n",
    "### 1.2 Comments\n",
    "\n",
    "One-line comments are prefixed with the `#` character.\n",
    "```python\n",
    "# this is a comment\n",
    "foo = \"Hello, World!\"\n",
    "foo = \"Hello, 世界\" # here is a comment that starts at the end\n",
    "```\n",
    "\n",
    "Python does not officially support multiline, however common practice is to use multiline strings do such. Multiline are enclosed within `\"\"\"` or `'''`:\n",
    "```python\n",
    "foo = \"Hello, World!\"\n",
    "\n",
    "\"\"\"\n",
    "This is a mutliline string that acts as a comment.\n",
    "\"\"\"\n",
    "\n",
    "foo = \"Hello, 世界\"\n",
    "```"
   ]
  },
  {
   "cell_type": "markdown",
   "metadata": {},
   "source": [
    "## 2. Variables\n",
    "\n",
    "There are five primitive types in Python: `int`, `float`, `str`, `bool` and `None`. \n",
    "\n",
    "\n",
    "### 2.1 Dynamic typed\n",
    "\n",
    "Compared to languages such as C where variables are statically typed, in Python variables are dynamically typed meaning that a variable can be assigned to value with a new type after being created. The following examples shows how we can create a variable `foo` that is first an `int` type and later assigned values of type `str`, `bool` and `NoneType`."
   ]
  },
  {
   "cell_type": "code",
   "execution_count": 7,
   "metadata": {},
   "outputs": [
    {
     "name": "stdout",
     "output_type": "stream",
     "text": [
      "10 <class 'int'>\n",
      "Hello, World! <class 'str'>\n",
      "False <class 'bool'>\n",
      "None <class 'NoneType'>\n"
     ]
    }
   ],
   "source": [
    "foo = 10\n",
    "print(foo, type(foo))\n",
    "\n",
    "foo = 'Hello, World!'\n",
    "print(foo, type(foo))\n",
    "\n",
    "foo = False\n",
    "print(foo, type(foo))\n",
    "\n",
    "foo = None\n",
    "print(foo, type(foo))"
   ]
  },
  {
   "cell_type": "markdown",
   "metadata": {},
   "source": [
    "### 2.2 Reference vs copy\n"
   ]
  },
  {
   "cell_type": "code",
   "execution_count": 10,
   "metadata": {},
   "outputs": [
    {
     "name": "stdout",
     "output_type": "stream",
     "text": [
      "10 10\n",
      "10 5\n"
     ]
    }
   ],
   "source": [
    "# create a variable foo of type int and create a new variable bar \n",
    "# which is assigned to the value of foo\n",
    "foo = 10\n",
    "bar = foo\n",
    "print(foo, bar)\n",
    "\n",
    "# now we assign bar to a new value\n",
    "bar = 5\n",
    "print(foo, bar)"
   ]
  },
  {
   "cell_type": "code",
   "execution_count": 12,
   "metadata": {},
   "outputs": [
    {
     "name": "stdout",
     "output_type": "stream",
     "text": [
      "Hello, World! Hello, World!\n",
      "Hello, World! Hello, class!\n"
     ]
    }
   ],
   "source": [
    "foo = \"Hello, World!\"\n",
    "bar = foo\n",
    "print(foo, bar)\n",
    "\n",
    "bar = \"Hello, class!\"\n",
    "print(foo, bar)"
   ]
  },
  {
   "cell_type": "markdown",
   "metadata": {},
   "source": [
    "## 3. Functions\n",
    "\n",
    "### 3.1 Basic definition\n",
    "\n",
    "To define a new function we use the `def` keyword followed by a name for our function. As mentioned in the section about indentation there are no curly brackets (`}`) or similar to enclose the function, instead the inner block of the function is indented once. For example a function that prints \"Hello, World!\" to the standard output can look as following:"
   ]
  },
  {
   "cell_type": "code",
   "execution_count": 14,
   "metadata": {},
   "outputs": [],
   "source": [
    "def hello():\n",
    "    print(\"Hello, World!\")"
   ]
  },
  {
   "cell_type": "markdown",
   "metadata": {},
   "source": [
    "Calling functions in Python has the same syntax as most other programming languages including C:"
   ]
  },
  {
   "cell_type": "code",
   "execution_count": 15,
   "metadata": {},
   "outputs": [
    {
     "name": "stdout",
     "output_type": "stream",
     "text": [
      "Hello, World!\n"
     ]
    }
   ],
   "source": [
    "hello()"
   ]
  },
  {
   "cell_type": "markdown",
   "metadata": {},
   "source": [
    "### 3.2 Input parameters\n",
    "\n",
    "Our example in the previous section does not take any input arguments (note there is nothing between parenthesis). Python uses the same syntax as C where we just need to write the variable names of the input parameters within the parenthesis that follow the function name. \n",
    "\n",
    "Let's modify the previous function as to take an input parameter and print \"Hello, \" followed by the value of the input parameter:"
   ]
  },
  {
   "cell_type": "code",
   "execution_count": 16,
   "metadata": {},
   "outputs": [],
   "source": [
    "def hello(what):\n",
    "    msg = \"Hello, \" + what\n",
    "    print(msg)"
   ]
  },
  {
   "cell_type": "markdown",
   "metadata": {},
   "source": [
    "When calling the function we can use a constant:"
   ]
  },
  {
   "cell_type": "code",
   "execution_count": 17,
   "metadata": {},
   "outputs": [
    {
     "name": "stdout",
     "output_type": "stream",
     "text": [
      "Hello, World\n"
     ]
    }
   ],
   "source": [
    "hello(\"World\")"
   ]
  },
  {
   "cell_type": "markdown",
   "metadata": {},
   "source": [
    "We can also create a variable that we use as input:"
   ]
  },
  {
   "cell_type": "code",
   "execution_count": 18,
   "metadata": {},
   "outputs": [
    {
     "name": "stdout",
     "output_type": "stream",
     "text": [
      "Hello, World\n"
     ]
    }
   ],
   "source": [
    "what = \"World\"\n",
    "hello(what)"
   ]
  },
  {
   "cell_type": "markdown",
   "metadata": {},
   "source": [
    "**NOTE**\n",
    "\n",
    "Because of dynamic typing we have not declared what type we expect the input parameter to be in our function, which in our case needs to be of `str` class or it will break the program."
   ]
  },
  {
   "cell_type": "code",
   "execution_count": 19,
   "metadata": {},
   "outputs": [
    {
     "ename": "TypeError",
     "evalue": "can only concatenate str (not \"int\") to str",
     "output_type": "error",
     "traceback": [
      "\u001b[0;31m---------------------------------------------------------------------------\u001b[0m",
      "\u001b[0;31mTypeError\u001b[0m                                 Traceback (most recent call last)",
      "\u001b[0;32m<ipython-input-19-d79f43a62825>\u001b[0m in \u001b[0;36m<module>\u001b[0;34m\u001b[0m\n\u001b[0;32m----> 1\u001b[0;31m \u001b[0mhello\u001b[0m\u001b[0;34m(\u001b[0m\u001b[0;36m10\u001b[0m\u001b[0;34m)\u001b[0m\u001b[0;34m\u001b[0m\u001b[0;34m\u001b[0m\u001b[0m\n\u001b[0m",
      "\u001b[0;32m<ipython-input-16-db1540b3a382>\u001b[0m in \u001b[0;36mhello\u001b[0;34m(what)\u001b[0m\n\u001b[1;32m      1\u001b[0m \u001b[0;32mdef\u001b[0m \u001b[0mhello\u001b[0m\u001b[0;34m(\u001b[0m\u001b[0mwhat\u001b[0m\u001b[0;34m)\u001b[0m\u001b[0;34m:\u001b[0m\u001b[0;34m\u001b[0m\u001b[0;34m\u001b[0m\u001b[0m\n\u001b[0;32m----> 2\u001b[0;31m     \u001b[0mmsg\u001b[0m \u001b[0;34m=\u001b[0m \u001b[0;34m\"Hello, \"\u001b[0m \u001b[0;34m+\u001b[0m \u001b[0mwhat\u001b[0m\u001b[0;34m\u001b[0m\u001b[0;34m\u001b[0m\u001b[0m\n\u001b[0m\u001b[1;32m      3\u001b[0m     \u001b[0mprint\u001b[0m\u001b[0;34m(\u001b[0m\u001b[0mmsg\u001b[0m\u001b[0;34m)\u001b[0m\u001b[0;34m\u001b[0m\u001b[0;34m\u001b[0m\u001b[0m\n",
      "\u001b[0;31mTypeError\u001b[0m: can only concatenate str (not \"int\") to str"
     ]
    }
   ],
   "source": [
    "hello(10)"
   ]
  },
  {
   "cell_type": "markdown",
   "metadata": {},
   "source": [
    "It is up to you how you want to handle this. You might want the program to break when calling with incorrect type values and enforce correct conversion before calling the function. Or you might want to be able to handle this in the function itself so you can call with different value types.\n",
    "\n",
    "Ways of dealing with the problems will be explained in more detail next week."
   ]
  },
  {
   "cell_type": "markdown",
   "metadata": {},
   "source": [
    "### 3.3 Return values\n",
    "\n",
    "As most programming languages Python uses the `return` keyword for defining return statements. Following is an example of a function that just returns the `int` value `10`.\n",
    "\n",
    "```python\n",
    "def foo():\n",
    "    return 10\n",
    "ten = foo()\n",
    "```\n",
    "\n",
    "As opposed to some languages, Python is not constrained to only one return value but can return several values if needed through a comma separated list.\n",
    "\n",
    "```python\n",
    "def foo():\n",
    "    return 10, 20\n",
    "ten, twenty = foo()\n",
    "```"
   ]
  },
  {
   "cell_type": "markdown",
   "metadata": {},
   "source": [
    "## Exercises\n",
    "\n",
    "Now you have seen how to define functions and their input as well as return values. In this first exercise we will create a very simple function that takes an input parameter and adds 10 to it before returning the result."
   ]
  },
  {
   "cell_type": "code",
   "execution_count": 21,
   "metadata": {},
   "outputs": [],
   "source": [
    "def add10():\n",
    "    # your code here"
   ]
  },
  {
   "cell_type": "code",
   "execution_count": null,
   "metadata": {},
   "outputs": [],
   "source": [
    "add(10)"
   ]
  },
  {
   "cell_type": "markdown",
   "metadata": {},
   "source": [
    "Next we will try to expand the `hello` function that we defined earlier to handle all value types.\n",
    "\n",
    "Remember that if we tried to call the function with any value of other type than `str` the program crashes because we are trying to concatenate with the a string. Python has a builtin function called `str` that converts a value of different type to its string representation."
   ]
  },
  {
   "cell_type": "code",
   "execution_count": 30,
   "metadata": {},
   "outputs": [
    {
     "name": "stdout",
     "output_type": "stream",
     "text": [
      "10 <class 'str'>\n"
     ]
    }
   ],
   "source": [
    "x = str(10)\n",
    "print(x, type(x))"
   ]
  },
  {
   "cell_type": "markdown",
   "metadata": {},
   "source": [
    "Now re-write the `hello` function using the `str` function to convert the input parameter to its string representation making sure the program does not crash when following cell is called."
   ]
  },
  {
   "cell_type": "code",
   "execution_count": null,
   "metadata": {},
   "outputs": [],
   "source": [
    "def hello(what):\n",
    "    # your code here\n",
    "    msg = \"Hello, \"\n",
    "    print(msg)"
   ]
  },
  {
   "cell_type": "code",
   "execution_count": null,
   "metadata": {},
   "outputs": [],
   "source": [
    "hello(10)"
   ]
  },
  {
   "cell_type": "markdown",
   "metadata": {},
   "source": [
    "### 3.3 Inner functions\n",
    "\n",
    "In Python it is possible to define functions within functions. This is useful when you need to perform a task that is better summarized in a function but might make more sense to keep within an outter larger function.\n",
    "\n",
    "Considering the following example where we perform a mathematical function on three different values and then return the summary of the three:\n",
    "\n",
    "```python\n",
    "def foo():\n",
    "    x = 10 * 10 + 6\n",
    "    y = 10 * 9 + 6\n",
    "    z = 10 * 8 + 6\n",
    "    return x + y + z\n",
    "```\n",
    "\n",
    "Following we instead define an inner function `f` that performs the mathematical function on an input value. The function `foo` then summarizes the output values of this function for three different values.\n",
    "\n",
    "```python\n",
    "def foo():\n",
    "    def f(x):\n",
    "        return x * 10 + 6\n",
    "    return f(10) + f(9) + f(8)\n",
    "```"
   ]
  },
  {
   "cell_type": "markdown",
   "metadata": {},
   "source": [
    "### Exercise\n",
    "\n",
    "Rewrite the following function using an inner function"
   ]
  },
  {
   "cell_type": "code",
   "execution_count": null,
   "metadata": {},
   "outputs": [],
   "source": [
    "def func(x):\n",
    "    "
   ]
  },
  {
   "cell_type": "code",
   "execution_count": null,
   "metadata": {},
   "outputs": [],
   "source": [
    "func(10)"
   ]
  },
  {
   "cell_type": "code",
   "execution_count": null,
   "metadata": {},
   "outputs": [],
   "source": [
    "def func(x):\n",
    "    # your code here"
   ]
  },
  {
   "cell_type": "code",
   "execution_count": null,
   "metadata": {},
   "outputs": [],
   "source": [
    "func(10)"
   ]
  },
  {
   "cell_type": "markdown",
   "metadata": {},
   "source": [
    "### 3.4 Function scopes\n",
    "\n",
    "Function scopes define what variables are *visible* to a function.\n",
    "\n",
    "As"
   ]
  },
  {
   "cell_type": "code",
   "execution_count": null,
   "metadata": {},
   "outputs": [],
   "source": []
  }
 ],
 "metadata": {
  "kernelspec": {
   "display_name": "Python 3",
   "language": "python",
   "name": "python3"
  },
  "language_info": {
   "codemirror_mode": {
    "name": "ipython",
    "version": 3
   },
   "file_extension": ".py",
   "mimetype": "text/x-python",
   "name": "python",
   "nbconvert_exporter": "python",
   "pygments_lexer": "ipython3",
   "version": "3.7.1"
  }
 },
 "nbformat": 4,
 "nbformat_minor": 2
}
