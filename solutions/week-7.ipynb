{
 "cells": [
  {
   "cell_type": "markdown",
   "metadata": {},
   "source": [
    "# Classes and objects\n",
    "\n",
    "In this weeks class we are going to look at defining our own data structures using *classes*. Class definitions can be compared to a template of what functionality is available to any instance of it. These instances are what we call *objects*.\n",
    "\n",
    "In C the closest thing you have seen to a class is a `struct`. `struct`s are nothing but containers for different variables. We will see that in Python we can do this and much much more.\n",
    "\n",
    "After this class you will:\n",
    "  * Know how to define your own classes\n",
    "  * Better understanding of variables that are instances of a class\n",
    "  * Understand constructors and desctructors\n",
    "  * Aware of some special properties"
   ]
  },
  {
   "cell_type": "markdown",
   "metadata": {},
   "source": [
    "## Recap"
   ]
  },
  {
   "cell_type": "markdown",
   "metadata": {},
   "source": [
    "### Lists\n",
    "\n",
    "Lists are a sequence of elements. We saw the flexibility Python offers in indexing making it easy to extract single and slices of elements."
   ]
  },
  {
   "cell_type": "code",
   "execution_count": null,
   "metadata": {},
   "outputs": [],
   "source": [
    "li = [1,2,3,4,5]\n",
    "print(\"second element =     \", li[1])\n",
    "print(\"second last element =\", li[-2])\n",
    "print(\"two first elements = \", li[0:2])\n",
    "print(\"three last elements =\", li[-3:])"
   ]
  },
  {
   "cell_type": "markdown",
   "metadata": {},
   "source": [
    "We also saw something called `tuple` which reminds us much of a list:"
   ]
  },
  {
   "cell_type": "code",
   "execution_count": null,
   "metadata": {},
   "outputs": [],
   "source": [
    "tu = (1987, 10, 24)\n",
    "print(tu[0])"
   ]
  },
  {
   "cell_type": "markdown",
   "metadata": {},
   "source": [
    "Key difference is that elements within a tuple are not modifiable. This is because the values within a tuple define combinedly a value.\n",
    "\n",
    "The main differences between a tuple and a list is that:\n",
    " * a list is a sequence of elements that are processed independently.\n",
    " * a tuple is a logical grouping of values that are processed jointly."
   ]
  },
  {
   "cell_type": "markdown",
   "metadata": {},
   "source": [
    "### Dictionaries\n",
    "\n",
    "Dictionaries are data structures that define a mapping from key values to objects."
   ]
  },
  {
   "cell_type": "code",
   "execution_count": null,
   "metadata": {},
   "outputs": [],
   "source": [
    "d = {\"a\": 10, \"b\": 11, \"c\": 12, \"d\": 13}\n",
    "print(d[\"b\"])"
   ]
  },
  {
   "cell_type": "markdown",
   "metadata": {},
   "source": [
    "Lists are similar only that keys are restricted to being integer and ranges. With dictionaries we can use any data type for keys and objects they point to."
   ]
  },
  {
   "cell_type": "markdown",
   "metadata": {},
   "source": [
    "### Lambda functions\n",
    "\n",
    "Lambda functions are nice one-liner functions that are convenient when you need to for example `map` a function over a list"
   ]
  },
  {
   "cell_type": "code",
   "execution_count": null,
   "metadata": {},
   "outputs": [],
   "source": [
    "def mapping(items):\n",
    "    f = lambda x: \"a\" + str(x) # convert value to 'ax' as a string\n",
    "    return list(map(f, items))\n",
    "print(mapping([1,2,3,4,5]))"
   ]
  },
  {
   "cell_type": "markdown",
   "metadata": {},
   "source": [
    "### Generators\n",
    "\n",
    "Generators are a way of generating custom sequences of data, in each step of the iterations, as opposed to generating a list first that we are going to iterate over. The are basically functions that use the `yield` statement."
   ]
  },
  {
   "cell_type": "code",
   "execution_count": null,
   "metadata": {},
   "outputs": [],
   "source": [
    "# generate a sequence of values between 1 and n at a power of 3\n",
    "def gen_exp3(n):\n",
    "    for i in range(1, n+1):\n",
    "        yield i ** 3\n",
    "\n",
    "for e in gen_exp3(10):\n",
    "    print(e)"
   ]
  },
  {
   "cell_type": "markdown",
   "metadata": {},
   "source": [
    "## Classes\n",
    "\n",
    "Let's look over the basics for how to define a new class, later moving on to defining data and functions associated with it. Then we will take a deeper look into defining special behavior when a new object is created and deleted, before last seeing some special features that you can implement."
   ]
  },
  {
   "cell_type": "markdown",
   "metadata": {},
   "source": [
    "### Basics"
   ]
  },
  {
   "cell_type": "markdown",
   "metadata": {},
   "source": [
    "In Python we use the `class` keyword to define a new class. The most basic examples remind us of pretty much of all block statements in Python, and looks very similar to how we define functions. But instead of how functions define behavior that is to be executed, a class defines properties."
   ]
  },
  {
   "cell_type": "code",
   "execution_count": null,
   "metadata": {},
   "outputs": [],
   "source": [
    "# define a new class 'A'\n",
    "class A():\n",
    "    # here we define properties\n",
    "    x = 10"
   ]
  },
  {
   "cell_type": "markdown",
   "metadata": {},
   "source": [
    "`A` is now a type that we have defined. And creating a new variable with this type is pretty much the same as calling a function:"
   ]
  },
  {
   "cell_type": "code",
   "execution_count": null,
   "metadata": {},
   "outputs": [],
   "source": [
    "# create a new variable of type 'A'\n",
    "foo = A()\n",
    "print(type(foo))"
   ]
  },
  {
   "cell_type": "markdown",
   "metadata": {},
   "source": [
    "As we can see here the `foo` variable is an instance of a class named `__main__.A`. This is the entire module path (remember week 5) with the actual class name in the end. In this case `__main__` is the module (which is the default one), and the class is `A` which we just created."
   ]
  },
  {
   "cell_type": "markdown",
   "metadata": {},
   "source": [
    "Above we mentioned that we define properties for a class, in this case we did it by writing:\n",
    "```python\n",
    "x = 10\n",
    "```\n",
    "\n",
    "This means that all variables that are of type `A` are created with a property called `x` that is equal to 10. Properties are accessed through a period `.` using the syntax \"**variable**`.`**property**\"."
   ]
  },
  {
   "cell_type": "code",
   "execution_count": null,
   "metadata": {},
   "outputs": [],
   "source": [
    "print(foo.x)"
   ]
  },
  {
   "cell_type": "markdown",
   "metadata": {},
   "source": [
    "And of course we can just continue and list properties on separate lines:"
   ]
  },
  {
   "cell_type": "code",
   "execution_count": null,
   "metadata": {},
   "outputs": [],
   "source": [
    "# re-define class 'A'\n",
    "class A():\n",
    "    # properties\n",
    "    x = 10\n",
    "    s = \"Hello\"\n",
    "    f = 5.13"
   ]
  },
  {
   "cell_type": "code",
   "execution_count": null,
   "metadata": {},
   "outputs": [],
   "source": [
    "foo = A()\n",
    "print(\"foo.x = \", foo.x)\n",
    "print(\"foo.s = \", foo.s)\n",
    "print(\"foo.f = \", foo.f)"
   ]
  },
  {
   "cell_type": "markdown",
   "metadata": {},
   "source": [
    "### More properties\n",
    "\n",
    "In the above example we created a class that had in the end three properties: an `int`, a `str` and a `float`. They are created with default values, but these can also be re-assigned without problem through the course of a program:"
   ]
  },
  {
   "cell_type": "code",
   "execution_count": null,
   "metadata": {},
   "outputs": [],
   "source": [
    "foo.x = 89\n",
    "print(\"foo.x = \", foo.x)"
   ]
  },
  {
   "cell_type": "markdown",
   "metadata": {},
   "source": [
    "It is even possible to dynamically add new properties to an object (even though it does not really make sense):"
   ]
  },
  {
   "cell_type": "code",
   "execution_count": null,
   "metadata": {},
   "outputs": [],
   "source": [
    "foo.b = False\n",
    "print(\"foo.b = \", foo.b)"
   ]
  },
  {
   "cell_type": "markdown",
   "metadata": {},
   "source": [
    "Properties do not have to be only variables, they can be functions as well! In fact this is the most important part of creating classes. Defining functions as properties is very similar to defining functions in general. In the below example we will create a very simple greeter class that can only say hello."
   ]
  },
  {
   "cell_type": "code",
   "execution_count": null,
   "metadata": {},
   "outputs": [],
   "source": [
    "# \n",
    "class Greeter():\n",
    "    def hello(self, who):\n",
    "        msg = \"Hello, \" + who\n",
    "        print(msg)"
   ]
  },
  {
   "cell_type": "markdown",
   "metadata": {},
   "source": [
    "Function properties are called *methods*, and are accessed in the exact same way as variables are:"
   ]
  },
  {
   "cell_type": "code",
   "execution_count": null,
   "metadata": {},
   "outputs": [],
   "source": [
    "gr = Greeter()\n",
    "gr.hello(\"World\")"
   ]
  },
  {
   "cell_type": "markdown",
   "metadata": {},
   "source": [
    "Notice however that the function `hello` is declared as taking two parameters but the we call it with only one.\n",
    "\n",
    "```python\n",
    "    def greet(self, who):\n",
    "```\n",
    "\n",
    "The first parameter `self` is a self-reference variable that can be used to access properties linked to the object itself when the function is called. It is only used when declaring the function within the class, but omitted when invoked. The above example did not have any use for it so lets create a new example where we do:"
   ]
  },
  {
   "cell_type": "code",
   "execution_count": 16,
   "metadata": {},
   "outputs": [],
   "source": [
    "# Implement a two dimensional point called 'Point2D'.\n",
    "# It defaults to position (0, 0) and has a function 'translate' that adds an offset to its current position.\n",
    "class Point2D():\n",
    "    x = 0\n",
    "    y = 0\n",
    "    \n",
    "    def translate(self, xoff, yoff):\n",
    "        self.x += xoff\n",
    "        self.y += yoff"
   ]
  },
  {
   "cell_type": "code",
   "execution_count": 17,
   "metadata": {},
   "outputs": [
    {
     "name": "stdout",
     "output_type": "stream",
     "text": [
      "before = ( 0 , 0 )\n",
      "after  = ( 5 , 5 )\n"
     ]
    }
   ],
   "source": [
    "p = Point2D()\n",
    "print(\"before = (\", p.x, \",\", p.y, \")\")\n",
    "p.translate(5, 5)\n",
    "print(\"after  = (\", p.x, \",\", p.y, \")\")"
   ]
  },
  {
   "cell_type": "markdown",
   "metadata": {},
   "source": [
    "The `self` is used to update to the variable itself, updating its current state."
   ]
  },
  {
   "cell_type": "markdown",
   "metadata": {},
   "source": [
    "### Exercises"
   ]
  },
  {
   "cell_type": "markdown",
   "metadata": {},
   "source": [
    "#### Create a rectangle class\n",
    "\n",
    "As first exercise try to implement a new class called `Rect` which has three properties:\n",
    "  * A two dimensional point for the top left corner of type `Point2D` called `corner`\n",
    "  * A width called `width`\n",
    "  * A height called `height`"
   ]
  },
  {
   "cell_type": "code",
   "execution_count": 18,
   "metadata": {},
   "outputs": [],
   "source": [
    "# here is a convenient function to print out information about a Rect object\n",
    "def print_rect(r):\n",
    "    print(\"(x: {}, y: {}) dim: {} x {}\".format(r.corner.x, r.corner.y, r.width, r.height))"
   ]
  },
  {
   "cell_type": "code",
   "execution_count": 19,
   "metadata": {},
   "outputs": [],
   "source": [
    "# your code here\n",
    "class Rect():\n",
    "    corner = Point2D()\n",
    "    width = 0\n",
    "    height = 0"
   ]
  },
  {
   "cell_type": "code",
   "execution_count": 20,
   "metadata": {},
   "outputs": [
    {
     "name": "stdout",
     "output_type": "stream",
     "text": [
      "(x: 0, y: 0) dim: 0 x 0\n"
     ]
    }
   ],
   "source": [
    "rect = Rect()\n",
    "print_rect(rect)"
   ]
  },
  {
   "cell_type": "markdown",
   "metadata": {},
   "source": [
    "#### Calculate area of a rectangle\n",
    "\n",
    "Add a method `area` that calculates and **returns** the area of the rectangle"
   ]
  },
  {
   "cell_type": "code",
   "execution_count": 21,
   "metadata": {},
   "outputs": [],
   "source": [
    "# your code here\n",
    "class Rect():\n",
    "    corner = Point2D()\n",
    "    width = 0\n",
    "    height = 0\n",
    "    \n",
    "    def area(self):\n",
    "        return self.width * self.height"
   ]
  },
  {
   "cell_type": "code",
   "execution_count": 22,
   "metadata": {},
   "outputs": [
    {
     "name": "stdout",
     "output_type": "stream",
     "text": [
      "(x: 0, y: 0) dim: 10 x 5\n",
      "area = 50\n"
     ]
    }
   ],
   "source": [
    "rect = Rect()\n",
    "rect.width = 10\n",
    "rect.height = 5\n",
    "print_rect(rect)\n",
    "print(\"area =\", rect.area())"
   ]
  },
  {
   "cell_type": "markdown",
   "metadata": {},
   "source": [
    "#### Translate the rectangle\n",
    "\n",
    "Now update the `Rect` class giving it a `translate` method of its own. When calling this method all the corner points in the rectangle should be translated."
   ]
  },
  {
   "cell_type": "code",
   "execution_count": 23,
   "metadata": {},
   "outputs": [],
   "source": [
    "# your code here\n",
    "class Rect():\n",
    "    corner = Point2D()\n",
    "    width = 0\n",
    "    height = 0\n",
    "    \n",
    "    def area(self):\n",
    "        return self.width * self.height\n",
    "    \n",
    "    def translate(self, x, y):\n",
    "        self.corner.translate(x, y)"
   ]
  },
  {
   "cell_type": "code",
   "execution_count": 24,
   "metadata": {},
   "outputs": [
    {
     "name": "stdout",
     "output_type": "stream",
     "text": [
      "(x: 5, y: 5) dim: 0 x 0\n"
     ]
    }
   ],
   "source": [
    "rect = Rect()\n",
    "rect.translate(5, 5)\n",
    "print_rect(rect)"
   ]
  },
  {
   "cell_type": "markdown",
   "metadata": {},
   "source": [
    "#### Implement a cube [optional]\n",
    "\n",
    "Implement a new class called `cube` which represents a cube. Make it have the same property functions as `Rect` for calculating area and translating it. If you are comfortable with linear algebra you can even try `rotate` and `scaling` functions."
   ]
  },
  {
   "cell_type": "code",
   "execution_count": 30,
   "metadata": {},
   "outputs": [],
   "source": [
    "# your code here\n",
    "class Cube():\n",
    "    face = Rect()\n",
    "    depth = 0\n",
    "    \n",
    "    def area(self):\n",
    "        return self.face.area() * self.depth\n",
    "        \n",
    "    def translate(self, x, y):\n",
    "        self.face.translate(x, y)\n",
    "    \n",
    "    \n",
    "def print_cube(cube):\n",
    "    print(\"({}, {}) {} x {} x {}\".format(cube.face.corner.x, cube.face.corner.y, cube.face.width, cube.face.height, cube.depth))"
   ]
  },
  {
   "cell_type": "code",
   "execution_count": 33,
   "metadata": {},
   "outputs": [
    {
     "name": "stdout",
     "output_type": "stream",
     "text": [
      "(35, 35) 10 x 10 x 10\n",
      "area = 1000\n"
     ]
    }
   ],
   "source": [
    "# write some test code for your cube\n",
    "c = Cube()\n",
    "c.translate(35, 35)\n",
    "c.depth = 10\n",
    "c.face.width = 10\n",
    "c.face.height = 10\n",
    "\n",
    "print_cube(c)\n",
    "print(\"area =\", c.area())"
   ]
  },
  {
   "cell_type": "markdown",
   "metadata": {},
   "source": [
    "### Constructors \n",
    "\n",
    "We just saw how to define classes and their properties. Problem until now though is that all variables of our classes are created with some default values for their properties (that most often do not make sense and are useless), and then we need to modify them for what we really want."
   ]
  },
  {
   "cell_type": "code",
   "execution_count": null,
   "metadata": {},
   "outputs": [],
   "source": [
    "# we want to create a point in two dimensional space at (4, 7)\n",
    "# right now we need to create a new point and modify \"x\" and \"y\" properties manually\n",
    "p = Point2D()\n",
    "p.x = 4\n",
    "p.y = 7\n",
    "print(\"p = (\", p.x, \",\", p.y, \")\")"
   ]
  },
  {
   "cell_type": "markdown",
   "metadata": {},
   "source": [
    "We could have maybe also used the `translate` function, but anyhow we need to make at least one extra function call to place our point after it is created. This feels a bit dumb. Imagine the case we have 100 points to keep track of. Then we would need to create the hundred points and then position them by modifying their coordinates. \n",
    "\n",
    "In comes *constructors*. Constructors are special methods that handle all the initialization of an object when it is created. They are created like other methods but it has the special name `__init__`. Lets see a very quick example to show the idea."
   ]
  },
  {
   "cell_type": "code",
   "execution_count": null,
   "metadata": {},
   "outputs": [],
   "source": [
    "class A():\n",
    "    x = 0\n",
    "    def __init__(self):\n",
    "        print(\" >> new A <<\")\n",
    "        self.x = 10"
   ]
  },
  {
   "cell_type": "code",
   "execution_count": null,
   "metadata": {},
   "outputs": [],
   "source": [
    "foo = A()\n",
    "print(\"foo.x =\", foo.x)"
   ]
  },
  {
   "cell_type": "markdown",
   "metadata": {},
   "source": [
    "As we can see from the above example we gave the class `A` an `__init__` function that within it re-assigned the value of the property `x` property from 0 to 10.\n",
    "\n",
    "This example might not be of much use to us, but lets make the `A` take a value when it is created that will be the value of its `x` property."
   ]
  },
  {
   "cell_type": "code",
   "execution_count": null,
   "metadata": {},
   "outputs": [],
   "source": [
    "class A():\n",
    "    x = 0\n",
    "    def __init__(self, x_):\n",
    "        self.x = x_"
   ]
  },
  {
   "cell_type": "code",
   "execution_count": null,
   "metadata": {},
   "outputs": [],
   "source": [
    "foo = A(13)\n",
    "print(\"foo.x =\", foo.x)"
   ]
  },
  {
   "cell_type": "markdown",
   "metadata": {},
   "source": [
    "From the above example we notice that now when creating a new object of class `A` we send an input parameter:\n",
    "\n",
    "```python\n",
    "foo = A(13)\n",
    "```\n",
    "\n",
    "With this we now know how to give our own default values to an object when it is created, and no longer need to create the variable then assign the properties."
   ]
  },
  {
   "cell_type": "markdown",
   "metadata": {},
   "source": [
    "### Exercises "
   ]
  },
  {
   "cell_type": "markdown",
   "metadata": {},
   "source": [
    "#### Constructor for Point2D\n",
    "\n",
    "Start by modifying your last implementation of the `Point2D` to have a constructor that takes the value of `x` and `y` "
   ]
  },
  {
   "cell_type": "code",
   "execution_count": 38,
   "metadata": {},
   "outputs": [],
   "source": [
    "# your code here\n",
    "class Point2D():\n",
    "    def __init__(self, x, y):\n",
    "        self.x = x\n",
    "        self.y = y\n",
    "        \n",
    "    def translate(self, x, y):\n",
    "        self.x += x\n",
    "        self.y += y"
   ]
  },
  {
   "cell_type": "code",
   "execution_count": 39,
   "metadata": {},
   "outputs": [
    {
     "name": "stdout",
     "output_type": "stream",
     "text": [
      "p = ( 13 , 49 )\n"
     ]
    }
   ],
   "source": [
    "p = Point2D(13, 49)\n",
    "print(\"p = (\", p.x, \",\", p.y, \")\")"
   ]
  },
  {
   "cell_type": "markdown",
   "metadata": {},
   "source": [
    "#### Constructor for the Rect\n",
    "\n",
    "Now that `Point2D` has a constructor that makes things easier for us, lets also give the `Rect` class a constructor that takes the x and y of its top left corner, width and height. "
   ]
  },
  {
   "cell_type": "code",
   "execution_count": 40,
   "metadata": {},
   "outputs": [],
   "source": [
    "# your code here\n",
    "class Rect():\n",
    "    def __init__(self, x, y, w, h):\n",
    "        self.corner = Point2D(x, y)\n",
    "        self.width = w\n",
    "        self.height = h\n",
    "        \n",
    "    def translate(self, x, y):\n",
    "        self.corner.translate(x, y)\n",
    "        \n",
    "    def area(self):\n",
    "        return self.width * self.height"
   ]
  },
  {
   "cell_type": "code",
   "execution_count": 41,
   "metadata": {},
   "outputs": [
    {
     "name": "stdout",
     "output_type": "stream",
     "text": [
      "(x: 4, y: 90) dim: 67 x 23\n"
     ]
    }
   ],
   "source": [
    "r = Rect(4, 90, 67, 23)\n",
    "print_rect(r)"
   ]
  },
  {
   "cell_type": "markdown",
   "metadata": {},
   "source": [
    "### Desctructors [optional]\n",
    "\n",
    "Constructors show us how we can invoke special functionality when creating a new object. But what if we want something to happen when the object is destroyed?\n",
    "\n",
    "For this purpose we have destructors, which are defined through a `__del__` method."
   ]
  },
  {
   "cell_type": "code",
   "execution_count": null,
   "metadata": {},
   "outputs": [],
   "source": [
    "class A():\n",
    "    def __init__(self):\n",
    "        print(\" > A created\")\n",
    "        \n",
    "    def __del__(self):\n",
    "        print(\" > A destroyed\")"
   ]
  },
  {
   "cell_type": "code",
   "execution_count": null,
   "metadata": {},
   "outputs": [],
   "source": [
    "def foo():\n",
    "    print(\" > enter foo\")\n",
    "    a = A()\n",
    "    print(\" > exit foo\")\n",
    "foo()"
   ]
  },
  {
   "cell_type": "markdown",
   "metadata": {},
   "source": [
    "Destructors are actually not of enormous use in Python because maybe as you have noticed up to now, we have never had to call anything like `malloc` or `free` to handle our allocations in the memory, which would be the standard use case for destructors. Python handles this for us when we create new variables and when we do not use them anymore. This feature is called *Garbage collection*, and means that the there is something keeping track of what we are using and not using, and making sure that the *garbage* does not fill up our memory. Notice how `a` was destroyed when `foo` exits because `a` is of no use to us anymore after that.\n",
    "\n",
    "There are maybe some few times that desctructors can come in handy. We have seen how important it is that we always close the files when we are done working with them. We might have implemented a class that has a file object as property. As a solution for making sure that this file gets closed when we are done working with the object is to call the `close` method in the destructor"
   ]
  },
  {
   "cell_type": "code",
   "execution_count": null,
   "metadata": {},
   "outputs": [],
   "source": [
    "class FileWorker():\n",
    "    def __init__(self):\n",
    "        self.f = open(\"output\", \"w\")\n",
    "        \n",
    "    def __del__(self):\n",
    "        self.f.close()"
   ]
  },
  {
   "cell_type": "markdown",
   "metadata": {},
   "source": [
    "### Special properties and methods"
   ]
  },
  {
   "cell_type": "markdown",
   "metadata": {},
   "source": [
    "#### `__str__` method\n",
    "\n",
    "Through this weeks class we had to write special print statements and functions to output a nice readable line of information about an object. This is because if we try to just print the object itself we do not get much information about its state."
   ]
  },
  {
   "cell_type": "code",
   "execution_count": null,
   "metadata": {},
   "outputs": [],
   "source": [
    "class Person():\n",
    "    def __init__(self, name, age):\n",
    "        self.name = name\n",
    "        self.age = age"
   ]
  },
  {
   "cell_type": "code",
   "execution_count": null,
   "metadata": {},
   "outputs": [],
   "source": [
    "print(Person(\"John\", 31))"
   ]
  },
  {
   "cell_type": "markdown",
   "metadata": {},
   "source": [
    "The output from `print` gives us pretty much no useful information whatsoever for this unique object, and it could be useful when logging and debugging that it would be a little more informative. When `print` is called it internally converts all the input parameters to the `str` representation by casting. Observe the following example:"
   ]
  },
  {
   "cell_type": "code",
   "execution_count": null,
   "metadata": {},
   "outputs": [],
   "source": [
    "def hello(who):\n",
    "    msg = \"Hello, \" + str(who)\n",
    "    print(msg)"
   ]
  },
  {
   "cell_type": "code",
   "execution_count": null,
   "metadata": {},
   "outputs": [],
   "source": [
    "hello(Person(\"John\", 31))"
   ]
  },
  {
   "cell_type": "markdown",
   "metadata": {},
   "source": [
    "When we cast using `str` we look for a `__str__` method on the object which should **return** a `str` object. If none is found it defaults to output the type of the object and address in memory. Let's now modify the `Person` class so it outputs a more descriptive string representation of the object"
   ]
  },
  {
   "cell_type": "code",
   "execution_count": null,
   "metadata": {},
   "outputs": [],
   "source": [
    "class Person():\n",
    "    def __init__(self, name, age):\n",
    "        self.name = name\n",
    "        self.age = age\n",
    "        \n",
    "    def __str__(self):\n",
    "        return \"{}, aged {}\".format(self.name, self.age)\n",
    "        "
   ]
  },
  {
   "cell_type": "code",
   "execution_count": null,
   "metadata": {},
   "outputs": [],
   "source": [
    "hello(Person(\"John\", 31))"
   ]
  },
  {
   "cell_type": "markdown",
   "metadata": {},
   "source": [
    "By the way, almost all objects have a `__str__` method associated with them:"
   ]
  },
  {
   "cell_type": "code",
   "execution_count": null,
   "metadata": {},
   "outputs": [],
   "source": [
    "foo = 10\n",
    "print(foo.__str__())\n",
    "foo = 5.5\n",
    "print(foo.__str__())\n",
    "foo = False\n",
    "print(foo.__str__())"
   ]
  },
  {
   "cell_type": "markdown",
   "metadata": {},
   "source": [
    "##### Exercise [optional]: Give the `Rect` class a `__str__` method\n",
    "\n",
    "We implemented a function called `print_rect` before. There is no need for it now that we know how to write `__str__` methods. Implement the same but as a method for the `Rect` class. You can also re-implement the `Point2D` class giving it a `__str__` method first."
   ]
  },
  {
   "cell_type": "code",
   "execution_count": 42,
   "metadata": {},
   "outputs": [],
   "source": [
    "# your code here\n",
    "class Rect():\n",
    "    def __init__(self, x, y, w, h):\n",
    "        self.corner = Point2D(x, y)\n",
    "        self.width = w\n",
    "        self.height = h\n",
    "        \n",
    "    def translate(self, x, y):\n",
    "        self.corner.translate(x, y)\n",
    "        \n",
    "    def area(self):\n",
    "        return self.width * self.height\n",
    "    \n",
    "    def __str__(self):\n",
    "        return \"(x: {}, y: {}) dim: {} x {}\".format(\n",
    "            self.corner.x, self.corner.y, self.width, self.height)"
   ]
  },
  {
   "cell_type": "code",
   "execution_count": 43,
   "metadata": {},
   "outputs": [
    {
     "name": "stdout",
     "output_type": "stream",
     "text": [
      "(x: 5, y: 89) dim: 45 x 32\n"
     ]
    }
   ],
   "source": [
    "r = Rect(5, 89, 45, 32)\n",
    "print(r) # should write something like "
   ]
  },
  {
   "cell_type": "markdown",
   "metadata": {},
   "source": [
    "#### `__getitem__` and `__setitem__`\n",
    "\n",
    "We saw to access an item at a certain key in a `list` or `dict` we write **variable**`[`**key**`]`. For `list`s keys are signed integers, and for `dict`s we can use anything we choose."
   ]
  },
  {
   "cell_type": "code",
   "execution_count": null,
   "metadata": {},
   "outputs": [],
   "source": [
    "li = [1,2,3,4,5]\n",
    "print(\"li[2] =\", li[2])"
   ]
  },
  {
   "cell_type": "code",
   "execution_count": null,
   "metadata": {},
   "outputs": [],
   "source": [
    "d = {\"a\": 1, \"b\": 2, \"c\": 3, \"d\": 4}\n",
    "print('d[\"c\"] =', d[\"c\"])"
   ]
  },
  {
   "cell_type": "markdown",
   "metadata": {},
   "source": [
    "This works because `list` and `dict` classes implement the `__getitem__` method. Any object of a class that has a `__getitem__` method can have elements within it accessed through brackets `[]`. "
   ]
  },
  {
   "cell_type": "code",
   "execution_count": null,
   "metadata": {},
   "outputs": [],
   "source": [
    "print(\"li[2] =\", li.__getitem__(2))\n",
    "print('d[\"c\"] =', d.__getitem__(\"c\"))"
   ]
  },
  {
   "cell_type": "markdown",
   "metadata": {},
   "source": [
    "Below we implement a class that has a property which is a list, and when we access the object at a certain index, the object returns the value in the list property at the same position."
   ]
  },
  {
   "cell_type": "code",
   "execution_count": null,
   "metadata": {},
   "outputs": [],
   "source": [
    "class SpecialList():\n",
    "    items = [1,2,3,4,5,6,7,8,9,10]\n",
    "    \n",
    "    def __getitem__(self, i):\n",
    "        return self.items[i] # return the value of the 'items' variable at index 'i'"
   ]
  },
  {
   "cell_type": "code",
   "execution_count": null,
   "metadata": {},
   "outputs": [],
   "source": [
    "sl = SpecialList()\n",
    "print(\"sl[2] =\", sl[-2])"
   ]
  },
  {
   "cell_type": "markdown",
   "metadata": {},
   "source": [
    "Implementing a class that has `__getitem__` instead of just using a list can come in handy when all the data would not fit in memory, or it is just unnecessary to do have it all in memory. Then some special functionality needs to be done when accessing each element. One scenario would be that you implement a class that opens a file and does not read the entire content of a file because it is too large, and returns a line in the file at a certain index when `__getitem__` is called."
   ]
  },
  {
   "cell_type": "markdown",
   "metadata": {},
   "source": [
    "However when we assign to the `SpecialList`:"
   ]
  },
  {
   "cell_type": "code",
   "execution_count": null,
   "metadata": {},
   "outputs": [],
   "source": [
    "sl[1] = 23"
   ]
  },
  {
   "cell_type": "markdown",
   "metadata": {},
   "source": [
    "For this we need to implement the `__setitem__` method:"
   ]
  },
  {
   "cell_type": "code",
   "execution_count": null,
   "metadata": {},
   "outputs": [],
   "source": [
    "class SpecialList():\n",
    "    items = [1,2,3,4,5,6,7,8,9,10]\n",
    "    \n",
    "    def __getitem__(self, i):\n",
    "        return self.items[i] # return the value of the 'items' variable at index 'i'\n",
    "    \n",
    "    def __setitem__(self, i, value):\n",
    "        self.items[i] = value # assign to index 'i' in 'items'"
   ]
  },
  {
   "cell_type": "code",
   "execution_count": null,
   "metadata": {},
   "outputs": [],
   "source": [
    "sl = SpecialList()\n",
    "sl[2] = 23\n",
    "print(sl.items)"
   ]
  },
  {
   "cell_type": "markdown",
   "metadata": {},
   "source": [
    "#####  Exercise [optional]: Implement your own `dict` class\n",
    "\n",
    "Above was an example of a very simple list. Try making your own `dict` class called `SpecialDict` by implementing the `__getitem__`.\n",
    "\n",
    "When you are done with that you can try expanding your class and define the two following methods as well:\n",
    " * `__contains__(self, item)` used to check if an item is in an object when writing `item in obj`.\n",
    " * `__len__(self)` which returns the length (i.e. number of elements inside) of the object when calling `len(obj)`."
   ]
  },
  {
   "cell_type": "code",
   "execution_count": 44,
   "metadata": {},
   "outputs": [],
   "source": [
    "# your code here\n",
    "class SpecialDict():\n",
    "    __d = {}\n",
    "    \n",
    "    def __setitem__(self, key, value):\n",
    "        self.__d[key] = value\n",
    "    \n",
    "    def __getitem__(self, key):\n",
    "        return self.__d[key]"
   ]
  },
  {
   "cell_type": "code",
   "execution_count": 45,
   "metadata": {},
   "outputs": [
    {
     "name": "stdout",
     "output_type": "stream",
     "text": [
      "sd[a] = True\n",
      "sd[b] = False\n"
     ]
    }
   ],
   "source": [
    "# test your class here\n",
    "sd = SpecialDict()\n",
    "sd[\"a\"] = True\n",
    "sd[\"b\"] = False\n",
    "\n",
    "print(\"sd[a] =\", sd[\"a\"])\n",
    "print(\"sd[b] =\", sd[\"b\"])"
   ]
  },
  {
   "cell_type": "markdown",
   "metadata": {},
   "source": [
    "#### `__iter__` and `__next__`\n",
    "\n",
    "The previous week we saw how to create generators. Generators are a way of returning data we can iterate over. A class can become a generator as well! Any object of a class that defines an `__iter__` method can be iterated over. This is useful if the class maybe has a purpose to generate data which is unnecessary to pre-generate.\n",
    "\n",
    "Lets implement a class that acts as a generator for random numbers 0 or 1 for a fixed length."
   ]
  },
  {
   "cell_type": "code",
   "execution_count": null,
   "metadata": {},
   "outputs": [],
   "source": [
    "import random\n",
    "\n",
    "class RandomBinaryGenerator():\n",
    "    \n",
    "    def __init__(self, n):\n",
    "        self.length = n\n",
    "    \n",
    "    def __iter__(self):\n",
    "        for _ in range(self.length):\n",
    "            yield random.randint(0, 1)"
   ]
  },
  {
   "cell_type": "code",
   "execution_count": null,
   "metadata": {},
   "outputs": [],
   "source": [
    "g = RandomBinaryGenerator(10)\n",
    "for n in g:\n",
    "    print(n)"
   ]
  },
  {
   "cell_type": "markdown",
   "metadata": {},
   "source": [
    "The above example is what I would consider the simplest way to make your class iterable using a `for`-loop. But there is another way also the same can be achieved. But we need to do some explanation first so we understand what is happening.\n",
    "\n",
    "The implementation of the `for`-loop looks like this:\n",
    "\n",
    "```python\n",
    "# create an iterator object from that iterable\n",
    "iter_obj = iter(iterable)\n",
    "\n",
    "# infinite loop\n",
    "while True:\n",
    "    try:\n",
    "        # get the next item\n",
    "        element = next(iter_obj)\n",
    "        # do something with element\n",
    "    except StopIteration:\n",
    "        # if StopIteration is raised, break from loop\n",
    "        break\n",
    "```\n",
    "\n",
    "This is a if we would write the following code to emulate a `for`-loop iterating over our random generator."
   ]
  },
  {
   "cell_type": "code",
   "execution_count": null,
   "metadata": {},
   "outputs": [],
   "source": [
    "it = iter(RandomBinaryGenerator(10))\n",
    "while True:\n",
    "    try:\n",
    "        e = next(it)\n",
    "        print(e)\n",
    "    except StopIteration:\n",
    "        break"
   ]
  },
  {
   "cell_type": "markdown",
   "metadata": {},
   "source": [
    "First we start by getting an iterable object from our variable using the `iter` function.\n",
    "\n",
    "```python\n",
    "it = iter(RandomBinaryGenerator(10))\n",
    "```\n",
    "\n",
    "Then there is an infinite `while` loop that has a `try` statement within it. Within the `try` we call `next` on the iterable object. The `next` function internally accesses the `__next__` method of the object.\n",
    "\n",
    "```python\n",
    "e = next(it)\n",
    "```\n",
    "\n",
    "And we expect the `StopIteration` exception to be raised telling us that we have gone through the entire sequence, and in this case we break the loop and return to normal.\n",
    "\n",
    "All this is automatically handled because we implemented `__iter__` as a generator with the `yield` statement. An other way would be if `__iter__` returns `self` and the class implements the `__next__` method:"
   ]
  },
  {
   "cell_type": "code",
   "execution_count": null,
   "metadata": {},
   "outputs": [],
   "source": [
    "class RandomBinaryGenerator():\n",
    "    i = 0 # position in sequence\n",
    "    \n",
    "    def __init__(self, n):\n",
    "        self.len = n\n",
    "        \n",
    "    def __iter__(self):\n",
    "        self.i = 0 # reset position\n",
    "        return self\n",
    "    \n",
    "    def __next__(self):\n",
    "        if self.i < self.len: # position < length\n",
    "            e = random.randint(0, 1)\n",
    "            self.i += 1\n",
    "            return e\n",
    "        else:\n",
    "            raise StopIteration"
   ]
  },
  {
   "cell_type": "code",
   "execution_count": null,
   "metadata": {},
   "outputs": [],
   "source": [
    "g = RandomBinaryGenerator(10)\n",
    "for n in g:\n",
    "    print(n)"
   ]
  }
 ],
 "metadata": {
  "kernelspec": {
   "display_name": "Python 3",
   "language": "python",
   "name": "python3"
  },
  "language_info": {
   "codemirror_mode": {
    "name": "ipython",
    "version": 3
   },
   "file_extension": ".py",
   "mimetype": "text/x-python",
   "name": "python",
   "nbconvert_exporter": "python",
   "pygments_lexer": "ipython3",
   "version": "3.7.2"
  }
 },
 "nbformat": 4,
 "nbformat_minor": 2
}
