{
 "cells": [
  {
   "cell_type": "markdown",
   "metadata": {},
   "source": [
    "# Lists and dictionaries\n",
    "\n",
    "In this class we will look at working with multiple data. Using lists and dictionaries you will all be introduced to tools on how to do this. Lambda functions will be overviewed to give you more flexibility in transforming data. We will even introduce generators which are a way to generate data that you can iterate over.\n",
    "\n",
    "After this class you will know how to:\n",
    "    * how to work with lists \n",
    "    * how to work with dictionaries\n",
    "    * how to create lambda functions\n",
    "    * create a generator"
   ]
  },
  {
   "cell_type": "markdown",
   "metadata": {},
   "source": [
    "## Recap\n",
    "\n",
    "Last week we look at input and output for our programs, and also importing functionality from files and modules."
   ]
  },
  {
   "cell_type": "markdown",
   "metadata": {},
   "source": [
    "### Import\n",
    "\n",
    "Using the `import` keyword we can import functions, variables and classes from other files or modules. For example there is the `math` module has a definition of the `pi` variable."
   ]
  },
  {
   "cell_type": "code",
   "execution_count": null,
   "metadata": {},
   "outputs": [],
   "source": [
    "import math\n",
    "\n",
    "print(math.pi)"
   ]
  },
  {
   "cell_type": "markdown",
   "metadata": {},
   "source": [
    "We also saw how we could only import specific variables and functions"
   ]
  },
  {
   "cell_type": "code",
   "execution_count": null,
   "metadata": {},
   "outputs": [],
   "source": [
    "from math import pi\n",
    "print(pi)"
   ]
  },
  {
   "cell_type": "markdown",
   "metadata": {},
   "source": [
    "### Input/Output\n",
    "\n",
    "We saw that the `print` function is used to make sure that we write something to the terminal, not returning a value for a function.\n",
    "\n",
    "#### Command line arguments\n",
    "\n",
    "Command line arguments that are passed along to a script are available through the `sys` module that has a `argv` variable, which is a list of `str`. And remember that the first element in this list is the name of the script.\n",
    "\n",
    "```python\n",
    "import sys\n",
    "\n",
    "print(sys.argv[0]) # prints the name of the file\n",
    "```\n",
    "\n",
    "#### Reading and writing to files\n",
    "\n",
    "Using the `open` function we can open a file for reading or writing. This function returns a filehandler that has read functions and write functions. Remember that you need to pass `\"w\"` as second argument to the `open` function if you are writing to it.\n",
    "\n",
    "```python\n",
    "# read all the contents from a file\n",
    "f = open(\"data.txt\")\n",
    "data = f.read()\n",
    "f.close()\n",
    "```\n",
    "\n",
    "```python\n",
    "# write a text to a file\n",
    "f = open(\"output.txt\", \"w\")\n",
    "output = \"\"\"Here is some\n",
    "text that we want to \n",
    "write to a file\n",
    "\"\"\"\n",
    "f.write(output)\n",
    "f.close()\n",
    "```\n",
    "\n",
    "**ALWAYS** remember to `close` the file when you are done.\n",
    "\n"
   ]
  },
  {
   "cell_type": "markdown",
   "metadata": {},
   "source": [
    "## 1. Lists\n",
    "\n",
    "Lists are the basic data structure for storing multiple values using one variable."
   ]
  },
  {
   "cell_type": "code",
   "execution_count": null,
   "metadata": {},
   "outputs": [],
   "source": [
    "li = [1,2,3,4,5,6] # create a new list"
   ]
  },
  {
   "cell_type": "markdown",
   "metadata": {},
   "source": [
    "Lists are however not restricted to a certain type in Python, you can freely mix the types for each element:"
   ]
  },
  {
   "cell_type": "code",
   "execution_count": null,
   "metadata": {},
   "outputs": [],
   "source": [
    "[[1,2,3], \"Hello\", 5.6, (True, False)]"
   ]
  },
  {
   "cell_type": "markdown",
   "metadata": {},
   "source": [
    "### 1.1 Indexing\n",
    "\n",
    "List indexing in Python is done using brackets `[i]`, where `0` is the first element."
   ]
  },
  {
   "cell_type": "code",
   "execution_count": null,
   "metadata": {},
   "outputs": [],
   "source": [
    "li = [1,2,3,4,5] # create a new list"
   ]
  },
  {
   "cell_type": "code",
   "execution_count": null,
   "metadata": {},
   "outputs": [],
   "source": [
    "print(li[0])"
   ]
  },
  {
   "cell_type": "markdown",
   "metadata": {},
   "source": [
    "You can also use negative indexing in Python to get the `i`th value starting from the end of the list. So at index `-1` you have the last element, `-2` the second from last, and so on..."
   ]
  },
  {
   "cell_type": "code",
   "execution_count": null,
   "metadata": {},
   "outputs": [],
   "source": [
    "print(li[-2])"
   ]
  },
  {
   "cell_type": "markdown",
   "metadata": {},
   "source": [
    "It is also possible to get a subset of a list, called a `slice`, using a range of indices. This is done using the syntax *first*`:`*last*. This takes all the elements starting and including *first* until and **excluding** last."
   ]
  },
  {
   "cell_type": "code",
   "execution_count": null,
   "metadata": {},
   "outputs": [],
   "source": [
    "print(li[1:3]) # get elements li[1], li[2]"
   ]
  },
  {
   "cell_type": "markdown",
   "metadata": {},
   "source": [
    "You can also omit one of the values. If you omit *first* the range will start from `0`. If last is omitted the range ends at the last element of the list (including it)."
   ]
  },
  {
   "cell_type": "code",
   "execution_count": null,
   "metadata": {},
   "outputs": [],
   "source": [
    "print(li[2:]) # get all the elements after the two first ones"
   ]
  },
  {
   "cell_type": "code",
   "execution_count": null,
   "metadata": {},
   "outputs": [],
   "source": [
    "print(li[:3]) # get the three first elements"
   ]
  },
  {
   "cell_type": "markdown",
   "metadata": {},
   "source": [
    "Lastly you can also specify a step within your range using the *first*`:`*last*`:`*step* syntax"
   ]
  },
  {
   "cell_type": "code",
   "execution_count": null,
   "metadata": {},
   "outputs": [],
   "source": [
    "print(li[0:4:2]) # get every second element starting a the first and stopping at the fourth"
   ]
  },
  {
   "cell_type": "code",
   "execution_count": null,
   "metadata": {},
   "outputs": [],
   "source": [
    "print(li[::2]) # get every second element in the list"
   ]
  },
  {
   "cell_type": "markdown",
   "metadata": {},
   "source": [
    "### 1.2 Re-assigning values\n",
    "\n",
    "The indexing syntax can be to re-assign elements within a list"
   ]
  },
  {
   "cell_type": "code",
   "execution_count": null,
   "metadata": {},
   "outputs": [],
   "source": [
    "li[2] = 8 # re-assign the third element to \"8\"\n",
    "print(li)"
   ]
  },
  {
   "cell_type": "code",
   "execution_count": null,
   "metadata": {},
   "outputs": [],
   "source": [
    "li[:3] = [10, 11, 12] # re-assign the first three value to [10, 11, 12]\n",
    "print(li)"
   ]
  },
  {
   "cell_type": "markdown",
   "metadata": {},
   "source": [
    "### 1.3 Iterating over a list\n",
    "\n",
    "We saw before how we can do this using a `for`-loop.\n",
    "\n"
   ]
  },
  {
   "cell_type": "code",
   "execution_count": null,
   "metadata": {},
   "outputs": [],
   "source": [
    "for e in li:\n",
    "    print(e)"
   ]
  },
  {
   "cell_type": "markdown",
   "metadata": {},
   "source": [
    "If you need to keep track of the index in each iteration of the loop, Python's `enumerate` function comes in to hand:"
   ]
  },
  {
   "cell_type": "code",
   "execution_count": null,
   "metadata": {},
   "outputs": [],
   "source": [
    "for i, e in enumerate(li):\n",
    "    print(\"li[\", i, \"] = \", e)"
   ]
  },
  {
   "cell_type": "markdown",
   "metadata": {},
   "source": [
    "The builtin `len` function will give you the length of a list. This can be used in case you want to use the `range` function instead: "
   ]
  },
  {
   "cell_type": "code",
   "execution_count": null,
   "metadata": {},
   "outputs": [],
   "source": [
    "for i in range(len(li)):\n",
    "    print(\"li[\", i, \"] = \", li[i])"
   ]
  },
  {
   "cell_type": "markdown",
   "metadata": {},
   "source": [
    "With the range function you can use a negative step to start at the end and iterate in reverse order instead."
   ]
  },
  {
   "cell_type": "code",
   "execution_count": null,
   "metadata": {},
   "outputs": [],
   "source": [
    "for i in range(len(li)-1, -1, -1):\n",
    "     print(\"li[\", i, \"] = \", li[i])"
   ]
  },
  {
   "cell_type": "markdown",
   "metadata": {},
   "source": [
    "But an easier way would be to use Python's builtin `reversed` function."
   ]
  },
  {
   "cell_type": "code",
   "execution_count": null,
   "metadata": {},
   "outputs": [],
   "source": [
    "for e in reversed(li):\n",
    "    print(e)"
   ]
  },
  {
   "cell_type": "markdown",
   "metadata": {},
   "source": [
    "### 1.4 Adding and removing elements"
   ]
  },
  {
   "cell_type": "markdown",
   "metadata": {},
   "source": [
    "#### Inserting"
   ]
  },
  {
   "cell_type": "markdown",
   "metadata": {},
   "source": [
    "Lists can be concatenated with each other. In the case we want to add more elements to a list we can just use the `+` operator which creates a new list that is the merge of the two."
   ]
  },
  {
   "cell_type": "code",
   "execution_count": null,
   "metadata": {},
   "outputs": [],
   "source": [
    "print(li + [7, 8, 9])"
   ]
  },
  {
   "cell_type": "markdown",
   "metadata": {},
   "source": [
    "NOTE that we can only use this functionality between lists. If you just want to add one element you would need to create a new list with the element"
   ]
  },
  {
   "cell_type": "code",
   "execution_count": null,
   "metadata": {},
   "outputs": [],
   "source": [
    "print(li + [7])"
   ]
  },
  {
   "cell_type": "markdown",
   "metadata": {},
   "source": [
    "The `+` operator takes two lists and returns a new one, without modifying the original ones. If you want your original list to have the updated version, you need to re-assign it by using `+=` instead.\n",
    "\n",
    "List objects have some functions to modify the original list directly also. For adding just one element lists have the `append` function that can be used instead"
   ]
  },
  {
   "cell_type": "code",
   "execution_count": null,
   "metadata": {},
   "outputs": [],
   "source": [
    "li.append(7)\n",
    "print(li)"
   ]
  },
  {
   "cell_type": "markdown",
   "metadata": {},
   "source": [
    "You can also `insert` an element at a specific index, pushing the elements after the given index one step back. `insert` takes as first parameter the index where you want to insert the new value, which comes in the second parameter."
   ]
  },
  {
   "cell_type": "code",
   "execution_count": null,
   "metadata": {},
   "outputs": [],
   "source": [
    "li.insert(4, 8)\n",
    "print(li)"
   ]
  },
  {
   "cell_type": "markdown",
   "metadata": {},
   "source": [
    "#### Removing\n",
    "\n",
    "Removing elements can be done by extracting a slice of the list as we saw earlier"
   ]
  },
  {
   "cell_type": "code",
   "execution_count": null,
   "metadata": {},
   "outputs": [],
   "source": [
    "print(\"remove two first elements,\", li[2:])\n",
    "print(\"remove the last three elements\", li[:-3])\n",
    "print(\"note that li is unmodified:\", li)"
   ]
  },
  {
   "cell_type": "markdown",
   "metadata": {},
   "source": [
    "Just as when using the `+` operator we need to remember to re-assign the variable if we want to modify the actual list.\n",
    "\n",
    "You can use the `del` statement if you want to this without assigning:"
   ]
  },
  {
   "cell_type": "code",
   "execution_count": null,
   "metadata": {},
   "outputs": [],
   "source": [
    "del li[4] # remove the fourth element (the 8 we inserted earlier)\n",
    "print(li)"
   ]
  },
  {
   "cell_type": "markdown",
   "metadata": {},
   "source": [
    "And the `del` statement can also be used with a range:"
   ]
  },
  {
   "cell_type": "code",
   "execution_count": null,
   "metadata": {},
   "outputs": [],
   "source": [
    "del li[-2:] # remove the last two elements\n",
    "print(li)"
   ]
  },
  {
   "cell_type": "markdown",
   "metadata": {},
   "source": [
    "You can achieve the same behavior using list's `pop` function, which takes one optional parameter. When called without parameters it defaults to removing the last element, optionally you can specify at which index you want to remove the element."
   ]
  },
  {
   "cell_type": "code",
   "execution_count": null,
   "metadata": {},
   "outputs": [],
   "source": [
    "li.pop() # remove last element\n",
    "li.pop(0) # remove first element\n",
    "print(li)"
   ]
  },
  {
   "cell_type": "markdown",
   "metadata": {},
   "source": [
    "To remove specific values from a list you can use the list's `remove` function which will delete the *first* occurrence of a value within a list"
   ]
  },
  {
   "cell_type": "code",
   "execution_count": null,
   "metadata": {},
   "outputs": [],
   "source": [
    "li = [1,2,3,4,5]\n",
    "li.remove(3) # remove the value \"3\" from the list\n",
    "print(li)"
   ]
  },
  {
   "cell_type": "code",
   "execution_count": null,
   "metadata": {},
   "outputs": [],
   "source": [
    "# create a new list of ones and test to remove the value \"1\"\n",
    "li = [1,1,1,1] \n",
    "li.remove(1)\n",
    "print(li)"
   ]
  },
  {
   "cell_type": "markdown",
   "metadata": {},
   "source": [
    "### 1.6 Initilization"
   ]
  },
  {
   "cell_type": "markdown",
   "metadata": {},
   "source": [
    "Initializing lists with it's initial values can be cubersome to write, as well not as not even feasible in some cases. \n",
    "\n",
    "Say that you want to create a list that has the values 0 to 999. One way of achieving this would be to create an empty list and use a `for`-loop and `range` where we append in each iteration:\n",
    "\n",
    "```python\n",
    "li = []\n",
    "for i in range(1000):\n",
    "    li.append(i)\n",
    "```\n",
    "\n",
    "Python has a nice way of doing this with one-line though using a syntax like following: \n",
    "\n",
    "`[` *expression* `for` *element* `in` *sequence* `]`\n",
    "\n",
    "This is called **list comprehension**."
   ]
  },
  {
   "cell_type": "code",
   "execution_count": null,
   "metadata": {},
   "outputs": [],
   "source": [
    "li = [i for i in range(1000)] # create a list of values 0-999\n",
    "print(li[:5], \"...\", li[-5:])"
   ]
  },
  {
   "cell_type": "markdown",
   "metadata": {},
   "source": [
    "### Exercises\n",
    "\n",
    "#### Even and odd list\n",
    "\n",
    "In this exercise I would like you create a function that takes one input parameter and returns two lists. The input parameter is an upper limit, and the function should return all even numbers from 0 to n in one list and all odd numbers in the other list"
   ]
  },
  {
   "cell_type": "code",
   "execution_count": 2,
   "metadata": {},
   "outputs": [],
   "source": [
    "# your code here\n",
    "def even_odd(n):\n",
    "    elems = [i for i in range(n)]\n",
    "    return elems[::2], elems[1::2]"
   ]
  },
  {
   "cell_type": "code",
   "execution_count": 4,
   "metadata": {},
   "outputs": [
    {
     "name": "stdout",
     "output_type": "stream",
     "text": [
      "[0, 2, 4, 6, 8]\n",
      "[1, 3, 5, 7, 9]\n"
     ]
    }
   ],
   "source": [
    "evens, odds = even_odd(10) # even: [0,2,4,6,8], odds: [1,3,5,7,9]\n",
    "print(evens)\n",
    "print(odds)"
   ]
  },
  {
   "cell_type": "markdown",
   "metadata": {},
   "source": [
    "#### Split string\n",
    "\n",
    "`str` objects are basically lists and can use the same indexing as with lists"
   ]
  },
  {
   "cell_type": "code",
   "execution_count": 8,
   "metadata": {},
   "outputs": [
    {
     "data": {
      "text/plain": [
       "'h'"
      ]
     },
     "execution_count": 8,
     "metadata": {},
     "output_type": "execute_result"
    }
   ],
   "source": [
    "\"here is a string\"[0]"
   ]
  },
  {
   "cell_type": "markdown",
   "metadata": {},
   "source": [
    "Create a function that splits a string in every other letter, returning two lists where one has all the letters on even indices, and one with all the letters on odd indices"
   ]
  },
  {
   "cell_type": "code",
   "execution_count": 11,
   "metadata": {},
   "outputs": [],
   "source": [
    "# your code here\n",
    "def split(s):\n",
    "    return s[::2], s[1::2]"
   ]
  },
  {
   "cell_type": "code",
   "execution_count": 12,
   "metadata": {},
   "outputs": [
    {
     "data": {
      "text/plain": [
       "('Hlo ol', 'el,Wrd')"
      ]
     },
     "execution_count": 12,
     "metadata": {},
     "output_type": "execute_result"
    }
   ],
   "source": [
    "split(\"Hello, World\") # should give [Hlo ol], [el,Wrd]"
   ]
  },
  {
   "cell_type": "markdown",
   "metadata": {},
   "source": [
    "#### Common elements\n",
    "\n",
    "In Python you can check if an element exists in a list using the `in` keyword: *element* `in` *list*. This statement returns a boolean value of True or False, wether or not there was the value."
   ]
  },
  {
   "cell_type": "code",
   "execution_count": 13,
   "metadata": {},
   "outputs": [
    {
     "name": "stdout",
     "output_type": "stream",
     "text": [
      "True\n",
      "False\n"
     ]
    }
   ],
   "source": [
    "print(5 in [1,2,3,4,5])\n",
    "print(10 in [1,2,3,4,5])"
   ]
  },
  {
   "cell_type": "markdown",
   "metadata": {},
   "source": [
    "Now we want to write a function that takes two lists as parameters and a new list with all the common elements."
   ]
  },
  {
   "cell_type": "code",
   "execution_count": 14,
   "metadata": {},
   "outputs": [],
   "source": [
    "# your code here\n",
    "def common(l1, l2):\n",
    "    c = []\n",
    "    for e in l1:\n",
    "        if e in l2:\n",
    "            c.append(e)\n",
    "    return c"
   ]
  },
  {
   "cell_type": "code",
   "execution_count": 15,
   "metadata": {},
   "outputs": [
    {
     "name": "stdout",
     "output_type": "stream",
     "text": [
      "[1, 4, 5]\n"
     ]
    }
   ],
   "source": [
    "co = common([1,2,3,4,5], [4,5,6,7,8,9,1]) # should return [4,5,1]\n",
    "print(co)"
   ]
  },
  {
   "cell_type": "markdown",
   "metadata": {},
   "source": [
    "#### Sort a list [optional]\n",
    "\n",
    "In this exercise we will try to sort a list. You can choose any sorting algorithm you like but [*Insertion sort*](https://en.wikipedia.org/wiki/Insertion_sort) is a quite simple one to get started with if you have no preference. Here is the pseudocode from wikipedia:\n",
    "```\n",
    "i ← 1\n",
    "while i < length(A)\n",
    "    j ← i\n",
    "    while j > 0 and A[j-1] > A[j]\n",
    "        swap A[j] and A[j-1]\n",
    "        j ← j - 1\n",
    "    end while\n",
    "    i ← i + 1\n",
    "end while\n",
    "```"
   ]
  },
  {
   "cell_type": "code",
   "execution_count": 16,
   "metadata": {},
   "outputs": [],
   "source": [
    "# your code here\n",
    "def sort(li):\n",
    "    for i in range(1, len(li)):\n",
    "        j = i\n",
    "        while j > 0 and li[j-1] > li[j]:\n",
    "            li[j], li[j-1] = li[j-1], li[j]\n",
    "            j -= 1"
   ]
  },
  {
   "cell_type": "code",
   "execution_count": 17,
   "metadata": {},
   "outputs": [
    {
     "name": "stdout",
     "output_type": "stream",
     "text": [
      "[1, 3, 5, 9, 21, 23, 43, 87, 90]\n"
     ]
    }
   ],
   "source": [
    "li = [90,23,1,5,3,9,43,21,87]\n",
    "sort(li)\n",
    "print(li)"
   ]
  },
  {
   "cell_type": "markdown",
   "metadata": {},
   "source": [
    "## 2. Tuples\n",
    "\n",
    "Tuples are very similar to lists, but with some key differences."
   ]
  },
  {
   "cell_type": "markdown",
   "metadata": {},
   "source": [
    "Syntax is very similar:"
   ]
  },
  {
   "cell_type": "code",
   "execution_count": null,
   "metadata": {},
   "outputs": [],
   "source": [
    "t = (1987, 10, 24) # note paranthesis instead of square brackets"
   ]
  },
  {
   "cell_type": "markdown",
   "metadata": {},
   "source": [
    "And you can index them similarly to lists"
   ]
  },
  {
   "cell_type": "code",
   "execution_count": null,
   "metadata": {},
   "outputs": [],
   "source": [
    "print(t[1])"
   ]
  },
  {
   "cell_type": "markdown",
   "metadata": {},
   "source": [
    "One large difference is that tuples are not mutable, meaning you can not re-assign the values within."
   ]
  },
  {
   "cell_type": "code",
   "execution_count": null,
   "metadata": {},
   "outputs": [],
   "source": [
    "t[1] = 11 # this is going to give an error!"
   ]
  },
  {
   "cell_type": "markdown",
   "metadata": {},
   "source": [
    "The main idea when using tuples compared to lists are that:\n",
    " * list is a sequence of similar type of data, where each element is meant to be processed separatly\n",
    " * tuples are a logical sequence of data that can be different types that is meant to be processed together."
   ]
  },
  {
   "cell_type": "markdown",
   "metadata": {},
   "source": [
    "## 3. Dictionaries\n",
    "\n",
    "Dictionaries are mappings from hashable values to arbitrary objects. They define a list of keys that each point to an object. Below is an example of a mapping (not Python) that has the keys 'a', 'b' and 'c', that each point respectively to the values 1, 2 and 3.\n",
    "\n",
    "```\n",
    "{\n",
    "    'a' => 1\n",
    "    'b' => 2\n",
    "    'c' => 3\n",
    "}\n",
    "```"
   ]
  },
  {
   "cell_type": "markdown",
   "metadata": {},
   "source": [
    "### 3.1 Initialization \n",
    "\n",
    "In Python dictionaries kan be either initialized using the `dict` constructor and keyword input parameters as start values:"
   ]
  },
  {
   "cell_type": "code",
   "execution_count": 19,
   "metadata": {},
   "outputs": [
    {
     "name": "stdout",
     "output_type": "stream",
     "text": [
      "{'a': 1, 'b': 2, 'c': 3}\n"
     ]
    }
   ],
   "source": [
    "d = dict(a=1, b=2, c=3)\n",
    "print(d)"
   ]
  },
  {
   "cell_type": "markdown",
   "metadata": {},
   "source": [
    "We can also do this using a statement within `{}`, where we specify the keys and their values \n",
    "```python\n",
    "{\n",
    "    key1: value1,\n",
    "    key2: value2,\n",
    "}\n",
    "```"
   ]
  },
  {
   "cell_type": "code",
   "execution_count": 20,
   "metadata": {},
   "outputs": [
    {
     "name": "stdout",
     "output_type": "stream",
     "text": [
      "{'a': 1, 'b': 2, 'c': 3}\n"
     ]
    }
   ],
   "source": [
    "d = {\n",
    "    'a': 1,\n",
    "    'b': 2,\n",
    "    'c': 3,\n",
    "}\n",
    "print(d)"
   ]
  },
  {
   "cell_type": "markdown",
   "metadata": {},
   "source": [
    "Notice how in the first example keys are defaulted to the `str` type (which is also the most common scenario). But using the second version we specified this manually. Using the second version we can create dictionaries with other key types than strings, and you don't need to use the same:"
   ]
  },
  {
   "cell_type": "code",
   "execution_count": 21,
   "metadata": {},
   "outputs": [
    {
     "name": "stdout",
     "output_type": "stream",
     "text": [
      "{'a': 1, 39: [[1, 2, 3], [4, 5, 6], [7, 8, 9]], 'Hello,': 'World', False: 0}\n"
     ]
    }
   ],
   "source": [
    "# here is a quite wild dictionary that contains a little of everything\n",
    "d = {\n",
    "    'a': 1,\n",
    "    39: [[1,2,3],[4,5,6],[7,8,9]],\n",
    "    \"Hello,\": \"World\",\n",
    "    False: 0,\n",
    "}\n",
    "print(d)"
   ]
  },
  {
   "cell_type": "markdown",
   "metadata": {},
   "source": [
    "Dictionaries can also be created in the same list comprehension syntax:"
   ]
  },
  {
   "cell_type": "code",
   "execution_count": 22,
   "metadata": {},
   "outputs": [
    {
     "name": "stdout",
     "output_type": "stream",
     "text": [
      "{'a': 1, 'b': 2, 'c': 3, 'd': 4}\n"
     ]
    }
   ],
   "source": [
    "keys = [\"a\", \"b\", \"c\", \"d\"]\n",
    "D = {key: i+1 for i, key in enumerate(keys)}\n",
    "print(D)"
   ]
  },
  {
   "cell_type": "markdown",
   "metadata": {},
   "source": [
    "### 3.2 Indexing and muting objects\n",
    "\n",
    "The syntax is the same as with lists except that instead of strictly using integers for indexing you can use any type that you used for creating keys."
   ]
  },
  {
   "cell_type": "code",
   "execution_count": 23,
   "metadata": {},
   "outputs": [
    {
     "name": "stdout",
     "output_type": "stream",
     "text": [
      "1\n",
      "0\n"
     ]
    }
   ],
   "source": [
    "print(d['a'])\n",
    "print(d[False])"
   ]
  },
  {
   "cell_type": "markdown",
   "metadata": {},
   "source": [
    "To re-assign a value you just need to use the different assignment operators `=` operator."
   ]
  },
  {
   "cell_type": "code",
   "execution_count": 24,
   "metadata": {},
   "outputs": [
    {
     "name": "stdout",
     "output_type": "stream",
     "text": [
      "{'a': 1, 39: [[1, 2, 3], [4, 5, 6], [7, 8, 9]], 'Hello,': 'class', False: 0}\n"
     ]
    }
   ],
   "source": [
    "d[\"Hello,\"] = \"class\"\n",
    "print(d)"
   ]
  },
  {
   "cell_type": "code",
   "execution_count": 25,
   "metadata": {},
   "outputs": [
    {
     "name": "stdout",
     "output_type": "stream",
     "text": [
      "{'a': 1, 39: [[1, 2, 3], [4, 5, 6], [7, 8, 9]], 'Hello,': 'class', False: 10}\n"
     ]
    }
   ],
   "source": [
    "d[False] += 10\n",
    "print(d)"
   ]
  },
  {
   "cell_type": "markdown",
   "metadata": {},
   "source": [
    "If you want to add a new key and value pair it is the exact same syntax."
   ]
  },
  {
   "cell_type": "code",
   "execution_count": 26,
   "metadata": {},
   "outputs": [
    {
     "name": "stdout",
     "output_type": "stream",
     "text": [
      "{'a': 1, 39: [[1, 2, 3], [4, 5, 6], [7, 8, 9]], 'Hello,': 'class', False: 10, 'b': 2}\n"
     ]
    }
   ],
   "source": [
    "d['b'] = 2\n",
    "print(d)"
   ]
  },
  {
   "cell_type": "markdown",
   "metadata": {},
   "source": [
    "### 3.3. Iterating\n",
    "\n",
    "There are many ways you can iterate over dictionaries. You can use a `for`-loop directly, and in this we will be iterating over the keys, that we can use to access the elements."
   ]
  },
  {
   "cell_type": "code",
   "execution_count": 27,
   "metadata": {},
   "outputs": [
    {
     "name": "stdout",
     "output_type": "stream",
     "text": [
      "a\n",
      "39\n",
      "Hello,\n",
      "False\n",
      "b\n"
     ]
    }
   ],
   "source": [
    "for key in d:\n",
    "    print(key)"
   ]
  },
  {
   "cell_type": "markdown",
   "metadata": {},
   "source": [
    "If you would like for the key and the value directly in each step of the loop, you can use the `items` function of the dictionary:"
   ]
  },
  {
   "cell_type": "code",
   "execution_count": 28,
   "metadata": {},
   "outputs": [
    {
     "name": "stdout",
     "output_type": "stream",
     "text": [
      "a => 1\n",
      "39 => [[1, 2, 3], [4, 5, 6], [7, 8, 9]]\n",
      "Hello, => class\n",
      "False => 10\n",
      "b => 2\n"
     ]
    }
   ],
   "source": [
    "for key, value in d.items():\n",
    "    print(key, \"=>\", value)"
   ]
  },
  {
   "cell_type": "markdown",
   "metadata": {},
   "source": [
    "Dictionaries have a `values` function that can be used to iterate on only the values within dictionary:"
   ]
  },
  {
   "cell_type": "code",
   "execution_count": 29,
   "metadata": {},
   "outputs": [
    {
     "name": "stdout",
     "output_type": "stream",
     "text": [
      "1\n",
      "[[1, 2, 3], [4, 5, 6], [7, 8, 9]]\n",
      "class\n",
      "10\n",
      "2\n"
     ]
    }
   ],
   "source": [
    "for value in d.values():\n",
    "    print(value)"
   ]
  },
  {
   "cell_type": "markdown",
   "metadata": {},
   "source": [
    "### Exercises"
   ]
  },
  {
   "cell_type": "markdown",
   "metadata": {},
   "source": [
    "#### Word counter\n",
    "\n",
    "Just like with lists you use the `in` keyword on dictionaries, but to check if a certain key is available in the dictionary"
   ]
  },
  {
   "cell_type": "code",
   "execution_count": 30,
   "metadata": {},
   "outputs": [
    {
     "data": {
      "text/plain": [
       "True"
      ]
     },
     "execution_count": 30,
     "metadata": {},
     "output_type": "execute_result"
    }
   ],
   "source": [
    "'a' in d"
   ]
  },
  {
   "cell_type": "markdown",
   "metadata": {},
   "source": [
    "In this exercise we want to create a word counter. You will write a function that takes a string as an input parameter and returns a dictionary that maps the words in the text to their number of occurrences."
   ]
  },
  {
   "cell_type": "markdown",
   "metadata": {},
   "source": [
    "**TIP**\n",
    "\n",
    "`str` objects have a `split` function that you can use to create a list of substrings, where the original value has been split at each occurrence of the delimiter"
   ]
  },
  {
   "cell_type": "code",
   "execution_count": 31,
   "metadata": {},
   "outputs": [
    {
     "data": {
      "text/plain": [
       "['split', 'these', 'words']"
      ]
     },
     "execution_count": 31,
     "metadata": {},
     "output_type": "execute_result"
    }
   ],
   "source": [
    "\"split,these,words\".split(\",\") # split on \",\" characters "
   ]
  },
  {
   "cell_type": "code",
   "execution_count": 34,
   "metadata": {},
   "outputs": [],
   "source": [
    "# your code here\n",
    "def occurrences(txt):\n",
    "    occ = {}\n",
    "    for word in txt.split(\" \"):\n",
    "        if word in occ:\n",
    "            occ[word] += 1\n",
    "        else:\n",
    "            occ[word] = 1\n",
    "    return occ"
   ]
  },
  {
   "cell_type": "code",
   "execution_count": 35,
   "metadata": {},
   "outputs": [
    {
     "name": "stdout",
     "output_type": "stream",
     "text": [
      "{'insertion': 2, 'sort': 2, 'iterates': 1, 'consuming': 1, 'one': 2, 'input': 3, 'element': 2, 'each': 2, 'repetition': 1, 'and': 2, 'growing': 1, 'a': 1, 'sorted': 2, 'output': 1, 'list': 2, 'at': 1, 'iteration': 1, 'removes': 1, 'from': 1, 'the': 3, 'data': 1, 'finds': 1, 'location': 1, 'it': 2, 'belongs': 1, 'within': 1, 'inserts': 1, 'there': 1, 'It': 1, 'repeats': 1, 'until': 1, 'no': 1, 'elements': 1, 'remain': 1}\n"
     ]
    }
   ],
   "source": [
    "text = \"\"\"insertion sort iterates consuming one input element each repetition and growing a sorted output list at each iteration insertion sort removes one element from the input data finds the location it belongs within the sorted list and inserts it there It repeats until no input elements remain\"\"\"\n",
    "counts = occurrences(text)\n",
    "print(counts)"
   ]
  },
  {
   "cell_type": "markdown",
   "metadata": {},
   "source": [
    "#### Generate a dictionary\n",
    "\n",
    "Create a function that takes a parameter `n` and returns a dictionary that has as keys all values from 1 to `n` pointing to the key value at power to 3.\n",
    "\n",
    "```\n",
    "{\n",
    "    1: 1^3,\n",
    "    2: 2^3,\n",
    "    ...\n",
    "    n: n^3,\n",
    "```\n",
    "\n",
    "**Reminder** the `**` operator gives the exponential."
   ]
  },
  {
   "cell_type": "code",
   "execution_count": 38,
   "metadata": {},
   "outputs": [],
   "source": [
    "# your code here\n",
    "def exp3(n):\n",
    "    return {v: v**3 for v in range(1, n+1)}"
   ]
  },
  {
   "cell_type": "code",
   "execution_count": 39,
   "metadata": {},
   "outputs": [
    {
     "name": "stdout",
     "output_type": "stream",
     "text": [
      "8\n",
      "64\n"
     ]
    }
   ],
   "source": [
    "di = exp3(20)\n",
    "print(di[2]) # should print 8 (= 2^3)\n",
    "print(di[4]) # should print 64"
   ]
  },
  {
   "cell_type": "markdown",
   "metadata": {},
   "source": [
    "## 4. Generators [advanced]\n",
    "\n",
    "We have looked at ways on how we can store and work with larger amounts of static data. This section will introduce you to some ideas on how we can work and iterate with more dynamic data.\n",
    "\n",
    "There might be cases that you have an enormous amount of data that you need to process, that you just can not load at one time into memory. Instead you want to load chunks that you work with one at a time. One way of doing this is using generators.\n",
    "\n",
    "Generators are basically functions that use a `yield` statement to return a new chunk. The function halts after the `yield` and will continue when next chunk is requested. A basic example looks like this."
   ]
  },
  {
   "cell_type": "code",
   "execution_count": null,
   "metadata": {},
   "outputs": [],
   "source": [
    "# create a generator that works like range but yields one value at a time\n",
    "def gen_range(n):\n",
    "    i = 0\n",
    "    while i < n:\n",
    "        yield i\n",
    "        i += 1"
   ]
  },
  {
   "cell_type": "code",
   "execution_count": null,
   "metadata": {},
   "outputs": [],
   "source": [
    "g = gen_range(10)\n",
    "print(type(g))"
   ]
  },
  {
   "cell_type": "code",
   "execution_count": null,
   "metadata": {},
   "outputs": [],
   "source": [
    "for v in g:\n",
    "    print(v)"
   ]
  },
  {
   "cell_type": "markdown",
   "metadata": {},
   "source": [
    "Here is a little more advanced example where group in chunks of 10 before yielding"
   ]
  },
  {
   "cell_type": "code",
   "execution_count": null,
   "metadata": {},
   "outputs": [],
   "source": [
    "# create a generator that returns a list of values between 0:99 in chunks of 10.\n",
    "def gen():\n",
    "    chunk = []\n",
    "    for i in range(100):\n",
    "        chunk.append(i)\n",
    "        if len(chunk) == 10: # when chunk has a length of 10 we yield it\n",
    "            yield chunk\n",
    "            chunk = [] # empty it for next time"
   ]
  },
  {
   "cell_type": "code",
   "execution_count": null,
   "metadata": {},
   "outputs": [],
   "source": [
    "for chunk in gen():\n",
    "    print(chunk)"
   ]
  },
  {
   "cell_type": "markdown",
   "metadata": {},
   "source": [
    "### Exercise [optional]\n",
    "\n",
    "#### Generator for lines in file\n",
    "\n",
    "Try writing a generator that reads the lines of a file and returns them in groups of 5."
   ]
  },
  {
   "cell_type": "markdown",
   "metadata": {},
   "source": [
    "##  5. Lambda functions\n",
    "\n",
    "Lambda functions can be seen as one-line functions that take an input and return a new value. They are created using the `lambda` keyword: \n",
    "\n",
    "`lambda` *input*`:`*output*"
   ]
  },
  {
   "cell_type": "code",
   "execution_count": null,
   "metadata": {},
   "outputs": [],
   "source": [
    "la = lambda x: x + 1"
   ]
  },
  {
   "cell_type": "code",
   "execution_count": null,
   "metadata": {},
   "outputs": [],
   "source": [
    "print(type(la))"
   ]
  },
  {
   "cell_type": "code",
   "execution_count": null,
   "metadata": {},
   "outputs": [],
   "source": [
    "la(10)"
   ]
  },
  {
   "cell_type": "markdown",
   "metadata": {},
   "source": [
    "Lambda functions can also take several inputs:"
   ]
  },
  {
   "cell_type": "code",
   "execution_count": null,
   "metadata": {},
   "outputs": [],
   "source": [
    "la = lambda x, y: x + y # create an add function as lambda "
   ]
  },
  {
   "cell_type": "code",
   "execution_count": null,
   "metadata": {},
   "outputs": [],
   "source": [
    "la(10, 10)"
   ]
  },
  {
   "cell_type": "markdown",
   "metadata": {},
   "source": [
    "### Exercise"
   ]
  },
  {
   "cell_type": "markdown",
   "metadata": {},
   "source": [
    "In our first class we saw inner functions and how they are nice way to create functions that are not be shared to an outter scope. Following we had an example of how we used inner functions:"
   ]
  },
  {
   "cell_type": "code",
   "execution_count": 40,
   "metadata": {},
   "outputs": [],
   "source": [
    "def foo(x):\n",
    "    def foo_(x):\n",
    "        x += 5\n",
    "        x **= 2\n",
    "        x /= 10\n",
    "        return x\n",
    "    for i in range(4):\n",
    "        x = foo_(x)\n",
    "    return x"
   ]
  },
  {
   "cell_type": "code",
   "execution_count": 41,
   "metadata": {},
   "outputs": [
    {
     "data": {
      "text/plain": [
       "650.0390625"
      ]
     },
     "execution_count": 41,
     "metadata": {},
     "output_type": "execute_result"
    }
   ],
   "source": [
    "foo(5)"
   ]
  },
  {
   "cell_type": "markdown",
   "metadata": {},
   "source": [
    "Please re-write this function using `lambda` functions"
   ]
  },
  {
   "cell_type": "code",
   "execution_count": 42,
   "metadata": {},
   "outputs": [],
   "source": [
    "# your code here\n",
    "def foo(x):\n",
    "    foo_ = lambda x: ((x + 5) ** 2) / 10\n",
    "    for i in range(4):\n",
    "        x = foo_(x)\n",
    "    return x"
   ]
  },
  {
   "cell_type": "code",
   "execution_count": 43,
   "metadata": {},
   "outputs": [
    {
     "data": {
      "text/plain": [
       "650.0390625"
      ]
     },
     "execution_count": 43,
     "metadata": {},
     "output_type": "execute_result"
    }
   ],
   "source": [
    "foo(5)"
   ]
  },
  {
   "cell_type": "markdown",
   "metadata": {},
   "source": [
    "Note how we do not need a return statement in `lamdba` functions. They are only one expression, and it is to define what is returned in the end. They are very useful when you are calling a function that takes another function as input parameter."
   ]
  },
  {
   "cell_type": "markdown",
   "metadata": {},
   "source": [
    "#### map\n",
    "\n",
    "One such function where defining `lambda` function comes in handy is the `map` function. `map` takes two parameters:\n",
    " * a function\n",
    " * an iterable (e.g. list)\n",
    "\n",
    "`map` iterates over the list and returns a new list as a `map` type where each value is the output of calling it's first argument (the function) with the current element. Here is an example to illustrate a little more."
   ]
  },
  {
   "cell_type": "code",
   "execution_count": null,
   "metadata": {},
   "outputs": [],
   "source": [
    "li = [0, 1, 2, 3, 4, 5, 6, 7, 8, 9] # create a list 0 - 9"
   ]
  },
  {
   "cell_type": "code",
   "execution_count": null,
   "metadata": {},
   "outputs": [],
   "source": [
    "new_list = list(map(lambda x: x**2, li)) # note how we convert to a list\n",
    "print(new_list)"
   ]
  },
  {
   "cell_type": "markdown",
   "metadata": {},
   "source": [
    "#### filter\n",
    "\n",
    "`filter` is another useful function that returns a new list as a `filter` object with all elements from the original list that give `True` for the input function."
   ]
  },
  {
   "cell_type": "code",
   "execution_count": null,
   "metadata": {},
   "outputs": [],
   "source": [
    "new_list = list(filter(lambda x: x > 4, li))\n",
    "print(new_list)"
   ]
  }
 ],
 "metadata": {
  "kernelspec": {
   "display_name": "Python 3",
   "language": "python",
   "name": "python3"
  },
  "language_info": {
   "codemirror_mode": {
    "name": "ipython",
    "version": 3
   },
   "file_extension": ".py",
   "mimetype": "text/x-python",
   "name": "python",
   "nbconvert_exporter": "python",
   "pygments_lexer": "ipython3",
   "version": "3.7.2"
  }
 },
 "nbformat": 4,
 "nbformat_minor": 2
}
